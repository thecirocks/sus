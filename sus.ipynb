{
 "cells": [
  {
   "cell_type": "markdown",
   "metadata": {},
   "source": [
    "__________________________"
   ]
  },
  {
   "cell_type": "markdown",
   "metadata": {},
   "source": [
    "## Notebook for ImpulsoGOV Data Analysis Case"
   ]
  },
  {
   "cell_type": "markdown",
   "metadata": {},
   "source": [
    "# Candidate: Fernando Cirone - 16th November 2024\n",
    "#### [LinkInd](https://www.linkedin.com/in/fernandocirone/) | [GitHub](https://github.com/thecirocks) | [Portfolio](https://troopl.com/fernandocirone) | [E-mail](mailto:fernando.cirone@hotmail.com) | [WhatsApp](https://api.whatsapp.com/send?phone=5521984316148)"
   ]
  },
  {
   "cell_type": "markdown",
   "metadata": {},
   "source": [
    "____________________"
   ]
  },
  {
   "cell_type": "markdown",
   "metadata": {},
   "source": [
    "## 🚨 TASK 🚨 "
   ]
  },
  {
   "cell_type": "markdown",
   "metadata": {},
   "source": [
    "### Monitoring User Behavior in the Product\n",
    "\n",
    "To measure the impact of our solutions, we consider it essential to track the success of the tools we provide to our users (SUS managers and healthcare professionals).\n",
    "\n",
    "In this case study, we will ask you to perform an exploratory analysis to identify usage patterns and draw conclusions about the engagement with Impulso Previne's main tool: the nominal lists.\n",
    "\n",
    "The exploration should focus on deriving insights related to the following three points:\n",
    "\n",
    "- First access rates to the nominal lists; <br>\n",
    "- Comparison of activity between different user roles/positions; <br>\n",
    "- Behavioral patterns in the usage of the nominal lists; <br>"
   ]
  },
  {
   "cell_type": "markdown",
   "metadata": {},
   "source": [
    "### What it' the nominal list?\n",
    "\n",
    "Nominal lists are tools that consolidate data by individual citizen, indicating the status of appointments, exams, procedures, and other aspects.\n",
    "They enable actions such as filtering, searching, sorting, and also provide the option to print the list for sharing in PDF format or for use on paper."
   ]
  },
  {
   "cell_type": "markdown",
   "metadata": {},
   "source": [
    "### Analysis must contain:\n",
    "\n",
    "**Explanation of Metrics**: Explain the metrics used for the exploration, including definitions and assumptions adopted.\n",
    "\n",
    "**Visualizations**: Include at least one visualization to support the conclusions for each of the three points of analysis.\n",
    "\n",
    "**Conclusions**: Present specific insights for each of the three topics. These conclusions may explore comparisons, variations, patterns in historical data, classification into categories, among other aspects. Focus on up to two conclusions you consider most relevant for each of the three points."
   ]
  },
  {
   "cell_type": "markdown",
   "metadata": {},
   "source": [
    "### Data Glossary\n",
    "\n",
    "usuarios_cadastrados_ip: Contains information about users who registered and can access the logged-in area of the product.\n",
    "\n",
    "- usuario_id: unique identifier of the user <br>\n",
    "- data_criacao_cadastro: user registration creation date <br>\n",
    "- municipio, cargo: user's municipality and role <br>\n",
    "\n",
    "\n",
    "dias_ativo_usuarios_ip: Data about the days users were active in the logged-in area of the product. Each row represents a day that a user was active on the platform.\n",
    "\n",
    "- usuario_id: unique identifier of the user <br>\n",
    "- data_ativo: user activity date <br>\n",
    "- acessou_listas_nominais: true if the user accessed at least one nominal list <br>\n",
    "- clicks_imprimir_lista: number of clicks to print a nominal list <br>\n",
    "- clicks_filtrar_lista: number of clicks to apply a filter to the nominal list <br>"
   ]
  },
  {
   "cell_type": "markdown",
   "metadata": {},
   "source": [
    "____________________"
   ]
  },
  {
   "cell_type": "markdown",
   "metadata": {},
   "source": [
    "# 0. Import Python Libraries"
   ]
  },
  {
   "cell_type": "code",
   "execution_count": 1,
   "metadata": {},
   "outputs": [],
   "source": [
    "import pandas as pd\n",
    "import numpy as np\n",
    "import matplotlib.pyplot as plt\n",
    "import seaborn as sns"
   ]
  },
  {
   "cell_type": "code",
   "execution_count": 2,
   "metadata": {},
   "outputs": [],
   "source": [
    "#Quick analysis of the data"
   ]
  },
  {
   "cell_type": "code",
   "execution_count": 3,
   "metadata": {},
   "outputs": [
    {
     "data": {
      "text/html": [
       "<div>\n",
       "<style scoped>\n",
       "    .dataframe tbody tr th:only-of-type {\n",
       "        vertical-align: middle;\n",
       "    }\n",
       "\n",
       "    .dataframe tbody tr th {\n",
       "        vertical-align: top;\n",
       "    }\n",
       "\n",
       "    .dataframe thead th {\n",
       "        text-align: right;\n",
       "    }\n",
       "</style>\n",
       "<table border=\"1\" class=\"dataframe\">\n",
       "  <thead>\n",
       "    <tr style=\"text-align: right;\">\n",
       "      <th></th>\n",
       "      <th>usuario_id</th>\n",
       "      <th>municipio</th>\n",
       "      <th>cargo</th>\n",
       "      <th>data_criacao_cadastro</th>\n",
       "    </tr>\n",
       "  </thead>\n",
       "  <tbody>\n",
       "    <tr>\n",
       "      <th>0</th>\n",
       "      <td>a034d9fc-d54a-4a89-bdef-2e596af3a856</td>\n",
       "      <td>São Roque - SP</td>\n",
       "      <td>Coordenação de Equipe</td>\n",
       "      <td>23/3/2023</td>\n",
       "    </tr>\n",
       "    <tr>\n",
       "      <th>1</th>\n",
       "      <td>877b90f4-d597-4348-a2e7-e29c4f3b3f4e</td>\n",
       "      <td>Marechal Thaumaturgo - AC</td>\n",
       "      <td>Coordenação APS</td>\n",
       "      <td>24/10/2023</td>\n",
       "    </tr>\n",
       "  </tbody>\n",
       "</table>\n",
       "</div>"
      ],
      "text/plain": [
       "                             usuario_id                  municipio  \\\n",
       "0  a034d9fc-d54a-4a89-bdef-2e596af3a856             São Roque - SP   \n",
       "1  877b90f4-d597-4348-a2e7-e29c4f3b3f4e  Marechal Thaumaturgo - AC   \n",
       "\n",
       "                   cargo data_criacao_cadastro  \n",
       "0  Coordenação de Equipe             23/3/2023  \n",
       "1        Coordenação APS            24/10/2023  "
      ]
     },
     "execution_count": 3,
     "metadata": {},
     "output_type": "execute_result"
    }
   ],
   "source": [
    "df1 = pd.read_csv('data/usuarios_cadastrados_ip.csv', delimiter=',')\n",
    "df1.head(2)"
   ]
  },
  {
   "cell_type": "code",
   "execution_count": 4,
   "metadata": {},
   "outputs": [
    {
     "data": {
      "text/html": [
       "<div>\n",
       "<style scoped>\n",
       "    .dataframe tbody tr th:only-of-type {\n",
       "        vertical-align: middle;\n",
       "    }\n",
       "\n",
       "    .dataframe tbody tr th {\n",
       "        vertical-align: top;\n",
       "    }\n",
       "\n",
       "    .dataframe thead th {\n",
       "        text-align: right;\n",
       "    }\n",
       "</style>\n",
       "<table border=\"1\" class=\"dataframe\">\n",
       "  <thead>\n",
       "    <tr style=\"text-align: right;\">\n",
       "      <th></th>\n",
       "      <th>usuario_id</th>\n",
       "      <th>data_ativo</th>\n",
       "      <th>acessou_listas_nominais</th>\n",
       "      <th>clicks_imprimir_lista</th>\n",
       "      <th>clicks_filtrar_lista</th>\n",
       "    </tr>\n",
       "  </thead>\n",
       "  <tbody>\n",
       "    <tr>\n",
       "      <th>0</th>\n",
       "      <td>dec6bb91-05a8-4709-a7af-ab2aba6d1f3e</td>\n",
       "      <td>18/12/2023</td>\n",
       "      <td>True</td>\n",
       "      <td>0</td>\n",
       "      <td>0</td>\n",
       "    </tr>\n",
       "    <tr>\n",
       "      <th>1</th>\n",
       "      <td>0a83d262-3630-41a5-b36f-a48ebe9f80e2</td>\n",
       "      <td>18/12/2023</td>\n",
       "      <td>True</td>\n",
       "      <td>0</td>\n",
       "      <td>0</td>\n",
       "    </tr>\n",
       "  </tbody>\n",
       "</table>\n",
       "</div>"
      ],
      "text/plain": [
       "                             usuario_id  data_ativo  acessou_listas_nominais  \\\n",
       "0  dec6bb91-05a8-4709-a7af-ab2aba6d1f3e  18/12/2023                     True   \n",
       "1  0a83d262-3630-41a5-b36f-a48ebe9f80e2  18/12/2023                     True   \n",
       "\n",
       "   clicks_imprimir_lista  clicks_filtrar_lista  \n",
       "0                      0                     0  \n",
       "1                      0                     0  "
      ]
     },
     "execution_count": 4,
     "metadata": {},
     "output_type": "execute_result"
    }
   ],
   "source": [
    "df2 = pd.read_csv('data/dias_ativo_usuarios_ip.csv', delimiter=',')\n",
    "df2.head(2)"
   ]
  },
  {
   "cell_type": "code",
   "execution_count": 5,
   "metadata": {},
   "outputs": [],
   "source": [
    "# As we can see above: there is one key that matches the both dfs: usuario_id - merge both dfs in one to enhance analysis"
   ]
  },
  {
   "cell_type": "code",
   "execution_count": 6,
   "metadata": {},
   "outputs": [],
   "source": [
    "# But first quick check if there is null or duplicates"
   ]
  },
  {
   "cell_type": "code",
   "execution_count": 7,
   "metadata": {},
   "outputs": [],
   "source": [
    "#df1"
   ]
  },
  {
   "cell_type": "code",
   "execution_count": 8,
   "metadata": {},
   "outputs": [
    {
     "data": {
      "text/html": [
       "<div>\n",
       "<style scoped>\n",
       "    .dataframe tbody tr th:only-of-type {\n",
       "        vertical-align: middle;\n",
       "    }\n",
       "\n",
       "    .dataframe tbody tr th {\n",
       "        vertical-align: top;\n",
       "    }\n",
       "\n",
       "    .dataframe thead th {\n",
       "        text-align: right;\n",
       "    }\n",
       "</style>\n",
       "<table border=\"1\" class=\"dataframe\">\n",
       "  <thead>\n",
       "    <tr style=\"text-align: right;\">\n",
       "      <th></th>\n",
       "      <th>usuario_id</th>\n",
       "      <th>municipio</th>\n",
       "      <th>cargo</th>\n",
       "      <th>data_criacao_cadastro</th>\n",
       "    </tr>\n",
       "  </thead>\n",
       "  <tbody>\n",
       "    <tr>\n",
       "      <th>0</th>\n",
       "      <td>a034d9fc-d54a-4a89-bdef-2e596af3a856</td>\n",
       "      <td>São Roque - SP</td>\n",
       "      <td>Coordenação de Equipe</td>\n",
       "      <td>23/3/2023</td>\n",
       "    </tr>\n",
       "  </tbody>\n",
       "</table>\n",
       "</div>"
      ],
      "text/plain": [
       "                             usuario_id       municipio  \\\n",
       "0  a034d9fc-d54a-4a89-bdef-2e596af3a856  São Roque - SP   \n",
       "\n",
       "                   cargo data_criacao_cadastro  \n",
       "0  Coordenação de Equipe             23/3/2023  "
      ]
     },
     "execution_count": 8,
     "metadata": {},
     "output_type": "execute_result"
    }
   ],
   "source": [
    "df1.head(1)"
   ]
  },
  {
   "cell_type": "code",
   "execution_count": 9,
   "metadata": {},
   "outputs": [
    {
     "data": {
      "text/plain": [
       "(695, 4)"
      ]
     },
     "execution_count": 9,
     "metadata": {},
     "output_type": "execute_result"
    }
   ],
   "source": [
    "df1.shape"
   ]
  },
  {
   "cell_type": "code",
   "execution_count": 10,
   "metadata": {},
   "outputs": [
    {
     "name": "stdout",
     "output_type": "stream",
     "text": [
      "<class 'pandas.core.frame.DataFrame'>\n",
      "RangeIndex: 695 entries, 0 to 694\n",
      "Data columns (total 4 columns):\n",
      " #   Column                 Non-Null Count  Dtype \n",
      "---  ------                 --------------  ----- \n",
      " 0   usuario_id             695 non-null    object\n",
      " 1   municipio              695 non-null    object\n",
      " 2   cargo                  695 non-null    object\n",
      " 3   data_criacao_cadastro  695 non-null    object\n",
      "dtypes: object(4)\n",
      "memory usage: 21.8+ KB\n"
     ]
    }
   ],
   "source": [
    "df1.info()"
   ]
  },
  {
   "cell_type": "code",
   "execution_count": 11,
   "metadata": {},
   "outputs": [
    {
     "data": {
      "text/plain": [
       "False    695\n",
       "Name: count, dtype: int64"
      ]
     },
     "execution_count": 11,
     "metadata": {},
     "output_type": "execute_result"
    }
   ],
   "source": [
    "df1.duplicated().value_counts()"
   ]
  },
  {
   "cell_type": "code",
   "execution_count": 12,
   "metadata": {},
   "outputs": [
    {
     "data": {
      "text/html": [
       "<div>\n",
       "<style scoped>\n",
       "    .dataframe tbody tr th:only-of-type {\n",
       "        vertical-align: middle;\n",
       "    }\n",
       "\n",
       "    .dataframe tbody tr th {\n",
       "        vertical-align: top;\n",
       "    }\n",
       "\n",
       "    .dataframe thead th {\n",
       "        text-align: right;\n",
       "    }\n",
       "</style>\n",
       "<table border=\"1\" class=\"dataframe\">\n",
       "  <thead>\n",
       "    <tr style=\"text-align: right;\">\n",
       "      <th></th>\n",
       "      <th>usuario_id</th>\n",
       "      <th>municipio</th>\n",
       "      <th>cargo</th>\n",
       "      <th>data_criacao_cadastro</th>\n",
       "    </tr>\n",
       "  </thead>\n",
       "  <tbody>\n",
       "    <tr>\n",
       "      <th>count</th>\n",
       "      <td>695</td>\n",
       "      <td>695</td>\n",
       "      <td>695</td>\n",
       "      <td>695</td>\n",
       "    </tr>\n",
       "    <tr>\n",
       "      <th>unique</th>\n",
       "      <td>695</td>\n",
       "      <td>70</td>\n",
       "      <td>2</td>\n",
       "      <td>106</td>\n",
       "    </tr>\n",
       "    <tr>\n",
       "      <th>top</th>\n",
       "      <td>8e1f3b8a-ff3b-4712-ad5d-7cb3e3f1271c</td>\n",
       "      <td>Itabira - MG</td>\n",
       "      <td>Coordenação de Equipe</td>\n",
       "      <td>16/3/2023</td>\n",
       "    </tr>\n",
       "    <tr>\n",
       "      <th>freq</th>\n",
       "      <td>1</td>\n",
       "      <td>38</td>\n",
       "      <td>568</td>\n",
       "      <td>55</td>\n",
       "    </tr>\n",
       "  </tbody>\n",
       "</table>\n",
       "</div>"
      ],
      "text/plain": [
       "                                  usuario_id     municipio  \\\n",
       "count                                    695           695   \n",
       "unique                                   695            70   \n",
       "top     8e1f3b8a-ff3b-4712-ad5d-7cb3e3f1271c  Itabira - MG   \n",
       "freq                                       1            38   \n",
       "\n",
       "                        cargo data_criacao_cadastro  \n",
       "count                     695                   695  \n",
       "unique                      2                   106  \n",
       "top     Coordenação de Equipe             16/3/2023  \n",
       "freq                      568                    55  "
      ]
     },
     "execution_count": 12,
     "metadata": {},
     "output_type": "execute_result"
    }
   ],
   "source": [
    "df1.describe()"
   ]
  },
  {
   "cell_type": "code",
   "execution_count": 13,
   "metadata": {},
   "outputs": [
    {
     "data": {
      "text/plain": [
       "usuario_id  municipio  cargo  data_criacao_cadastro\n",
       "False       False      False  False                    695\n",
       "Name: count, dtype: int64"
      ]
     },
     "execution_count": 13,
     "metadata": {},
     "output_type": "execute_result"
    }
   ],
   "source": [
    "df1.isnull().value_counts()"
   ]
  },
  {
   "cell_type": "code",
   "execution_count": 14,
   "metadata": {},
   "outputs": [
    {
     "data": {
      "text/plain": [
       "usuario_id               0\n",
       "municipio                0\n",
       "cargo                    0\n",
       "data_criacao_cadastro    0\n",
       "dtype: int64"
      ]
     },
     "execution_count": 14,
     "metadata": {},
     "output_type": "execute_result"
    }
   ],
   "source": [
    "df1.isna().sum()"
   ]
  },
  {
   "cell_type": "code",
   "execution_count": 15,
   "metadata": {},
   "outputs": [],
   "source": [
    "#Conclusion df1: df1 has no null, no duplicated, has 4 features and 695 rows"
   ]
  },
  {
   "cell_type": "code",
   "execution_count": 16,
   "metadata": {},
   "outputs": [],
   "source": [
    "#df2 analysis:"
   ]
  },
  {
   "cell_type": "code",
   "execution_count": 17,
   "metadata": {},
   "outputs": [
    {
     "data": {
      "text/html": [
       "<div>\n",
       "<style scoped>\n",
       "    .dataframe tbody tr th:only-of-type {\n",
       "        vertical-align: middle;\n",
       "    }\n",
       "\n",
       "    .dataframe tbody tr th {\n",
       "        vertical-align: top;\n",
       "    }\n",
       "\n",
       "    .dataframe thead th {\n",
       "        text-align: right;\n",
       "    }\n",
       "</style>\n",
       "<table border=\"1\" class=\"dataframe\">\n",
       "  <thead>\n",
       "    <tr style=\"text-align: right;\">\n",
       "      <th></th>\n",
       "      <th>usuario_id</th>\n",
       "      <th>data_ativo</th>\n",
       "      <th>acessou_listas_nominais</th>\n",
       "      <th>clicks_imprimir_lista</th>\n",
       "      <th>clicks_filtrar_lista</th>\n",
       "    </tr>\n",
       "  </thead>\n",
       "  <tbody>\n",
       "    <tr>\n",
       "      <th>0</th>\n",
       "      <td>dec6bb91-05a8-4709-a7af-ab2aba6d1f3e</td>\n",
       "      <td>18/12/2023</td>\n",
       "      <td>True</td>\n",
       "      <td>0</td>\n",
       "      <td>0</td>\n",
       "    </tr>\n",
       "  </tbody>\n",
       "</table>\n",
       "</div>"
      ],
      "text/plain": [
       "                             usuario_id  data_ativo  acessou_listas_nominais  \\\n",
       "0  dec6bb91-05a8-4709-a7af-ab2aba6d1f3e  18/12/2023                     True   \n",
       "\n",
       "   clicks_imprimir_lista  clicks_filtrar_lista  \n",
       "0                      0                     0  "
      ]
     },
     "execution_count": 17,
     "metadata": {},
     "output_type": "execute_result"
    }
   ],
   "source": [
    "df2.head(1)"
   ]
  },
  {
   "cell_type": "code",
   "execution_count": 18,
   "metadata": {},
   "outputs": [
    {
     "data": {
      "text/plain": [
       "(20777, 5)"
      ]
     },
     "execution_count": 18,
     "metadata": {},
     "output_type": "execute_result"
    }
   ],
   "source": [
    "df2.shape"
   ]
  },
  {
   "cell_type": "code",
   "execution_count": 19,
   "metadata": {},
   "outputs": [
    {
     "data": {
      "text/plain": [
       "acessou_listas_nominais\n",
       "True     18763\n",
       "False     2014\n",
       "Name: count, dtype: int64"
      ]
     },
     "execution_count": 19,
     "metadata": {},
     "output_type": "execute_result"
    }
   ],
   "source": [
    "df2[\"acessou_listas_nominais\"].value_counts()"
   ]
  },
  {
   "cell_type": "code",
   "execution_count": 20,
   "metadata": {},
   "outputs": [
    {
     "data": {
      "text/plain": [
       "clicks_imprimir_lista\n",
       "0      18368\n",
       "1        963\n",
       "2        468\n",
       "3        243\n",
       "4        183\n",
       "5        112\n",
       "6         93\n",
       "7         54\n",
       "8         43\n",
       "10        34\n",
       "11        29\n",
       "9         29\n",
       "12        18\n",
       "17        15\n",
       "13        15\n",
       "16        12\n",
       "14        11\n",
       "19        10\n",
       "18         9\n",
       "21         8\n",
       "22         8\n",
       "15         8\n",
       "20         5\n",
       "24         5\n",
       "26         4\n",
       "34         3\n",
       "32         3\n",
       "28         2\n",
       "31         2\n",
       "27         2\n",
       "25         2\n",
       "49         2\n",
       "41         1\n",
       "37         1\n",
       "53         1\n",
       "48         1\n",
       "60         1\n",
       "55         1\n",
       "72         1\n",
       "30         1\n",
       "234        1\n",
       "40         1\n",
       "29         1\n",
       "38         1\n",
       "63         1\n",
       "86         1\n",
       "Name: count, dtype: int64"
      ]
     },
     "execution_count": 20,
     "metadata": {},
     "output_type": "execute_result"
    }
   ],
   "source": [
    "df2[\"clicks_imprimir_lista\"].value_counts()"
   ]
  },
  {
   "cell_type": "code",
   "execution_count": 21,
   "metadata": {},
   "outputs": [
    {
     "data": {
      "text/plain": [
       "clicks_filtrar_lista\n",
       "0      17956\n",
       "1        836\n",
       "2        481\n",
       "3        318\n",
       "4        203\n",
       "       ...  \n",
       "249        1\n",
       "52         1\n",
       "53         1\n",
       "87         1\n",
       "93         1\n",
       "Name: count, Length: 62, dtype: int64"
      ]
     },
     "execution_count": 21,
     "metadata": {},
     "output_type": "execute_result"
    }
   ],
   "source": [
    "df2[\"clicks_filtrar_lista\"].value_counts()"
   ]
  },
  {
   "cell_type": "code",
   "execution_count": 22,
   "metadata": {},
   "outputs": [
    {
     "data": {
      "text/plain": [
       "(20777, 5)"
      ]
     },
     "execution_count": 22,
     "metadata": {},
     "output_type": "execute_result"
    }
   ],
   "source": [
    "df2.shape"
   ]
  },
  {
   "cell_type": "code",
   "execution_count": 23,
   "metadata": {},
   "outputs": [
    {
     "name": "stdout",
     "output_type": "stream",
     "text": [
      "<class 'pandas.core.frame.DataFrame'>\n",
      "RangeIndex: 20777 entries, 0 to 20776\n",
      "Data columns (total 5 columns):\n",
      " #   Column                   Non-Null Count  Dtype \n",
      "---  ------                   --------------  ----- \n",
      " 0   usuario_id               20777 non-null  object\n",
      " 1   data_ativo               20777 non-null  object\n",
      " 2   acessou_listas_nominais  20777 non-null  bool  \n",
      " 3   clicks_imprimir_lista    20777 non-null  int64 \n",
      " 4   clicks_filtrar_lista     20777 non-null  int64 \n",
      "dtypes: bool(1), int64(2), object(2)\n",
      "memory usage: 669.7+ KB\n"
     ]
    }
   ],
   "source": [
    "df2.info()"
   ]
  },
  {
   "cell_type": "code",
   "execution_count": 24,
   "metadata": {},
   "outputs": [
    {
     "data": {
      "text/plain": [
       "False    20777\n",
       "Name: count, dtype: int64"
      ]
     },
     "execution_count": 24,
     "metadata": {},
     "output_type": "execute_result"
    }
   ],
   "source": [
    "df2.duplicated().value_counts()"
   ]
  },
  {
   "cell_type": "code",
   "execution_count": 25,
   "metadata": {},
   "outputs": [
    {
     "data": {
      "text/plain": [
       "usuario_id                 0\n",
       "data_ativo                 0\n",
       "acessou_listas_nominais    0\n",
       "clicks_imprimir_lista      0\n",
       "clicks_filtrar_lista       0\n",
       "dtype: int64"
      ]
     },
     "execution_count": 25,
     "metadata": {},
     "output_type": "execute_result"
    }
   ],
   "source": [
    "df2.isna().sum()"
   ]
  },
  {
   "cell_type": "code",
   "execution_count": 26,
   "metadata": {},
   "outputs": [],
   "source": [
    "#Conclusion df2: df2 has no null, no duplicated, has 5 features (1 boolean) and 20.777 rows"
   ]
  },
  {
   "cell_type": "code",
   "execution_count": 27,
   "metadata": {},
   "outputs": [],
   "source": [
    "#With this conclusion above we can merge the two lists without any concern"
   ]
  },
  {
   "cell_type": "code",
   "execution_count": 28,
   "metadata": {},
   "outputs": [],
   "source": [
    "#we must merge \"inner\" because we won't use any data with missing info in any of the two dfs.\n",
    "# and then proceed to deeper analysis: is there any typo, error or trash info in each feature?"
   ]
  },
  {
   "cell_type": "code",
   "execution_count": 29,
   "metadata": {},
   "outputs": [
    {
     "data": {
      "text/html": [
       "<div>\n",
       "<style scoped>\n",
       "    .dataframe tbody tr th:only-of-type {\n",
       "        vertical-align: middle;\n",
       "    }\n",
       "\n",
       "    .dataframe tbody tr th {\n",
       "        vertical-align: top;\n",
       "    }\n",
       "\n",
       "    .dataframe thead th {\n",
       "        text-align: right;\n",
       "    }\n",
       "</style>\n",
       "<table border=\"1\" class=\"dataframe\">\n",
       "  <thead>\n",
       "    <tr style=\"text-align: right;\">\n",
       "      <th></th>\n",
       "      <th>usuario_id</th>\n",
       "      <th>municipio</th>\n",
       "      <th>cargo</th>\n",
       "      <th>data_criacao_cadastro</th>\n",
       "      <th>data_ativo</th>\n",
       "      <th>acessou_listas_nominais</th>\n",
       "      <th>clicks_imprimir_lista</th>\n",
       "      <th>clicks_filtrar_lista</th>\n",
       "    </tr>\n",
       "  </thead>\n",
       "  <tbody>\n",
       "    <tr>\n",
       "      <th>0</th>\n",
       "      <td>a034d9fc-d54a-4a89-bdef-2e596af3a856</td>\n",
       "      <td>São Roque - SP</td>\n",
       "      <td>Coordenação de Equipe</td>\n",
       "      <td>23/3/2023</td>\n",
       "      <td>11/8/2023</td>\n",
       "      <td>True</td>\n",
       "      <td>0</td>\n",
       "      <td>0</td>\n",
       "    </tr>\n",
       "    <tr>\n",
       "      <th>1</th>\n",
       "      <td>a034d9fc-d54a-4a89-bdef-2e596af3a856</td>\n",
       "      <td>São Roque - SP</td>\n",
       "      <td>Coordenação de Equipe</td>\n",
       "      <td>23/3/2023</td>\n",
       "      <td>14/2/2024</td>\n",
       "      <td>True</td>\n",
       "      <td>0</td>\n",
       "      <td>2</td>\n",
       "    </tr>\n",
       "  </tbody>\n",
       "</table>\n",
       "</div>"
      ],
      "text/plain": [
       "                             usuario_id       municipio  \\\n",
       "0  a034d9fc-d54a-4a89-bdef-2e596af3a856  São Roque - SP   \n",
       "1  a034d9fc-d54a-4a89-bdef-2e596af3a856  São Roque - SP   \n",
       "\n",
       "                   cargo data_criacao_cadastro data_ativo  \\\n",
       "0  Coordenação de Equipe             23/3/2023  11/8/2023   \n",
       "1  Coordenação de Equipe             23/3/2023  14/2/2024   \n",
       "\n",
       "   acessou_listas_nominais  clicks_imprimir_lista  clicks_filtrar_lista  \n",
       "0                     True                      0                     0  \n",
       "1                     True                      0                     2  "
      ]
     },
     "execution_count": 29,
     "metadata": {},
     "output_type": "execute_result"
    }
   ],
   "source": [
    "df = df1.merge(\n",
    "                df2,\n",
    "                left_on=\"usuario_id\", right_on=\"usuario_id\",\n",
    "                how=\"inner\"\n",
    ")\n",
    "\n",
    "df.head(2)"
   ]
  },
  {
   "cell_type": "code",
   "execution_count": 30,
   "metadata": {},
   "outputs": [
    {
     "data": {
      "text/html": [
       "<div>\n",
       "<style scoped>\n",
       "    .dataframe tbody tr th:only-of-type {\n",
       "        vertical-align: middle;\n",
       "    }\n",
       "\n",
       "    .dataframe tbody tr th {\n",
       "        vertical-align: top;\n",
       "    }\n",
       "\n",
       "    .dataframe thead th {\n",
       "        text-align: right;\n",
       "    }\n",
       "</style>\n",
       "<table border=\"1\" class=\"dataframe\">\n",
       "  <thead>\n",
       "    <tr style=\"text-align: right;\">\n",
       "      <th></th>\n",
       "      <th>usuario_id</th>\n",
       "      <th>municipio</th>\n",
       "      <th>cargo</th>\n",
       "      <th>data_criacao_cadastro</th>\n",
       "      <th>data_ativo</th>\n",
       "      <th>acessou_listas_nominais</th>\n",
       "      <th>clicks_imprimir_lista</th>\n",
       "      <th>clicks_filtrar_lista</th>\n",
       "    </tr>\n",
       "  </thead>\n",
       "  <tbody>\n",
       "    <tr>\n",
       "      <th>20775</th>\n",
       "      <td>8e1f3b8a-ff3b-4712-ad5d-7cb3e3f1271c</td>\n",
       "      <td>Pacoti - CE</td>\n",
       "      <td>Coordenação de Equipe</td>\n",
       "      <td>21/2/2024</td>\n",
       "      <td>4/11/2024</td>\n",
       "      <td>True</td>\n",
       "      <td>0</td>\n",
       "      <td>1</td>\n",
       "    </tr>\n",
       "    <tr>\n",
       "      <th>20776</th>\n",
       "      <td>8e1f3b8a-ff3b-4712-ad5d-7cb3e3f1271c</td>\n",
       "      <td>Pacoti - CE</td>\n",
       "      <td>Coordenação de Equipe</td>\n",
       "      <td>21/2/2024</td>\n",
       "      <td>14/5/2024</td>\n",
       "      <td>True</td>\n",
       "      <td>0</td>\n",
       "      <td>0</td>\n",
       "    </tr>\n",
       "  </tbody>\n",
       "</table>\n",
       "</div>"
      ],
      "text/plain": [
       "                                 usuario_id    municipio  \\\n",
       "20775  8e1f3b8a-ff3b-4712-ad5d-7cb3e3f1271c  Pacoti - CE   \n",
       "20776  8e1f3b8a-ff3b-4712-ad5d-7cb3e3f1271c  Pacoti - CE   \n",
       "\n",
       "                       cargo data_criacao_cadastro data_ativo  \\\n",
       "20775  Coordenação de Equipe             21/2/2024  4/11/2024   \n",
       "20776  Coordenação de Equipe             21/2/2024  14/5/2024   \n",
       "\n",
       "       acessou_listas_nominais  clicks_imprimir_lista  clicks_filtrar_lista  \n",
       "20775                     True                      0                     1  \n",
       "20776                     True                      0                     0  "
      ]
     },
     "execution_count": 30,
     "metadata": {},
     "output_type": "execute_result"
    }
   ],
   "source": [
    "df.tail(2)"
   ]
  },
  {
   "cell_type": "code",
   "execution_count": 31,
   "metadata": {},
   "outputs": [],
   "source": [
    "#Before any conclusion, obtain 2 new feature: state e delta_time"
   ]
  },
  {
   "cell_type": "code",
   "execution_count": 32,
   "metadata": {},
   "outputs": [],
   "source": [
    "#state:"
   ]
  },
  {
   "cell_type": "code",
   "execution_count": 33,
   "metadata": {},
   "outputs": [
    {
     "data": {
      "text/plain": [
       "'SP'"
      ]
     },
     "execution_count": 33,
     "metadata": {},
     "output_type": "execute_result"
    }
   ],
   "source": [
    "df[\"municipio\"][0][-2:]"
   ]
  },
  {
   "cell_type": "code",
   "execution_count": 34,
   "metadata": {},
   "outputs": [
    {
     "data": {
      "text/plain": [
       "20777"
      ]
     },
     "execution_count": 34,
     "metadata": {},
     "output_type": "execute_result"
    }
   ],
   "source": [
    "len(df[\"municipio\"])"
   ]
  },
  {
   "cell_type": "code",
   "execution_count": 35,
   "metadata": {},
   "outputs": [
    {
     "data": {
      "text/plain": [
       "'MA'"
      ]
     },
     "execution_count": 35,
     "metadata": {},
     "output_type": "execute_result"
    }
   ],
   "source": [
    "df[\"municipio\"][100][-2:]"
   ]
  },
  {
   "cell_type": "code",
   "execution_count": 36,
   "metadata": {},
   "outputs": [
    {
     "data": {
      "text/html": [
       "<div>\n",
       "<style scoped>\n",
       "    .dataframe tbody tr th:only-of-type {\n",
       "        vertical-align: middle;\n",
       "    }\n",
       "\n",
       "    .dataframe tbody tr th {\n",
       "        vertical-align: top;\n",
       "    }\n",
       "\n",
       "    .dataframe thead th {\n",
       "        text-align: right;\n",
       "    }\n",
       "</style>\n",
       "<table border=\"1\" class=\"dataframe\">\n",
       "  <thead>\n",
       "    <tr style=\"text-align: right;\">\n",
       "      <th></th>\n",
       "      <th>usuario_id</th>\n",
       "      <th>municipio</th>\n",
       "      <th>cargo</th>\n",
       "      <th>data_criacao_cadastro</th>\n",
       "      <th>data_ativo</th>\n",
       "      <th>acessou_listas_nominais</th>\n",
       "      <th>clicks_imprimir_lista</th>\n",
       "      <th>clicks_filtrar_lista</th>\n",
       "      <th>estado</th>\n",
       "    </tr>\n",
       "  </thead>\n",
       "  <tbody>\n",
       "    <tr>\n",
       "      <th>0</th>\n",
       "      <td>a034d9fc-d54a-4a89-bdef-2e596af3a856</td>\n",
       "      <td>São Roque - SP</td>\n",
       "      <td>Coordenação de Equipe</td>\n",
       "      <td>23/3/2023</td>\n",
       "      <td>11/8/2023</td>\n",
       "      <td>True</td>\n",
       "      <td>0</td>\n",
       "      <td>0</td>\n",
       "      <td>SP</td>\n",
       "    </tr>\n",
       "  </tbody>\n",
       "</table>\n",
       "</div>"
      ],
      "text/plain": [
       "                             usuario_id       municipio  \\\n",
       "0  a034d9fc-d54a-4a89-bdef-2e596af3a856  São Roque - SP   \n",
       "\n",
       "                   cargo data_criacao_cadastro data_ativo  \\\n",
       "0  Coordenação de Equipe             23/3/2023  11/8/2023   \n",
       "\n",
       "   acessou_listas_nominais  clicks_imprimir_lista  clicks_filtrar_lista estado  \n",
       "0                     True                      0                     0     SP  "
      ]
     },
     "execution_count": 36,
     "metadata": {},
     "output_type": "execute_result"
    }
   ],
   "source": [
    "df[\"estado\"] = df[\"municipio\"].map(lambda x: x[-2:])\n",
    "df.head(1)"
   ]
  },
  {
   "cell_type": "code",
   "execution_count": 37,
   "metadata": {},
   "outputs": [],
   "source": [
    "#delta time:"
   ]
  },
  {
   "cell_type": "code",
   "execution_count": 38,
   "metadata": {},
   "outputs": [
    {
     "name": "stdout",
     "output_type": "stream",
     "text": [
      "object\n",
      "object\n"
     ]
    }
   ],
   "source": [
    "print(df[\"data_criacao_cadastro\"].dtype)\n",
    "print(df[\"data_ativo\"].dtype)"
   ]
  },
  {
   "cell_type": "code",
   "execution_count": 39,
   "metadata": {},
   "outputs": [],
   "source": [
    "#Convert to datetime to get delta"
   ]
  },
  {
   "cell_type": "code",
   "execution_count": 40,
   "metadata": {},
   "outputs": [],
   "source": [
    "df[\"data_criacao_cadastro\"] = pd.to_datetime(df[\"data_criacao_cadastro\"], dayfirst=True)\n",
    "df[\"data_ativo\"] = pd.to_datetime(df[\"data_ativo\"], dayfirst=True)"
   ]
  },
  {
   "cell_type": "code",
   "execution_count": 41,
   "metadata": {},
   "outputs": [
    {
     "name": "stdout",
     "output_type": "stream",
     "text": [
      "datetime64[ns]\n",
      "datetime64[ns]\n"
     ]
    }
   ],
   "source": [
    "print(df[\"data_criacao_cadastro\"].dtype)\n",
    "print(df[\"data_ativo\"].dtype)"
   ]
  },
  {
   "cell_type": "code",
   "execution_count": 42,
   "metadata": {},
   "outputs": [
    {
     "data": {
      "text/html": [
       "<div>\n",
       "<style scoped>\n",
       "    .dataframe tbody tr th:only-of-type {\n",
       "        vertical-align: middle;\n",
       "    }\n",
       "\n",
       "    .dataframe tbody tr th {\n",
       "        vertical-align: top;\n",
       "    }\n",
       "\n",
       "    .dataframe thead th {\n",
       "        text-align: right;\n",
       "    }\n",
       "</style>\n",
       "<table border=\"1\" class=\"dataframe\">\n",
       "  <thead>\n",
       "    <tr style=\"text-align: right;\">\n",
       "      <th></th>\n",
       "      <th>usuario_id</th>\n",
       "      <th>municipio</th>\n",
       "      <th>cargo</th>\n",
       "      <th>data_criacao_cadastro</th>\n",
       "      <th>data_ativo</th>\n",
       "      <th>acessou_listas_nominais</th>\n",
       "      <th>clicks_imprimir_lista</th>\n",
       "      <th>clicks_filtrar_lista</th>\n",
       "      <th>estado</th>\n",
       "      <th>delta_time</th>\n",
       "    </tr>\n",
       "  </thead>\n",
       "  <tbody>\n",
       "    <tr>\n",
       "      <th>0</th>\n",
       "      <td>a034d9fc-d54a-4a89-bdef-2e596af3a856</td>\n",
       "      <td>São Roque - SP</td>\n",
       "      <td>Coordenação de Equipe</td>\n",
       "      <td>2023-03-23</td>\n",
       "      <td>2023-08-11</td>\n",
       "      <td>True</td>\n",
       "      <td>0</td>\n",
       "      <td>0</td>\n",
       "      <td>SP</td>\n",
       "      <td>141 days</td>\n",
       "    </tr>\n",
       "    <tr>\n",
       "      <th>1</th>\n",
       "      <td>a034d9fc-d54a-4a89-bdef-2e596af3a856</td>\n",
       "      <td>São Roque - SP</td>\n",
       "      <td>Coordenação de Equipe</td>\n",
       "      <td>2023-03-23</td>\n",
       "      <td>2024-02-14</td>\n",
       "      <td>True</td>\n",
       "      <td>0</td>\n",
       "      <td>2</td>\n",
       "      <td>SP</td>\n",
       "      <td>328 days</td>\n",
       "    </tr>\n",
       "    <tr>\n",
       "      <th>2</th>\n",
       "      <td>a034d9fc-d54a-4a89-bdef-2e596af3a856</td>\n",
       "      <td>São Roque - SP</td>\n",
       "      <td>Coordenação de Equipe</td>\n",
       "      <td>2023-03-23</td>\n",
       "      <td>2023-12-13</td>\n",
       "      <td>True</td>\n",
       "      <td>0</td>\n",
       "      <td>0</td>\n",
       "      <td>SP</td>\n",
       "      <td>265 days</td>\n",
       "    </tr>\n",
       "    <tr>\n",
       "      <th>3</th>\n",
       "      <td>a034d9fc-d54a-4a89-bdef-2e596af3a856</td>\n",
       "      <td>São Roque - SP</td>\n",
       "      <td>Coordenação de Equipe</td>\n",
       "      <td>2023-03-23</td>\n",
       "      <td>2023-09-05</td>\n",
       "      <td>True</td>\n",
       "      <td>0</td>\n",
       "      <td>0</td>\n",
       "      <td>SP</td>\n",
       "      <td>166 days</td>\n",
       "    </tr>\n",
       "  </tbody>\n",
       "</table>\n",
       "</div>"
      ],
      "text/plain": [
       "                             usuario_id       municipio  \\\n",
       "0  a034d9fc-d54a-4a89-bdef-2e596af3a856  São Roque - SP   \n",
       "1  a034d9fc-d54a-4a89-bdef-2e596af3a856  São Roque - SP   \n",
       "2  a034d9fc-d54a-4a89-bdef-2e596af3a856  São Roque - SP   \n",
       "3  a034d9fc-d54a-4a89-bdef-2e596af3a856  São Roque - SP   \n",
       "\n",
       "                   cargo data_criacao_cadastro data_ativo  \\\n",
       "0  Coordenação de Equipe            2023-03-23 2023-08-11   \n",
       "1  Coordenação de Equipe            2023-03-23 2024-02-14   \n",
       "2  Coordenação de Equipe            2023-03-23 2023-12-13   \n",
       "3  Coordenação de Equipe            2023-03-23 2023-09-05   \n",
       "\n",
       "   acessou_listas_nominais  clicks_imprimir_lista  clicks_filtrar_lista  \\\n",
       "0                     True                      0                     0   \n",
       "1                     True                      0                     2   \n",
       "2                     True                      0                     0   \n",
       "3                     True                      0                     0   \n",
       "\n",
       "  estado delta_time  \n",
       "0     SP   141 days  \n",
       "1     SP   328 days  \n",
       "2     SP   265 days  \n",
       "3     SP   166 days  "
      ]
     },
     "execution_count": 42,
     "metadata": {},
     "output_type": "execute_result"
    }
   ],
   "source": [
    "df[\"delta_time\"] = df[\"data_ativo\"] - df[\"data_criacao_cadastro\"]\n",
    "df.head(4)"
   ]
  },
  {
   "cell_type": "code",
   "execution_count": 43,
   "metadata": {},
   "outputs": [],
   "source": [
    "df[\"delta_time\"] = df[\"delta_time\"].dt.days"
   ]
  },
  {
   "cell_type": "code",
   "execution_count": 44,
   "metadata": {},
   "outputs": [],
   "source": [
    "#Ordering the dataframe for latter create a flag to get only first access!"
   ]
  },
  {
   "cell_type": "code",
   "execution_count": 45,
   "metadata": {},
   "outputs": [
    {
     "data": {
      "text/html": [
       "<div>\n",
       "<style scoped>\n",
       "    .dataframe tbody tr th:only-of-type {\n",
       "        vertical-align: middle;\n",
       "    }\n",
       "\n",
       "    .dataframe tbody tr th {\n",
       "        vertical-align: top;\n",
       "    }\n",
       "\n",
       "    .dataframe thead th {\n",
       "        text-align: right;\n",
       "    }\n",
       "</style>\n",
       "<table border=\"1\" class=\"dataframe\">\n",
       "  <thead>\n",
       "    <tr style=\"text-align: right;\">\n",
       "      <th></th>\n",
       "      <th>usuario_id</th>\n",
       "      <th>municipio</th>\n",
       "      <th>cargo</th>\n",
       "      <th>data_criacao_cadastro</th>\n",
       "      <th>data_ativo</th>\n",
       "      <th>acessou_listas_nominais</th>\n",
       "      <th>clicks_imprimir_lista</th>\n",
       "      <th>clicks_filtrar_lista</th>\n",
       "      <th>estado</th>\n",
       "      <th>delta_time</th>\n",
       "    </tr>\n",
       "  </thead>\n",
       "  <tbody>\n",
       "    <tr>\n",
       "      <th>13761</th>\n",
       "      <td>0077e9df-39d3-41bc-aa57-3953e894bcf9</td>\n",
       "      <td>Três Marias - MG</td>\n",
       "      <td>Coordenação de Equipe</td>\n",
       "      <td>2024-04-04</td>\n",
       "      <td>2024-04-05</td>\n",
       "      <td>True</td>\n",
       "      <td>0</td>\n",
       "      <td>1</td>\n",
       "      <td>MG</td>\n",
       "      <td>1</td>\n",
       "    </tr>\n",
       "    <tr>\n",
       "      <th>13748</th>\n",
       "      <td>0077e9df-39d3-41bc-aa57-3953e894bcf9</td>\n",
       "      <td>Três Marias - MG</td>\n",
       "      <td>Coordenação de Equipe</td>\n",
       "      <td>2024-04-04</td>\n",
       "      <td>2024-04-08</td>\n",
       "      <td>True</td>\n",
       "      <td>0</td>\n",
       "      <td>2</td>\n",
       "      <td>MG</td>\n",
       "      <td>4</td>\n",
       "    </tr>\n",
       "    <tr>\n",
       "      <th>13729</th>\n",
       "      <td>0077e9df-39d3-41bc-aa57-3953e894bcf9</td>\n",
       "      <td>Três Marias - MG</td>\n",
       "      <td>Coordenação de Equipe</td>\n",
       "      <td>2024-04-04</td>\n",
       "      <td>2024-04-09</td>\n",
       "      <td>True</td>\n",
       "      <td>0</td>\n",
       "      <td>1</td>\n",
       "      <td>MG</td>\n",
       "      <td>5</td>\n",
       "    </tr>\n",
       "    <tr>\n",
       "      <th>13755</th>\n",
       "      <td>0077e9df-39d3-41bc-aa57-3953e894bcf9</td>\n",
       "      <td>Três Marias - MG</td>\n",
       "      <td>Coordenação de Equipe</td>\n",
       "      <td>2024-04-04</td>\n",
       "      <td>2024-04-10</td>\n",
       "      <td>True</td>\n",
       "      <td>0</td>\n",
       "      <td>0</td>\n",
       "      <td>MG</td>\n",
       "      <td>6</td>\n",
       "    </tr>\n",
       "    <tr>\n",
       "      <th>13728</th>\n",
       "      <td>0077e9df-39d3-41bc-aa57-3953e894bcf9</td>\n",
       "      <td>Três Marias - MG</td>\n",
       "      <td>Coordenação de Equipe</td>\n",
       "      <td>2024-04-04</td>\n",
       "      <td>2024-04-11</td>\n",
       "      <td>True</td>\n",
       "      <td>0</td>\n",
       "      <td>0</td>\n",
       "      <td>MG</td>\n",
       "      <td>7</td>\n",
       "    </tr>\n",
       "    <tr>\n",
       "      <th>13763</th>\n",
       "      <td>0077e9df-39d3-41bc-aa57-3953e894bcf9</td>\n",
       "      <td>Três Marias - MG</td>\n",
       "      <td>Coordenação de Equipe</td>\n",
       "      <td>2024-04-04</td>\n",
       "      <td>2024-04-12</td>\n",
       "      <td>True</td>\n",
       "      <td>0</td>\n",
       "      <td>1</td>\n",
       "      <td>MG</td>\n",
       "      <td>8</td>\n",
       "    </tr>\n",
       "    <tr>\n",
       "      <th>13741</th>\n",
       "      <td>0077e9df-39d3-41bc-aa57-3953e894bcf9</td>\n",
       "      <td>Três Marias - MG</td>\n",
       "      <td>Coordenação de Equipe</td>\n",
       "      <td>2024-04-04</td>\n",
       "      <td>2024-04-15</td>\n",
       "      <td>True</td>\n",
       "      <td>0</td>\n",
       "      <td>0</td>\n",
       "      <td>MG</td>\n",
       "      <td>11</td>\n",
       "    </tr>\n",
       "    <tr>\n",
       "      <th>13757</th>\n",
       "      <td>0077e9df-39d3-41bc-aa57-3953e894bcf9</td>\n",
       "      <td>Três Marias - MG</td>\n",
       "      <td>Coordenação de Equipe</td>\n",
       "      <td>2024-04-04</td>\n",
       "      <td>2024-04-16</td>\n",
       "      <td>True</td>\n",
       "      <td>0</td>\n",
       "      <td>0</td>\n",
       "      <td>MG</td>\n",
       "      <td>12</td>\n",
       "    </tr>\n",
       "    <tr>\n",
       "      <th>13736</th>\n",
       "      <td>0077e9df-39d3-41bc-aa57-3953e894bcf9</td>\n",
       "      <td>Três Marias - MG</td>\n",
       "      <td>Coordenação de Equipe</td>\n",
       "      <td>2024-04-04</td>\n",
       "      <td>2024-04-27</td>\n",
       "      <td>True</td>\n",
       "      <td>0</td>\n",
       "      <td>0</td>\n",
       "      <td>MG</td>\n",
       "      <td>23</td>\n",
       "    </tr>\n",
       "    <tr>\n",
       "      <th>13749</th>\n",
       "      <td>0077e9df-39d3-41bc-aa57-3953e894bcf9</td>\n",
       "      <td>Três Marias - MG</td>\n",
       "      <td>Coordenação de Equipe</td>\n",
       "      <td>2024-04-04</td>\n",
       "      <td>2024-04-30</td>\n",
       "      <td>True</td>\n",
       "      <td>0</td>\n",
       "      <td>0</td>\n",
       "      <td>MG</td>\n",
       "      <td>26</td>\n",
       "    </tr>\n",
       "    <tr>\n",
       "      <th>13750</th>\n",
       "      <td>0077e9df-39d3-41bc-aa57-3953e894bcf9</td>\n",
       "      <td>Três Marias - MG</td>\n",
       "      <td>Coordenação de Equipe</td>\n",
       "      <td>2024-04-04</td>\n",
       "      <td>2024-05-09</td>\n",
       "      <td>True</td>\n",
       "      <td>0</td>\n",
       "      <td>1</td>\n",
       "      <td>MG</td>\n",
       "      <td>35</td>\n",
       "    </tr>\n",
       "    <tr>\n",
       "      <th>13745</th>\n",
       "      <td>0077e9df-39d3-41bc-aa57-3953e894bcf9</td>\n",
       "      <td>Três Marias - MG</td>\n",
       "      <td>Coordenação de Equipe</td>\n",
       "      <td>2024-04-04</td>\n",
       "      <td>2024-05-10</td>\n",
       "      <td>True</td>\n",
       "      <td>0</td>\n",
       "      <td>2</td>\n",
       "      <td>MG</td>\n",
       "      <td>36</td>\n",
       "    </tr>\n",
       "    <tr>\n",
       "      <th>13752</th>\n",
       "      <td>0077e9df-39d3-41bc-aa57-3953e894bcf9</td>\n",
       "      <td>Três Marias - MG</td>\n",
       "      <td>Coordenação de Equipe</td>\n",
       "      <td>2024-04-04</td>\n",
       "      <td>2024-05-13</td>\n",
       "      <td>True</td>\n",
       "      <td>0</td>\n",
       "      <td>1</td>\n",
       "      <td>MG</td>\n",
       "      <td>39</td>\n",
       "    </tr>\n",
       "    <tr>\n",
       "      <th>13751</th>\n",
       "      <td>0077e9df-39d3-41bc-aa57-3953e894bcf9</td>\n",
       "      <td>Três Marias - MG</td>\n",
       "      <td>Coordenação de Equipe</td>\n",
       "      <td>2024-04-04</td>\n",
       "      <td>2024-05-14</td>\n",
       "      <td>True</td>\n",
       "      <td>0</td>\n",
       "      <td>1</td>\n",
       "      <td>MG</td>\n",
       "      <td>40</td>\n",
       "    </tr>\n",
       "    <tr>\n",
       "      <th>13738</th>\n",
       "      <td>0077e9df-39d3-41bc-aa57-3953e894bcf9</td>\n",
       "      <td>Três Marias - MG</td>\n",
       "      <td>Coordenação de Equipe</td>\n",
       "      <td>2024-04-04</td>\n",
       "      <td>2024-05-15</td>\n",
       "      <td>True</td>\n",
       "      <td>0</td>\n",
       "      <td>1</td>\n",
       "      <td>MG</td>\n",
       "      <td>41</td>\n",
       "    </tr>\n",
       "  </tbody>\n",
       "</table>\n",
       "</div>"
      ],
      "text/plain": [
       "                                 usuario_id         municipio  \\\n",
       "13761  0077e9df-39d3-41bc-aa57-3953e894bcf9  Três Marias - MG   \n",
       "13748  0077e9df-39d3-41bc-aa57-3953e894bcf9  Três Marias - MG   \n",
       "13729  0077e9df-39d3-41bc-aa57-3953e894bcf9  Três Marias - MG   \n",
       "13755  0077e9df-39d3-41bc-aa57-3953e894bcf9  Três Marias - MG   \n",
       "13728  0077e9df-39d3-41bc-aa57-3953e894bcf9  Três Marias - MG   \n",
       "13763  0077e9df-39d3-41bc-aa57-3953e894bcf9  Três Marias - MG   \n",
       "13741  0077e9df-39d3-41bc-aa57-3953e894bcf9  Três Marias - MG   \n",
       "13757  0077e9df-39d3-41bc-aa57-3953e894bcf9  Três Marias - MG   \n",
       "13736  0077e9df-39d3-41bc-aa57-3953e894bcf9  Três Marias - MG   \n",
       "13749  0077e9df-39d3-41bc-aa57-3953e894bcf9  Três Marias - MG   \n",
       "13750  0077e9df-39d3-41bc-aa57-3953e894bcf9  Três Marias - MG   \n",
       "13745  0077e9df-39d3-41bc-aa57-3953e894bcf9  Três Marias - MG   \n",
       "13752  0077e9df-39d3-41bc-aa57-3953e894bcf9  Três Marias - MG   \n",
       "13751  0077e9df-39d3-41bc-aa57-3953e894bcf9  Três Marias - MG   \n",
       "13738  0077e9df-39d3-41bc-aa57-3953e894bcf9  Três Marias - MG   \n",
       "\n",
       "                       cargo data_criacao_cadastro data_ativo  \\\n",
       "13761  Coordenação de Equipe            2024-04-04 2024-04-05   \n",
       "13748  Coordenação de Equipe            2024-04-04 2024-04-08   \n",
       "13729  Coordenação de Equipe            2024-04-04 2024-04-09   \n",
       "13755  Coordenação de Equipe            2024-04-04 2024-04-10   \n",
       "13728  Coordenação de Equipe            2024-04-04 2024-04-11   \n",
       "13763  Coordenação de Equipe            2024-04-04 2024-04-12   \n",
       "13741  Coordenação de Equipe            2024-04-04 2024-04-15   \n",
       "13757  Coordenação de Equipe            2024-04-04 2024-04-16   \n",
       "13736  Coordenação de Equipe            2024-04-04 2024-04-27   \n",
       "13749  Coordenação de Equipe            2024-04-04 2024-04-30   \n",
       "13750  Coordenação de Equipe            2024-04-04 2024-05-09   \n",
       "13745  Coordenação de Equipe            2024-04-04 2024-05-10   \n",
       "13752  Coordenação de Equipe            2024-04-04 2024-05-13   \n",
       "13751  Coordenação de Equipe            2024-04-04 2024-05-14   \n",
       "13738  Coordenação de Equipe            2024-04-04 2024-05-15   \n",
       "\n",
       "       acessou_listas_nominais  clicks_imprimir_lista  clicks_filtrar_lista  \\\n",
       "13761                     True                      0                     1   \n",
       "13748                     True                      0                     2   \n",
       "13729                     True                      0                     1   \n",
       "13755                     True                      0                     0   \n",
       "13728                     True                      0                     0   \n",
       "13763                     True                      0                     1   \n",
       "13741                     True                      0                     0   \n",
       "13757                     True                      0                     0   \n",
       "13736                     True                      0                     0   \n",
       "13749                     True                      0                     0   \n",
       "13750                     True                      0                     1   \n",
       "13745                     True                      0                     2   \n",
       "13752                     True                      0                     1   \n",
       "13751                     True                      0                     1   \n",
       "13738                     True                      0                     1   \n",
       "\n",
       "      estado  delta_time  \n",
       "13761     MG           1  \n",
       "13748     MG           4  \n",
       "13729     MG           5  \n",
       "13755     MG           6  \n",
       "13728     MG           7  \n",
       "13763     MG           8  \n",
       "13741     MG          11  \n",
       "13757     MG          12  \n",
       "13736     MG          23  \n",
       "13749     MG          26  \n",
       "13750     MG          35  \n",
       "13745     MG          36  \n",
       "13752     MG          39  \n",
       "13751     MG          40  \n",
       "13738     MG          41  "
      ]
     },
     "execution_count": 45,
     "metadata": {},
     "output_type": "execute_result"
    }
   ],
   "source": [
    "df_ordered = df.sort_values(by=['usuario_id', 'delta_time'])\n",
    "df_ordered.head(15)"
   ]
  },
  {
   "cell_type": "code",
   "execution_count": 46,
   "metadata": {},
   "outputs": [
    {
     "data": {
      "text/html": [
       "<div>\n",
       "<style scoped>\n",
       "    .dataframe tbody tr th:only-of-type {\n",
       "        vertical-align: middle;\n",
       "    }\n",
       "\n",
       "    .dataframe tbody tr th {\n",
       "        vertical-align: top;\n",
       "    }\n",
       "\n",
       "    .dataframe thead th {\n",
       "        text-align: right;\n",
       "    }\n",
       "</style>\n",
       "<table border=\"1\" class=\"dataframe\">\n",
       "  <thead>\n",
       "    <tr style=\"text-align: right;\">\n",
       "      <th></th>\n",
       "      <th>usuario_id</th>\n",
       "      <th>municipio</th>\n",
       "      <th>cargo</th>\n",
       "      <th>data_criacao_cadastro</th>\n",
       "      <th>data_ativo</th>\n",
       "      <th>acessou_listas_nominais</th>\n",
       "      <th>clicks_imprimir_lista</th>\n",
       "      <th>clicks_filtrar_lista</th>\n",
       "      <th>estado</th>\n",
       "      <th>delta_time</th>\n",
       "      <th>first_access</th>\n",
       "    </tr>\n",
       "  </thead>\n",
       "  <tbody>\n",
       "    <tr>\n",
       "      <th>13761</th>\n",
       "      <td>0077e9df-39d3-41bc-aa57-3953e894bcf9</td>\n",
       "      <td>Três Marias - MG</td>\n",
       "      <td>Coordenação de Equipe</td>\n",
       "      <td>2024-04-04</td>\n",
       "      <td>2024-04-05</td>\n",
       "      <td>True</td>\n",
       "      <td>0</td>\n",
       "      <td>1</td>\n",
       "      <td>MG</td>\n",
       "      <td>1</td>\n",
       "      <td>1</td>\n",
       "    </tr>\n",
       "    <tr>\n",
       "      <th>13748</th>\n",
       "      <td>0077e9df-39d3-41bc-aa57-3953e894bcf9</td>\n",
       "      <td>Três Marias - MG</td>\n",
       "      <td>Coordenação de Equipe</td>\n",
       "      <td>2024-04-04</td>\n",
       "      <td>2024-04-08</td>\n",
       "      <td>True</td>\n",
       "      <td>0</td>\n",
       "      <td>2</td>\n",
       "      <td>MG</td>\n",
       "      <td>4</td>\n",
       "      <td>0</td>\n",
       "    </tr>\n",
       "    <tr>\n",
       "      <th>13729</th>\n",
       "      <td>0077e9df-39d3-41bc-aa57-3953e894bcf9</td>\n",
       "      <td>Três Marias - MG</td>\n",
       "      <td>Coordenação de Equipe</td>\n",
       "      <td>2024-04-04</td>\n",
       "      <td>2024-04-09</td>\n",
       "      <td>True</td>\n",
       "      <td>0</td>\n",
       "      <td>1</td>\n",
       "      <td>MG</td>\n",
       "      <td>5</td>\n",
       "      <td>0</td>\n",
       "    </tr>\n",
       "    <tr>\n",
       "      <th>13755</th>\n",
       "      <td>0077e9df-39d3-41bc-aa57-3953e894bcf9</td>\n",
       "      <td>Três Marias - MG</td>\n",
       "      <td>Coordenação de Equipe</td>\n",
       "      <td>2024-04-04</td>\n",
       "      <td>2024-04-10</td>\n",
       "      <td>True</td>\n",
       "      <td>0</td>\n",
       "      <td>0</td>\n",
       "      <td>MG</td>\n",
       "      <td>6</td>\n",
       "      <td>0</td>\n",
       "    </tr>\n",
       "    <tr>\n",
       "      <th>13728</th>\n",
       "      <td>0077e9df-39d3-41bc-aa57-3953e894bcf9</td>\n",
       "      <td>Três Marias - MG</td>\n",
       "      <td>Coordenação de Equipe</td>\n",
       "      <td>2024-04-04</td>\n",
       "      <td>2024-04-11</td>\n",
       "      <td>True</td>\n",
       "      <td>0</td>\n",
       "      <td>0</td>\n",
       "      <td>MG</td>\n",
       "      <td>7</td>\n",
       "      <td>0</td>\n",
       "    </tr>\n",
       "  </tbody>\n",
       "</table>\n",
       "</div>"
      ],
      "text/plain": [
       "                                 usuario_id         municipio  \\\n",
       "13761  0077e9df-39d3-41bc-aa57-3953e894bcf9  Três Marias - MG   \n",
       "13748  0077e9df-39d3-41bc-aa57-3953e894bcf9  Três Marias - MG   \n",
       "13729  0077e9df-39d3-41bc-aa57-3953e894bcf9  Três Marias - MG   \n",
       "13755  0077e9df-39d3-41bc-aa57-3953e894bcf9  Três Marias - MG   \n",
       "13728  0077e9df-39d3-41bc-aa57-3953e894bcf9  Três Marias - MG   \n",
       "\n",
       "                       cargo data_criacao_cadastro data_ativo  \\\n",
       "13761  Coordenação de Equipe            2024-04-04 2024-04-05   \n",
       "13748  Coordenação de Equipe            2024-04-04 2024-04-08   \n",
       "13729  Coordenação de Equipe            2024-04-04 2024-04-09   \n",
       "13755  Coordenação de Equipe            2024-04-04 2024-04-10   \n",
       "13728  Coordenação de Equipe            2024-04-04 2024-04-11   \n",
       "\n",
       "       acessou_listas_nominais  clicks_imprimir_lista  clicks_filtrar_lista  \\\n",
       "13761                     True                      0                     1   \n",
       "13748                     True                      0                     2   \n",
       "13729                     True                      0                     1   \n",
       "13755                     True                      0                     0   \n",
       "13728                     True                      0                     0   \n",
       "\n",
       "      estado  delta_time  first_access  \n",
       "13761     MG           1             1  \n",
       "13748     MG           4             0  \n",
       "13729     MG           5             0  \n",
       "13755     MG           6             0  \n",
       "13728     MG           7             0  "
      ]
     },
     "execution_count": 46,
     "metadata": {},
     "output_type": "execute_result"
    }
   ],
   "source": [
    "#Criando a \"mascara\"/flag de first access\n",
    "#Cumcount() >>>> Contagem cumulativa !\n",
    "df_ordered['first_access'] = df_ordered.groupby('usuario_id').cumcount().apply(lambda x: 1 if x == 0 else 0)\n",
    "df_ordered.head(5)"
   ]
  },
  {
   "cell_type": "code",
   "execution_count": 47,
   "metadata": {},
   "outputs": [],
   "source": [
    "df_first_access = df_ordered[df_ordered['first_access'] == 1]"
   ]
  },
  {
   "cell_type": "code",
   "execution_count": 48,
   "metadata": {},
   "outputs": [
    {
     "data": {
      "image/png": "[encoded data removed]",
      "text/plain": [
       "<Figure size 640x480 with 1 Axes>"
      ]
     },
     "metadata": {},
     "output_type": "display_data"
    }
   ],
   "source": [
    "sns.boxplot(x=df_first_access[\"delta_time\"]);"
   ]
  },
  {
   "cell_type": "code",
   "execution_count": 49,
   "metadata": {},
   "outputs": [
    {
     "data": {
      "image/png": "[encoded data removed]",
      "text/plain": [
       "<Figure size 640x480 with 1 Axes>"
      ]
     },
     "metadata": {},
     "output_type": "display_data"
    }
   ],
   "source": [
    "sns.boxplot(x=df_first_access[\"delta_time\"])\n",
    "\n",
    "plt.axvline(df_first_access[\"delta_time\"].median(), color=\"red\", linestyle=\"--\");"
   ]
  },
  {
   "cell_type": "code",
   "execution_count": 50,
   "metadata": {},
   "outputs": [
    {
     "data": {
      "text/plain": [
       "count    575.000000\n",
       "mean      25.344348\n",
       "std       59.865293\n",
       "min       -1.000000\n",
       "25%        1.000000\n",
       "50%        6.000000\n",
       "75%       21.000000\n",
       "max      665.000000\n",
       "Name: delta_time, dtype: float64"
      ]
     },
     "execution_count": 50,
     "metadata": {},
     "output_type": "execute_result"
    }
   ],
   "source": [
    "df_first_access[\"delta_time\"].describe()"
   ]
  },
  {
   "cell_type": "code",
   "execution_count": 51,
   "metadata": {},
   "outputs": [
    {
     "data": {
      "text/html": [
       "<div>\n",
       "<style scoped>\n",
       "    .dataframe tbody tr th:only-of-type {\n",
       "        vertical-align: middle;\n",
       "    }\n",
       "\n",
       "    .dataframe tbody tr th {\n",
       "        vertical-align: top;\n",
       "    }\n",
       "\n",
       "    .dataframe thead th {\n",
       "        text-align: right;\n",
       "    }\n",
       "</style>\n",
       "<table border=\"1\" class=\"dataframe\">\n",
       "  <thead>\n",
       "    <tr style=\"text-align: right;\">\n",
       "      <th></th>\n",
       "      <th>data_criacao_cadastro</th>\n",
       "      <th>data_ativo</th>\n",
       "    </tr>\n",
       "  </thead>\n",
       "  <tbody>\n",
       "    <tr>\n",
       "      <th>18389</th>\n",
       "      <td>2024-03-19</td>\n",
       "      <td>2024-03-18</td>\n",
       "    </tr>\n",
       "  </tbody>\n",
       "</table>\n",
       "</div>"
      ],
      "text/plain": [
       "      data_criacao_cadastro data_ativo\n",
       "18389            2024-03-19 2024-03-18"
      ]
     },
     "execution_count": 51,
     "metadata": {},
     "output_type": "execute_result"
    }
   ],
   "source": [
    "df_first_access[[\"data_criacao_cadastro\", \"data_ativo\"]][df_first_access[\"delta_time\"] == -1]"
   ]
  },
  {
   "cell_type": "code",
   "execution_count": 52,
   "metadata": {},
   "outputs": [
    {
     "name": "stderr",
     "output_type": "stream",
     "text": [
      "/tmp/ipykernel_260089/485611645.py:1: SettingWithCopyWarning: \n",
      "A value is trying to be set on a copy of a slice from a DataFrame.\n",
      "Try using .loc[row_indexer,col_indexer] = value instead\n",
      "\n",
      "See the caveats in the documentation: https://pandas.pydata.org/pandas-docs/stable/user_guide/indexing.html#returning-a-view-versus-a-copy\n",
      "  df_first_access[\"delta_time\"] = df_first_access[\"delta_time\"].map(lambda x: 0 if x == -1 else x)\n"
     ]
    }
   ],
   "source": [
    "df_first_access[\"delta_time\"] = df_first_access[\"delta_time\"].map(lambda x: 0 if x == -1 else x)"
   ]
  },
  {
   "cell_type": "code",
   "execution_count": 53,
   "metadata": {},
   "outputs": [
    {
     "data": {
      "text/html": [
       "<div>\n",
       "<style scoped>\n",
       "    .dataframe tbody tr th:only-of-type {\n",
       "        vertical-align: middle;\n",
       "    }\n",
       "\n",
       "    .dataframe tbody tr th {\n",
       "        vertical-align: top;\n",
       "    }\n",
       "\n",
       "    .dataframe thead th {\n",
       "        text-align: right;\n",
       "    }\n",
       "</style>\n",
       "<table border=\"1\" class=\"dataframe\">\n",
       "  <thead>\n",
       "    <tr style=\"text-align: right;\">\n",
       "      <th></th>\n",
       "      <th>data_criacao_cadastro</th>\n",
       "      <th>data_ativo</th>\n",
       "    </tr>\n",
       "  </thead>\n",
       "  <tbody>\n",
       "  </tbody>\n",
       "</table>\n",
       "</div>"
      ],
      "text/plain": [
       "Empty DataFrame\n",
       "Columns: [data_criacao_cadastro, data_ativo]\n",
       "Index: []"
      ]
     },
     "execution_count": 53,
     "metadata": {},
     "output_type": "execute_result"
    }
   ],
   "source": [
    "df_first_access[[\"data_criacao_cadastro\", \"data_ativo\"]][df_first_access[\"delta_time\"] == -1]"
   ]
  },
  {
   "cell_type": "code",
   "execution_count": 54,
   "metadata": {},
   "outputs": [
    {
     "data": {
      "text/html": [
       "<div>\n",
       "<style scoped>\n",
       "    .dataframe tbody tr th:only-of-type {\n",
       "        vertical-align: middle;\n",
       "    }\n",
       "\n",
       "    .dataframe tbody tr th {\n",
       "        vertical-align: top;\n",
       "    }\n",
       "\n",
       "    .dataframe thead th {\n",
       "        text-align: right;\n",
       "    }\n",
       "</style>\n",
       "<table border=\"1\" class=\"dataframe\">\n",
       "  <thead>\n",
       "    <tr style=\"text-align: right;\">\n",
       "      <th></th>\n",
       "      <th>usuario_id</th>\n",
       "      <th>municipio</th>\n",
       "      <th>cargo</th>\n",
       "      <th>data_criacao_cadastro</th>\n",
       "      <th>data_ativo</th>\n",
       "      <th>acessou_listas_nominais</th>\n",
       "      <th>clicks_imprimir_lista</th>\n",
       "      <th>clicks_filtrar_lista</th>\n",
       "      <th>estado</th>\n",
       "      <th>delta_time</th>\n",
       "      <th>first_access</th>\n",
       "    </tr>\n",
       "  </thead>\n",
       "  <tbody>\n",
       "    <tr>\n",
       "      <th>13761</th>\n",
       "      <td>0077e9df-39d3-41bc-aa57-3953e894bcf9</td>\n",
       "      <td>Três Marias - MG</td>\n",
       "      <td>Coordenação de Equipe</td>\n",
       "      <td>2024-04-04</td>\n",
       "      <td>2024-04-05</td>\n",
       "      <td>True</td>\n",
       "      <td>0</td>\n",
       "      <td>1</td>\n",
       "      <td>MG</td>\n",
       "      <td>1</td>\n",
       "      <td>1</td>\n",
       "    </tr>\n",
       "    <tr>\n",
       "      <th>14984</th>\n",
       "      <td>009a2ef8-ee98-4c4d-b53a-6407abc03715</td>\n",
       "      <td>Salvaterra - PA</td>\n",
       "      <td>Coordenação APS</td>\n",
       "      <td>2023-08-17</td>\n",
       "      <td>2023-08-17</td>\n",
       "      <td>False</td>\n",
       "      <td>0</td>\n",
       "      <td>0</td>\n",
       "      <td>PA</td>\n",
       "      <td>0</td>\n",
       "      <td>1</td>\n",
       "    </tr>\n",
       "    <tr>\n",
       "      <th>16012</th>\n",
       "      <td>0103a1d1-96c8-4d98-b263-0549294aff13</td>\n",
       "      <td>Juquitiba - SP</td>\n",
       "      <td>Coordenação de Equipe</td>\n",
       "      <td>2022-11-08</td>\n",
       "      <td>2022-11-09</td>\n",
       "      <td>True</td>\n",
       "      <td>0</td>\n",
       "      <td>0</td>\n",
       "      <td>SP</td>\n",
       "      <td>1</td>\n",
       "      <td>1</td>\n",
       "    </tr>\n",
       "    <tr>\n",
       "      <th>4533</th>\n",
       "      <td>013e6d7a-4b86-47a3-972e-4c046dc4903b</td>\n",
       "      <td>Palmeira das Missões - RS</td>\n",
       "      <td>Coordenação de Equipe</td>\n",
       "      <td>2023-10-24</td>\n",
       "      <td>2023-11-13</td>\n",
       "      <td>True</td>\n",
       "      <td>0</td>\n",
       "      <td>0</td>\n",
       "      <td>RS</td>\n",
       "      <td>20</td>\n",
       "      <td>1</td>\n",
       "    </tr>\n",
       "    <tr>\n",
       "      <th>2739</th>\n",
       "      <td>021f43b9-c167-44b3-bc42-5420212df999</td>\n",
       "      <td>Paes Landim - PI</td>\n",
       "      <td>Coordenação APS</td>\n",
       "      <td>2023-05-09</td>\n",
       "      <td>2023-05-12</td>\n",
       "      <td>True</td>\n",
       "      <td>0</td>\n",
       "      <td>0</td>\n",
       "      <td>PI</td>\n",
       "      <td>3</td>\n",
       "      <td>1</td>\n",
       "    </tr>\n",
       "  </tbody>\n",
       "</table>\n",
       "</div>"
      ],
      "text/plain": [
       "                                 usuario_id                  municipio  \\\n",
       "13761  0077e9df-39d3-41bc-aa57-3953e894bcf9           Três Marias - MG   \n",
       "14984  009a2ef8-ee98-4c4d-b53a-6407abc03715            Salvaterra - PA   \n",
       "16012  0103a1d1-96c8-4d98-b263-0549294aff13             Juquitiba - SP   \n",
       "4533   013e6d7a-4b86-47a3-972e-4c046dc4903b  Palmeira das Missões - RS   \n",
       "2739   021f43b9-c167-44b3-bc42-5420212df999           Paes Landim - PI   \n",
       "\n",
       "                       cargo data_criacao_cadastro data_ativo  \\\n",
       "13761  Coordenação de Equipe            2024-04-04 2024-04-05   \n",
       "14984        Coordenação APS            2023-08-17 2023-08-17   \n",
       "16012  Coordenação de Equipe            2022-11-08 2022-11-09   \n",
       "4533   Coordenação de Equipe            2023-10-24 2023-11-13   \n",
       "2739         Coordenação APS            2023-05-09 2023-05-12   \n",
       "\n",
       "       acessou_listas_nominais  clicks_imprimir_lista  clicks_filtrar_lista  \\\n",
       "13761                     True                      0                     1   \n",
       "14984                    False                      0                     0   \n",
       "16012                     True                      0                     0   \n",
       "4533                      True                      0                     0   \n",
       "2739                      True                      0                     0   \n",
       "\n",
       "      estado  delta_time  first_access  \n",
       "13761     MG           1             1  \n",
       "14984     PA           0             1  \n",
       "16012     SP           1             1  \n",
       "4533      RS          20             1  \n",
       "2739      PI           3             1  "
      ]
     },
     "execution_count": 54,
     "metadata": {},
     "output_type": "execute_result"
    }
   ],
   "source": [
    "df_first_access.head(5)"
   ]
  },
  {
   "cell_type": "code",
   "execution_count": 55,
   "metadata": {},
   "outputs": [
    {
     "data": {
      "text/plain": [
       "acessou_listas_nominais\n",
       "True     501\n",
       "False     74\n",
       "Name: count, dtype: int64"
      ]
     },
     "execution_count": 55,
     "metadata": {},
     "output_type": "execute_result"
    }
   ],
   "source": [
    "df_first_access[\"acessou_listas_nominais\"].value_counts()"
   ]
  },
  {
   "cell_type": "code",
   "execution_count": 56,
   "metadata": {},
   "outputs": [
    {
     "data": {
      "text/plain": [
       "np.float64(25.346086956521738)"
      ]
     },
     "execution_count": 56,
     "metadata": {},
     "output_type": "execute_result"
    }
   ],
   "source": [
    "df_first_access[\"delta_time\"].mean()"
   ]
  },
  {
   "cell_type": "code",
   "execution_count": 57,
   "metadata": {},
   "outputs": [
    {
     "data": {
      "text/plain": [
       "np.float64(6.0)"
      ]
     },
     "execution_count": 57,
     "metadata": {},
     "output_type": "execute_result"
    }
   ],
   "source": [
    "df_first_access[\"delta_time\"].median()"
   ]
  },
  {
   "cell_type": "code",
   "execution_count": 58,
   "metadata": {},
   "outputs": [
    {
     "data": {
      "text/plain": [
       "0    1\n",
       "Name: delta_time, dtype: int64"
      ]
     },
     "execution_count": 58,
     "metadata": {},
     "output_type": "execute_result"
    }
   ],
   "source": [
    "df_first_access[\"delta_time\"].mode()"
   ]
  },
  {
   "cell_type": "code",
   "execution_count": 59,
   "metadata": {},
   "outputs": [
    {
     "data": {
      "text/plain": [
       "575"
      ]
     },
     "execution_count": 59,
     "metadata": {},
     "output_type": "execute_result"
    }
   ],
   "source": [
    "df[\"usuario_id\"].nunique()"
   ]
  },
  {
   "cell_type": "code",
   "execution_count": 60,
   "metadata": {},
   "outputs": [
    {
     "data": {
      "text/plain": [
       "17"
      ]
     },
     "execution_count": 60,
     "metadata": {},
     "output_type": "execute_result"
    }
   ],
   "source": [
    "df[\"estado\"].nunique()"
   ]
  },
  {
   "cell_type": "code",
   "execution_count": 61,
   "metadata": {},
   "outputs": [
    {
     "data": {
      "text/plain": [
       "70"
      ]
     },
     "execution_count": 61,
     "metadata": {},
     "output_type": "execute_result"
    }
   ],
   "source": [
    "df[\"municipio\"].nunique()"
   ]
  },
  {
   "cell_type": "code",
   "execution_count": 62,
   "metadata": {},
   "outputs": [
    {
     "data": {
      "text/plain": [
       "cargo\n",
       "Coordenação de Equipe    17601\n",
       "Coordenação APS           3176\n",
       "Name: count, dtype: int64"
      ]
     },
     "execution_count": 62,
     "metadata": {},
     "output_type": "execute_result"
    }
   ],
   "source": [
    "df[\"cargo\"].value_counts()"
   ]
  },
  {
   "cell_type": "code",
   "execution_count": 63,
   "metadata": {},
   "outputs": [
    {
     "data": {
      "text/plain": [
       "0.9069371058462588"
      ]
     },
     "execution_count": 63,
     "metadata": {},
     "output_type": "execute_result"
    }
   ],
   "source": [
    "len(df[(df[\"cargo\"] == \"Coordenação de Equipe\") & (df[\"acessou_listas_nominais\"] == True)]) / len(df[(df[\"cargo\"] == \"Coordenação de Equipe\")])"
   ]
  },
  {
   "cell_type": "code",
   "execution_count": 64,
   "metadata": {},
   "outputs": [
    {
     "data": {
      "text/plain": [
       "0.8816120906801007"
      ]
     },
     "execution_count": 64,
     "metadata": {},
     "output_type": "execute_result"
    }
   ],
   "source": [
    "len(df[(df[\"cargo\"] == \"Coordenação APS\") & (df[\"acessou_listas_nominais\"] == True)]) / len(df[(df[\"cargo\"] == \"Coordenação APS\")])"
   ]
  },
  {
   "cell_type": "code",
   "execution_count": 65,
   "metadata": {},
   "outputs": [],
   "source": [
    "#Sanity check if there is any typo in NON-acces nominal list & Clicks"
   ]
  },
  {
   "cell_type": "code",
   "execution_count": 66,
   "metadata": {},
   "outputs": [
    {
     "data": {
      "text/plain": [
       "clicks_imprimir_lista\n",
       "0    2014\n",
       "Name: count, dtype: int64"
      ]
     },
     "execution_count": 66,
     "metadata": {},
     "output_type": "execute_result"
    }
   ],
   "source": [
    "df[(df[\"acessou_listas_nominais\"] == False)][\"clicks_imprimir_lista\"].value_counts()"
   ]
  },
  {
   "cell_type": "code",
   "execution_count": 67,
   "metadata": {},
   "outputs": [
    {
     "data": {
      "text/plain": [
       "clicks_filtrar_lista\n",
       "0    2014\n",
       "Name: count, dtype: int64"
      ]
     },
     "execution_count": 67,
     "metadata": {},
     "output_type": "execute_result"
    }
   ],
   "source": [
    "df[(df[\"acessou_listas_nominais\"] == False)][\"clicks_filtrar_lista\"].value_counts()"
   ]
  },
  {
   "cell_type": "code",
   "execution_count": 68,
   "metadata": {},
   "outputs": [],
   "source": [
    "# df[(df[\"acessou_listas_nominais\"] == True)][\"clicks_imprimir_lista\"].value_counts().sum()"
   ]
  },
  {
   "cell_type": "code",
   "execution_count": 69,
   "metadata": {},
   "outputs": [],
   "source": [
    "# df[(df[\"acessou_listas_nominais\"] == True)][\"clicks_filtrar_lista\"].value_counts().sum()"
   ]
  },
  {
   "cell_type": "markdown",
   "metadata": {},
   "source": [
    "Analise do dataframe: <br>\n",
    "    - Usuarios - quantos usuários unicos? 575 usuários únicos <br>\n",
    "    - cidades - Há todas as 5571 cidades do Brasil? Não, 70 cidades <br>\n",
    "    - Estados - Há todos os 26+1 Estados do Brasil? Não, 17 Estados <br>\n",
    "    - Quantos e quais cargos? Há apenas 2 cargos: Coordenação de Equipe e Coordenação APS <br>\n",
    "    - Mix de quem usa a lista nominal e mix de quem não usa? <br>\n",
    "          - Mix do Cargo de Coordenação de Equipe que usa lista: 90% <br>\n",
    "          - Mix do Cargo de Coordenação APS que usa lista: 88% <br>"
   ]
  },
  {
   "cell_type": "code",
   "execution_count": null,
   "metadata": {},
   "outputs": [],
   "source": []
  },
  {
   "cell_type": "code",
   "execution_count": 70,
   "metadata": {},
   "outputs": [],
   "source": [
    "#Quais e quantos cargos?\n",
    "#Nivel Brasil, Qual Estado/municipio que mais acessou listas nominais?\n",
    "#Nivel Brasil, Qual cargo que mais acessou as listas nominais?\n",
    "#No Estado que mais se acessou, qual cargo?\n",
    "\n",
    "#quanto tempo , quem criou perfil e acessou as listas nomiais demorou para acessar?\n",
    "#desses, qual mix <24h e mix >24h?\n",
    "#Entendo ser crítico quem demorou mais de 24h para acessar as listas pois cai no esquecimento - nao podemos deixar isso acontecer\n",
    "#Criar um sistema automatizado para notificar por e-mail e WhatsApp que a pessoa criou a lista e para acessa-la\n",
    "\n",
    "#Por que?\n",
    "\n",
    "#Nivel Brasil, Qual Estado/municipio que MENOS acessou listas nominais?\n",
    "\n",
    "#Por que? Como incentivar maior uso nas listas nominais?"
   ]
  },
  {
   "cell_type": "code",
   "execution_count": 71,
   "metadata": {},
   "outputs": [],
   "source": [
    "#Ações: baixo custo e alto impacto: quem está acessando as listas nominais mas nao ta clicando?"
   ]
  },
  {
   "cell_type": "markdown",
   "metadata": {},
   "source": [
    "# 1. First access rates to the nominal lists;:\n",
    "#### 1.1 quanto tempo , quem criou perfil e acessou as listas nomiais demorou para acessar?\n",
    "#### 1.2 desses, qual mix <24h e mix >24h?\n",
    "#### Sugestão: Entendo ser crítico quem demorou mais de 24h para acessar as listas pois cai no esquecimento - nao podemos deixar isso acontecer Criar um sistema automatizado para notificar por e-mail e WhatsApp que a pessoa criou a lista e para acessa-la"
   ]
  },
  {
   "cell_type": "code",
   "execution_count": 72,
   "metadata": {},
   "outputs": [
    {
     "data": {
      "text/plain": [
       "count    575.000000\n",
       "mean      25.346087\n",
       "std       59.864541\n",
       "min        0.000000\n",
       "25%        1.000000\n",
       "50%        6.000000\n",
       "75%       21.000000\n",
       "max      665.000000\n",
       "Name: delta_time, dtype: float64"
      ]
     },
     "execution_count": 72,
     "metadata": {},
     "output_type": "execute_result"
    }
   ],
   "source": [
    "df_first_access[\"delta_time\"].describe()"
   ]
  },
  {
   "cell_type": "code",
   "execution_count": 73,
   "metadata": {},
   "outputs": [
    {
     "data": {
      "text/plain": [
       "np.float64(6.0)"
      ]
     },
     "execution_count": 73,
     "metadata": {},
     "output_type": "execute_result"
    }
   ],
   "source": [
    "df_first_access[\"delta_time\"].median()"
   ]
  },
  {
   "cell_type": "code",
   "execution_count": 74,
   "metadata": {},
   "outputs": [
    {
     "data": {
      "image/png": "[encoded data removed]",
      "text/plain": [
       "<Figure size 640x480 with 1 Axes>"
      ]
     },
     "metadata": {},
     "output_type": "display_data"
    }
   ],
   "source": [
    "sns.boxplot(x=df_first_access[\"delta_time\"])\n",
    "\n",
    "plt.axvline(df_first_access[\"delta_time\"].median(), color=\"red\", linestyle=\"--\");"
   ]
  },
  {
   "cell_type": "code",
   "execution_count": 75,
   "metadata": {},
   "outputs": [
    {
     "data": {
      "text/html": [
       "<div>\n",
       "<style scoped>\n",
       "    .dataframe tbody tr th:only-of-type {\n",
       "        vertical-align: middle;\n",
       "    }\n",
       "\n",
       "    .dataframe tbody tr th {\n",
       "        vertical-align: top;\n",
       "    }\n",
       "\n",
       "    .dataframe thead th {\n",
       "        text-align: right;\n",
       "    }\n",
       "</style>\n",
       "<table border=\"1\" class=\"dataframe\">\n",
       "  <thead>\n",
       "    <tr style=\"text-align: right;\">\n",
       "      <th></th>\n",
       "      <th>usuario_id</th>\n",
       "      <th>municipio</th>\n",
       "      <th>cargo</th>\n",
       "      <th>data_criacao_cadastro</th>\n",
       "      <th>data_ativo</th>\n",
       "      <th>acessou_listas_nominais</th>\n",
       "      <th>clicks_imprimir_lista</th>\n",
       "      <th>clicks_filtrar_lista</th>\n",
       "      <th>estado</th>\n",
       "      <th>delta_time</th>\n",
       "      <th>first_access</th>\n",
       "    </tr>\n",
       "  </thead>\n",
       "  <tbody>\n",
       "    <tr>\n",
       "      <th>13761</th>\n",
       "      <td>0077e9df-39d3-41bc-aa57-3953e894bcf9</td>\n",
       "      <td>Três Marias - MG</td>\n",
       "      <td>Coordenação de Equipe</td>\n",
       "      <td>2024-04-04</td>\n",
       "      <td>2024-04-05</td>\n",
       "      <td>True</td>\n",
       "      <td>0</td>\n",
       "      <td>1</td>\n",
       "      <td>MG</td>\n",
       "      <td>1</td>\n",
       "      <td>1</td>\n",
       "    </tr>\n",
       "    <tr>\n",
       "      <th>14984</th>\n",
       "      <td>009a2ef8-ee98-4c4d-b53a-6407abc03715</td>\n",
       "      <td>Salvaterra - PA</td>\n",
       "      <td>Coordenação APS</td>\n",
       "      <td>2023-08-17</td>\n",
       "      <td>2023-08-17</td>\n",
       "      <td>False</td>\n",
       "      <td>0</td>\n",
       "      <td>0</td>\n",
       "      <td>PA</td>\n",
       "      <td>0</td>\n",
       "      <td>1</td>\n",
       "    </tr>\n",
       "    <tr>\n",
       "      <th>16012</th>\n",
       "      <td>0103a1d1-96c8-4d98-b263-0549294aff13</td>\n",
       "      <td>Juquitiba - SP</td>\n",
       "      <td>Coordenação de Equipe</td>\n",
       "      <td>2022-11-08</td>\n",
       "      <td>2022-11-09</td>\n",
       "      <td>True</td>\n",
       "      <td>0</td>\n",
       "      <td>0</td>\n",
       "      <td>SP</td>\n",
       "      <td>1</td>\n",
       "      <td>1</td>\n",
       "    </tr>\n",
       "    <tr>\n",
       "      <th>4533</th>\n",
       "      <td>013e6d7a-4b86-47a3-972e-4c046dc4903b</td>\n",
       "      <td>Palmeira das Missões - RS</td>\n",
       "      <td>Coordenação de Equipe</td>\n",
       "      <td>2023-10-24</td>\n",
       "      <td>2023-11-13</td>\n",
       "      <td>True</td>\n",
       "      <td>0</td>\n",
       "      <td>0</td>\n",
       "      <td>RS</td>\n",
       "      <td>20</td>\n",
       "      <td>1</td>\n",
       "    </tr>\n",
       "  </tbody>\n",
       "</table>\n",
       "</div>"
      ],
      "text/plain": [
       "                                 usuario_id                  municipio  \\\n",
       "13761  0077e9df-39d3-41bc-aa57-3953e894bcf9           Três Marias - MG   \n",
       "14984  009a2ef8-ee98-4c4d-b53a-6407abc03715            Salvaterra - PA   \n",
       "16012  0103a1d1-96c8-4d98-b263-0549294aff13             Juquitiba - SP   \n",
       "4533   013e6d7a-4b86-47a3-972e-4c046dc4903b  Palmeira das Missões - RS   \n",
       "\n",
       "                       cargo data_criacao_cadastro data_ativo  \\\n",
       "13761  Coordenação de Equipe            2024-04-04 2024-04-05   \n",
       "14984        Coordenação APS            2023-08-17 2023-08-17   \n",
       "16012  Coordenação de Equipe            2022-11-08 2022-11-09   \n",
       "4533   Coordenação de Equipe            2023-10-24 2023-11-13   \n",
       "\n",
       "       acessou_listas_nominais  clicks_imprimir_lista  clicks_filtrar_lista  \\\n",
       "13761                     True                      0                     1   \n",
       "14984                    False                      0                     0   \n",
       "16012                     True                      0                     0   \n",
       "4533                      True                      0                     0   \n",
       "\n",
       "      estado  delta_time  first_access  \n",
       "13761     MG           1             1  \n",
       "14984     PA           0             1  \n",
       "16012     SP           1             1  \n",
       "4533      RS          20             1  "
      ]
     },
     "execution_count": 75,
     "metadata": {},
     "output_type": "execute_result"
    }
   ],
   "source": [
    "df_first_access.head(4)"
   ]
  },
  {
   "cell_type": "markdown",
   "metadata": {},
   "source": [
    "Important: <br>\n",
    "    - 0 for NON access in nominal list <br>\n",
    "    - 1 for access YES! <br>"
   ]
  },
  {
   "cell_type": "code",
   "execution_count": 76,
   "metadata": {},
   "outputs": [
    {
     "name": "stderr",
     "output_type": "stream",
     "text": [
      "/tmp/ipykernel_260089/2663819793.py:1: SettingWithCopyWarning: \n",
      "A value is trying to be set on a copy of a slice from a DataFrame.\n",
      "Try using .loc[row_indexer,col_indexer] = value instead\n",
      "\n",
      "See the caveats in the documentation: https://pandas.pydata.org/pandas-docs/stable/user_guide/indexing.html#returning-a-view-versus-a-copy\n",
      "  df_first_access[\"acessou_listas_nominais\"] = df[\"acessou_listas_nominais\"].apply(lambda x: 1 if x == True else 0)\n"
     ]
    },
    {
     "data": {
      "text/plain": [
       "array([1, 0])"
      ]
     },
     "execution_count": 76,
     "metadata": {},
     "output_type": "execute_result"
    }
   ],
   "source": [
    "df_first_access[\"acessou_listas_nominais\"] = df[\"acessou_listas_nominais\"].apply(lambda x: 1 if x == True else 0)\n",
    "df_first_access[\"acessou_listas_nominais\"].unique()"
   ]
  },
  {
   "cell_type": "code",
   "execution_count": 77,
   "metadata": {},
   "outputs": [],
   "source": [
    "from sklearn.model_selection import train_test_split\n",
    "from sklearn.linear_model import LogisticRegression\n",
    "from sklearn.metrics import accuracy_score"
   ]
  },
  {
   "cell_type": "code",
   "execution_count": 78,
   "metadata": {},
   "outputs": [],
   "source": [
    "X = df_first_access[\"delta_time\"].values.reshape(-1, 1) #ajustar o shape pois DF estava em espaço >2Bi\n",
    "y = df_first_access[\"acessou_listas_nominais\"]\n",
    "\n",
    "X_train, X_test, y_train, y_test = train_test_split(X, y, test_size=0.2, random_state=42)"
   ]
  },
  {
   "cell_type": "code",
   "execution_count": 79,
   "metadata": {},
   "outputs": [
    {
     "data": {
      "text/plain": [
       "0.8695652173913043"
      ]
     },
     "execution_count": 79,
     "metadata": {},
     "output_type": "execute_result"
    }
   ],
   "source": [
    "model = LogisticRegression()\n",
    "model.fit(X_train, y_train)\n",
    "y_pred = model.predict(X_test)\n",
    "accuracy = accuracy_score(y_test, y_pred)\n",
    "accuracy"
   ]
  },
  {
   "cell_type": "code",
   "execution_count": 80,
   "metadata": {},
   "outputs": [
    {
     "data": {
      "text/plain": [
       "np.float64(-2083.85848511682)"
      ]
     },
     "execution_count": 80,
     "metadata": {},
     "output_type": "execute_result"
    }
   ],
   "source": [
    "decision_boundary = -model.intercept_[0] / model.coef_[0][0]\n",
    "decision_boundary"
   ]
  },
  {
   "cell_type": "code",
   "execution_count": 81,
   "metadata": {},
   "outputs": [
    {
     "name": "stdout",
     "output_type": "stream",
     "text": [
      "[[0.12771913 0.87228087]\n",
      " [0.12965727 0.87034273]\n",
      " [0.13048078 0.86951922]\n",
      " [0.11707335 0.88292665]\n",
      " [0.12711225 0.87288775]\n",
      " [0.12924717 0.87075283]\n",
      " [0.12185782 0.87814218]\n",
      " [0.12863409 0.87136591]\n",
      " [0.12955464 0.87044536]\n",
      " [0.13017144 0.86982856]\n",
      " [0.13058403 0.86941597]\n",
      " [0.12610625 0.87389375]\n",
      " [0.12234542 0.87765458]\n",
      " [0.12863409 0.87136591]\n",
      " [0.1287361  0.8712639 ]\n",
      " [0.12843029 0.87156971]\n",
      " [0.13048078 0.86951922]\n",
      " [0.13048078 0.86951922]\n",
      " [0.13058403 0.86941597]\n",
      " [0.13006847 0.86993153]\n",
      " [0.1303776  0.8696224 ]\n",
      " [0.12853216 0.87146784]\n",
      " [0.12975996 0.87024004]\n",
      " [0.13017144 0.86982856]\n",
      " [0.12914482 0.87085518]\n",
      " [0.13058403 0.86941597]\n",
      " [0.13027449 0.86972551]\n",
      " [0.12421362 0.87578638]\n",
      " [0.1303776  0.8696224 ]\n",
      " [0.11868151 0.88131849]\n",
      " [0.13017144 0.86982856]\n",
      " [0.13058403 0.86941597]\n",
      " [0.1303776  0.8696224 ]\n",
      " [0.12701134 0.87298866]\n",
      " [0.12904253 0.87095747]\n",
      " [0.13017144 0.86982856]\n",
      " [0.13027449 0.86972551]\n",
      " [0.12812509 0.87187491]\n",
      " [0.13058403 0.86941597]\n",
      " [0.13058403 0.86941597]\n",
      " [0.12224776 0.87775224]\n",
      " [0.1303776  0.8696224 ]\n",
      " [0.13058403 0.86941597]\n",
      " [0.12843029 0.87156971]\n",
      " [0.12721322 0.87278678]\n",
      " [0.1280235  0.8719765 ]\n",
      " [0.12711225 0.87288775]\n",
      " [0.1303776  0.8696224 ]\n",
      " [0.12904253 0.87095747]\n",
      " [0.12975996 0.87024004]\n",
      " [0.12924717 0.87075283]\n",
      " [0.11992414 0.88007586]\n",
      " [0.13027449 0.86972551]\n",
      " [0.12480864 0.87519136]\n",
      " [0.12822675 0.87177325]\n",
      " [0.13048078 0.86951922]\n",
      " [0.1303776  0.8696224 ]\n",
      " [0.12421362 0.87578638]\n",
      " [0.12955464 0.87044536]\n",
      " [0.12975996 0.87024004]\n",
      " [0.1303776  0.8696224 ]\n",
      " [0.1287361  0.8712639 ]\n",
      " [0.12283469 0.87716531]\n",
      " [0.13048078 0.86951922]\n",
      " [0.13058403 0.86941597]\n",
      " [0.12986273 0.87013727]\n",
      " [0.13048078 0.86951922]\n",
      " [0.09679759 0.90320241]\n",
      " [0.12945208 0.87054792]\n",
      " [0.13058403 0.86941597]\n",
      " [0.1303776  0.8696224 ]\n",
      " [0.13058403 0.86941597]\n",
      " [0.12945208 0.87054792]\n",
      " [0.11934923 0.88065077]\n",
      " [0.12792197 0.87207803]\n",
      " [0.13048078 0.86951922]\n",
      " [0.13048078 0.86951922]\n",
      " [0.1303776  0.8696224 ]\n",
      " [0.12996556 0.87003444]\n",
      " [0.12342404 0.87657596]\n",
      " [0.12996556 0.87003444]\n",
      " [0.12792197 0.87207803]\n",
      " [0.12934959 0.87065041]\n",
      " [0.10419614 0.89580386]\n",
      " [0.12822675 0.87177325]\n",
      " [0.12986273 0.87013727]\n",
      " [0.13058403 0.86941597]\n",
      " [0.13017144 0.86982856]\n",
      " [0.13027449 0.86972551]\n",
      " [0.13058403 0.86941597]\n",
      " [0.13058403 0.86941597]\n",
      " [0.13006847 0.86993153]\n",
      " [0.13048078 0.86951922]\n",
      " [0.13048078 0.86951922]\n",
      " [0.12975996 0.87024004]\n",
      " [0.13058403 0.86941597]\n",
      " [0.13048078 0.86951922]\n",
      " [0.08824797 0.91175203]\n",
      " [0.12832849 0.87167151]\n",
      " [0.13058403 0.86941597]\n",
      " [0.12853216 0.87146784]\n",
      " [0.120791   0.879209  ]\n",
      " [0.12640733 0.87359267]\n",
      " [0.12215018 0.87784982]\n",
      " [0.13058403 0.86941597]\n",
      " [0.12832849 0.87167151]\n",
      " [0.12843029 0.87156971]\n",
      " [0.12782052 0.87217948]\n",
      " [0.10772945 0.89227055]\n",
      " [0.13048078 0.86951922]\n",
      " [0.13017144 0.86982856]\n",
      " [0.11792236 0.88207764]\n",
      " [0.13017144 0.86982856]\n",
      " [0.1303776  0.8696224 ]\n",
      " [0.13017144 0.86982856]]\n"
     ]
    }
   ],
   "source": [
    "proba = model.predict_proba(X_test)\n",
    "print(proba)"
   ]
  },
  {
   "cell_type": "code",
   "execution_count": 96,
   "metadata": {},
   "outputs": [
    {
     "data": {
      "text/plain": [
       "array([0.12771913, 0.12965727, 0.13048078, 0.11707335, 0.12711225,\n",
       "       0.12924717, 0.12185782, 0.12863409, 0.12955464, 0.13017144,\n",
       "       0.13058403, 0.12610625, 0.12234542, 0.12863409, 0.1287361 ,\n",
       "       0.12843029, 0.13048078, 0.13048078, 0.13058403, 0.13006847,\n",
       "       0.1303776 , 0.12853216, 0.12975996, 0.13017144, 0.12914482,\n",
       "       0.13058403, 0.13027449, 0.12421362, 0.1303776 , 0.11868151,\n",
       "       0.13017144, 0.13058403, 0.1303776 , 0.12701134, 0.12904253,\n",
       "       0.13017144, 0.13027449, 0.12812509, 0.13058403, 0.13058403,\n",
       "       0.12224776, 0.1303776 , 0.13058403, 0.12843029, 0.12721322,\n",
       "       0.1280235 , 0.12711225, 0.1303776 , 0.12904253, 0.12975996,\n",
       "       0.12924717, 0.11992414, 0.13027449, 0.12480864, 0.12822675,\n",
       "       0.13048078, 0.1303776 , 0.12421362, 0.12955464, 0.12975996,\n",
       "       0.1303776 , 0.1287361 , 0.12283469, 0.13048078, 0.13058403,\n",
       "       0.12986273, 0.13048078, 0.09679759, 0.12945208, 0.13058403,\n",
       "       0.1303776 , 0.13058403, 0.12945208, 0.11934923, 0.12792197,\n",
       "       0.13048078, 0.13048078, 0.1303776 , 0.12996556, 0.12342404,\n",
       "       0.12996556, 0.12792197, 0.12934959, 0.10419614, 0.12822675,\n",
       "       0.12986273, 0.13058403, 0.13017144, 0.13027449, 0.13058403,\n",
       "       0.13058403, 0.13006847, 0.13048078, 0.13048078, 0.12975996,\n",
       "       0.13058403, 0.13048078, 0.08824797, 0.12832849, 0.13058403,\n",
       "       0.12853216, 0.120791  , 0.12640733, 0.12215018, 0.13058403,\n",
       "       0.12832849, 0.12843029, 0.12782052, 0.10772945, 0.13048078,\n",
       "       0.13017144, 0.11792236, 0.13017144, 0.1303776 , 0.13017144])"
      ]
     },
     "execution_count": 96,
     "metadata": {},
     "output_type": "execute_result"
    }
   ],
   "source": [
    "proba_no_access = proba[:,0]\n",
    "proba_no_access"
   ]
  },
  {
   "cell_type": "code",
   "execution_count": 97,
   "metadata": {},
   "outputs": [
    {
     "name": "stdout",
     "output_type": "stream",
     "text": [
      "[1.89580472]\n",
      "[[0.00090976]]\n"
     ]
    }
   ],
   "source": [
    "intercept = model.intercept_\n",
    "coef = model.coef_\n",
    "print(intercept)\n",
    "print(coef)"
   ]
  },
  {
   "cell_type": "code",
   "execution_count": 98,
   "metadata": {},
   "outputs": [
    {
     "name": "stdout",
     "output_type": "stream",
     "text": [
      "-2083.85848511682\n"
     ]
    }
   ],
   "source": [
    "limit_50 = intercept / coef\n",
    "limit_50 = limit_50 *-1\n",
    "limit_50 = limit_50[0][0]\n",
    "print(limit_50)"
   ]
  },
  {
   "cell_type": "code",
   "execution_count": 99,
   "metadata": {},
   "outputs": [],
   "source": [
    "values = np.linspace(X.min(), X.max()+5000, 100).reshape(-1, 1)\n",
    "probabilities = model.predict_proba(values)[:, 0]"
   ]
  },
  {
   "cell_type": "code",
   "execution_count": 100,
   "metadata": {},
   "outputs": [
    {
     "data": {
      "text/plain": [
       "Text(-2083.85848511682, 0.5, '-2083.86')"
      ]
     },
     "execution_count": 100,
     "metadata": {},
     "output_type": "execute_result"
    },
    {
     "data": {
      "image/png": "[encoded data removed]",
      "text/plain": [
       "<Figure size 640x480 with 1 Axes>"
      ]
     },
     "metadata": {},
     "output_type": "display_data"
    }
   ],
   "source": [
    "plt.plot(values, probabilities)\n",
    "plt.plot([limit_50, limit_50], [0, 0.5], color='red', linestyle='dashed', linewidth=2)\n",
    "plt.axhline(y=0.5, xmax=limit_50 / values.max(), color='red', linestyle='dashed', linewidth=2)\n",
    "plt.text(limit_50, 0.5, f'{limit_50:.2f}', color='red', fontsize=10, ha='center', va='bottom')"
   ]
  },
  {
   "cell_type": "code",
   "execution_count": 101,
   "metadata": {},
   "outputs": [
    {
     "name": "stdout",
     "output_type": "stream",
     "text": [
      "0 665\n"
     ]
    }
   ],
   "source": [
    "print(X.min(), X.max())"
   ]
  },
  {
   "cell_type": "code",
   "execution_count": 95,
   "metadata": {},
   "outputs": [
    {
     "data": {
      "image/png": "[encoded data removed]",
      "text/plain": [
       "<Figure size 640x480 with 1 Axes>"
      ]
     },
     "metadata": {},
     "output_type": "display_data"
    }
   ],
   "source": [
    "X_range = np.linspace(X.min(), X.max(), 500).reshape(-1, 1)\n",
    "probs = model.predict_proba(X_range)[:, 0]  # Probabilidade de y=0\n",
    "\n",
    "# Plotar\n",
    "plt.plot(X_range, probs, label=\"P(Não acessar listas nominais)\")\n",
    "plt.axhline(0.5, color=\"red\", linestyle=\"--\", label=\"50% de chance\")\n",
    "plt.axvline(decision_boundary, color=\"green\", linestyle=\"--\", label=f\"Ponto de decisão: {decision_boundary:.2f} dias\")\n",
    "plt.xlabel(\"Dias desde a criação do login\")\n",
    "plt.ylabel(\"Probabilidade de NÃO acessar listas\")\n",
    "plt.legend()\n",
    "plt.title(\"Probabilidade de NÃO acessar listas nominais\")\n",
    "plt.show()"
   ]
  },
  {
   "cell_type": "markdown",
   "metadata": {},
   "source": [
    "# 2. Comparison of activity between different user roles/positions:\n",
    "#### 2.1 Nivel Brasil, Qual cargo que mais acessou as listas nominais?\n",
    "#### 2.2 Nivel Brasil, Qual cargo que MENOS acessou as listas nominais?\n",
    "#### Sugestão: entender o porque?"
   ]
  },
  {
   "cell_type": "code",
   "execution_count": null,
   "metadata": {},
   "outputs": [],
   "source": []
  },
  {
   "cell_type": "markdown",
   "metadata": {},
   "source": [
    "# 3. Behavioral patterns in the usage of the nominal lists;\n",
    "#### 3.1 Quantos cliques (seja imprimir ou ) o cara que fez cadastro ha 24 fez ao longo de todas as jornadas?\n",
    "#### 3.2 Baixo custo e alto impacto: quem está acessando as listas nominais e está fazendo 0 clique?\n",
    "####  Correlação de Cliques por tempo de criação de perfil\n",
    "\n",
    "#### Correlação de Cliques por tempo de criação de perfil\n",
    "#### Sugestão: xxx"
   ]
  },
  {
   "cell_type": "code",
   "execution_count": null,
   "metadata": {},
   "outputs": [],
   "source": []
  },
  {
   "cell_type": "code",
   "execution_count": null,
   "metadata": {},
   "outputs": [],
   "source": []
  },
  {
   "cell_type": "code",
   "execution_count": null,
   "metadata": {},
   "outputs": [],
   "source": []
  },
  {
   "cell_type": "code",
   "execution_count": null,
   "metadata": {},
   "outputs": [],
   "source": []
  },
  {
   "cell_type": "code",
   "execution_count": null,
   "metadata": {},
   "outputs": [],
   "source": []
  },
  {
   "cell_type": "code",
   "execution_count": null,
   "metadata": {},
   "outputs": [],
   "source": []
  },
  {
   "cell_type": "markdown",
   "metadata": {},
   "source": [
    "# JOB DONE ! 💪"
   ]
  },
  {
   "cell_type": "markdown",
   "metadata": {},
   "source": [
    "________________________________________________"
   ]
  },
  {
   "cell_type": "markdown",
   "metadata": {},
   "source": [
    "## Made by: Fernando Cirone.\n",
    "#### [LinkInd](https://www.linkedin.com/in/fernandocirone/) | [GitHub](https://github.com/thecirocks) | [Portfolio](https://troopl.com/fernandocirone) | [E-mail](mailto:fernando.cirone@hotmail.com) | [WhatsApp](https://api.whatsapp.com/send?phone=5521984316148)"
   ]
  }
 ],
 "metadata": {
  "kernelspec": {
   "display_name": "sus",
   "language": "python",
   "name": "python3"
  },
  "language_info": {
   "codemirror_mode": {
    "name": "ipython",
    "version": 3
   },
   "file_extension": ".py",
   "mimetype": "text/x-python",
   "name": "python",
   "nbconvert_exporter": "python",
   "pygments_lexer": "ipython3",
   "version": "3.10.6"
  }
 },
 "nbformat": 4,
 "nbformat_minor": 2
}
