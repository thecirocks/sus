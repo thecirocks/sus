{
 "cells": [
  {
   "cell_type": "markdown",
   "metadata": {},
   "source": [
    "__________________________"
   ]
  },
  {
   "cell_type": "markdown",
   "metadata": {},
   "source": [
    "## Notebook for ImpulsoGOV Data Analysis Case"
   ]
  },
  {
   "cell_type": "markdown",
   "metadata": {},
   "source": [
    "# Candidate: Fernando Cirone - 16th November 2024\n",
    "#### [LinkInd](https://www.linkedin.com/in/fernandocirone/) | [GitHub](https://github.com/thecirocks) | [Portfolio](https://troopl.com/fernandocirone) | [E-mail](mailto:fernando.cirone@hotmail.com) | [WhatsApp](https://api.whatsapp.com/send?phone=5521984316148)"
   ]
  },
  {
   "cell_type": "markdown",
   "metadata": {},
   "source": [
    "____________________"
   ]
  },
  {
   "cell_type": "markdown",
   "metadata": {},
   "source": [
    "## 🚨 TASK 🚨 "
   ]
  },
  {
   "cell_type": "markdown",
   "metadata": {},
   "source": [
    "### Monitoring User Behavior in the Product\n",
    "\n",
    "To measure the impact of our solutions, we consider it essential to track the success of the tools we provide to our users (SUS managers and healthcare professionals).\n",
    "\n",
    "In this case study, we will ask you to perform an exploratory analysis to identify usage patterns and draw conclusions about the engagement with Impulso Previne's main tool: the nominal lists.\n",
    "\n",
    "The exploration should focus on deriving insights related to the following three points:\n",
    "\n",
    "- First access rates to the nominal lists; <br>\n",
    "- Comparison of activity between different user roles/positions; <br>\n",
    "- Behavioral patterns in the usage of the nominal lists; <br>"
   ]
  },
  {
   "cell_type": "markdown",
   "metadata": {},
   "source": [
    "### What it' the nominal list?\n",
    "\n",
    "Nominal lists are tools that consolidate data by individual citizen, indicating the status of appointments, exams, procedures, and other aspects.\n",
    "They enable actions such as filtering, searching, sorting, and also provide the option to print the list for sharing in PDF format or for use on paper."
   ]
  },
  {
   "cell_type": "markdown",
   "metadata": {},
   "source": [
    "### Analysis must contain:\n",
    "\n",
    "**Explanation of Metrics**: Explain the metrics used for the exploration, including definitions and assumptions adopted.\n",
    "\n",
    "**Visualizations**: Include at least one visualization to support the conclusions for each of the three points of analysis.\n",
    "\n",
    "**Conclusions**: Present specific insights for each of the three topics. These conclusions may explore comparisons, variations, patterns in historical data, classification into categories, among other aspects. Focus on up to two conclusions you consider most relevant for each of the three points."
   ]
  },
  {
   "cell_type": "markdown",
   "metadata": {},
   "source": [
    "### Data Glossary\n",
    "\n",
    "usuarios_cadastrados_ip: Contains information about users who registered and can access the logged-in area of the product.\n",
    "\n",
    "- usuario_id: unique identifier of the user <br>\n",
    "- data_criacao_cadastro: user registration creation date <br>\n",
    "- municipio, cargo: user's municipality and role <br>\n",
    "\n",
    "\n",
    "dias_ativo_usuarios_ip: Data about the days users were active in the logged-in area of the product. Each row represents a day that a user was active on the platform.\n",
    "\n",
    "- usuario_id: unique identifier of the user <br>\n",
    "- data_ativo: user activity date <br>\n",
    "- acessou_listas_nominais: true if the user accessed at least one nominal list <br>\n",
    "- clicks_imprimir_lista: number of clicks to print a nominal list <br>\n",
    "- clicks_filtrar_lista: number of clicks to apply a filter to the nominal list <br>"
   ]
  },
  {
   "cell_type": "markdown",
   "metadata": {},
   "source": [
    "____________________"
   ]
  },
  {
   "cell_type": "markdown",
   "metadata": {},
   "source": [
    "## Agenda of this notebook:\n",
    "#### 0 - [Import Python Libraries](#import-python-libraries)  \n",
    "#### 1 - [Quick analysis of the data](#quick-analysis-of-the-data)  \n",
    "#### 2 - [Editing: Merging and creating a new DataFrame for first access analysis afterwards](#editing-merging-and-creating-a-new-dataframe-for-first-access-analysis-afterwards)  \n",
    "#### 3 - [Analysis of the merged dataframe](#analysis-of-the-merged-dataframe)  \n",
    "#### 4 - [Answering Questions](#answering-questions)\n"
   ]
  },
  {
   "cell_type": "markdown",
   "metadata": {},
   "source": [
    "________________________________________________________________________________"
   ]
  },
  {
   "cell_type": "markdown",
   "metadata": {},
   "source": [
    "<a id=\"import-python-libraries\"></a>"
   ]
  },
  {
   "cell_type": "markdown",
   "metadata": {},
   "source": [
    "# 0. Import Python Libraries"
   ]
  },
  {
   "cell_type": "code",
   "execution_count": 1,
   "metadata": {},
   "outputs": [],
   "source": [
    "import pandas as pd\n",
    "import numpy as np\n",
    "import matplotlib.pyplot as plt\n",
    "import seaborn as sns"
   ]
  },
  {
   "cell_type": "markdown",
   "metadata": {},
   "source": [
    "<a id=\"quick-analysis-of-the-data\"></a>"
   ]
  },
  {
   "cell_type": "markdown",
   "metadata": {},
   "source": [
    "_______________________"
   ]
  },
  {
   "cell_type": "markdown",
   "metadata": {},
   "source": [
    "# 1. Quick analysis of the data"
   ]
  },
  {
   "cell_type": "code",
   "execution_count": 2,
   "metadata": {},
   "outputs": [
    {
     "data": {
      "text/html": [
       "<div>\n",
       "<style scoped>\n",
       "    .dataframe tbody tr th:only-of-type {\n",
       "        vertical-align: middle;\n",
       "    }\n",
       "\n",
       "    .dataframe tbody tr th {\n",
       "        vertical-align: top;\n",
       "    }\n",
       "\n",
       "    .dataframe thead th {\n",
       "        text-align: right;\n",
       "    }\n",
       "</style>\n",
       "<table border=\"1\" class=\"dataframe\">\n",
       "  <thead>\n",
       "    <tr style=\"text-align: right;\">\n",
       "      <th></th>\n",
       "      <th>usuario_id</th>\n",
       "      <th>municipio</th>\n",
       "      <th>cargo</th>\n",
       "      <th>data_criacao_cadastro</th>\n",
       "    </tr>\n",
       "  </thead>\n",
       "  <tbody>\n",
       "    <tr>\n",
       "      <th>0</th>\n",
       "      <td>a034d9fc-d54a-4a89-bdef-2e596af3a856</td>\n",
       "      <td>São Roque - SP</td>\n",
       "      <td>Coordenação de Equipe</td>\n",
       "      <td>23/3/2023</td>\n",
       "    </tr>\n",
       "    <tr>\n",
       "      <th>1</th>\n",
       "      <td>877b90f4-d597-4348-a2e7-e29c4f3b3f4e</td>\n",
       "      <td>Marechal Thaumaturgo - AC</td>\n",
       "      <td>Coordenação APS</td>\n",
       "      <td>24/10/2023</td>\n",
       "    </tr>\n",
       "  </tbody>\n",
       "</table>\n",
       "</div>"
      ],
      "text/plain": [
       "                             usuario_id                  municipio  \\\n",
       "0  a034d9fc-d54a-4a89-bdef-2e596af3a856             São Roque - SP   \n",
       "1  877b90f4-d597-4348-a2e7-e29c4f3b3f4e  Marechal Thaumaturgo - AC   \n",
       "\n",
       "                   cargo data_criacao_cadastro  \n",
       "0  Coordenação de Equipe             23/3/2023  \n",
       "1        Coordenação APS            24/10/2023  "
      ]
     },
     "execution_count": 2,
     "metadata": {},
     "output_type": "execute_result"
    }
   ],
   "source": [
    "df1 = pd.read_csv('data/usuarios_cadastrados_ip.csv', delimiter=',')\n",
    "df1.head(2)"
   ]
  },
  {
   "cell_type": "code",
   "execution_count": 3,
   "metadata": {},
   "outputs": [
    {
     "data": {
      "text/html": [
       "<div>\n",
       "<style scoped>\n",
       "    .dataframe tbody tr th:only-of-type {\n",
       "        vertical-align: middle;\n",
       "    }\n",
       "\n",
       "    .dataframe tbody tr th {\n",
       "        vertical-align: top;\n",
       "    }\n",
       "\n",
       "    .dataframe thead th {\n",
       "        text-align: right;\n",
       "    }\n",
       "</style>\n",
       "<table border=\"1\" class=\"dataframe\">\n",
       "  <thead>\n",
       "    <tr style=\"text-align: right;\">\n",
       "      <th></th>\n",
       "      <th>usuario_id</th>\n",
       "      <th>data_ativo</th>\n",
       "      <th>acessou_listas_nominais</th>\n",
       "      <th>clicks_imprimir_lista</th>\n",
       "      <th>clicks_filtrar_lista</th>\n",
       "    </tr>\n",
       "  </thead>\n",
       "  <tbody>\n",
       "    <tr>\n",
       "      <th>0</th>\n",
       "      <td>dec6bb91-05a8-4709-a7af-ab2aba6d1f3e</td>\n",
       "      <td>18/12/2023</td>\n",
       "      <td>True</td>\n",
       "      <td>0</td>\n",
       "      <td>0</td>\n",
       "    </tr>\n",
       "    <tr>\n",
       "      <th>1</th>\n",
       "      <td>0a83d262-3630-41a5-b36f-a48ebe9f80e2</td>\n",
       "      <td>18/12/2023</td>\n",
       "      <td>True</td>\n",
       "      <td>0</td>\n",
       "      <td>0</td>\n",
       "    </tr>\n",
       "  </tbody>\n",
       "</table>\n",
       "</div>"
      ],
      "text/plain": [
       "                             usuario_id  data_ativo  acessou_listas_nominais  \\\n",
       "0  dec6bb91-05a8-4709-a7af-ab2aba6d1f3e  18/12/2023                     True   \n",
       "1  0a83d262-3630-41a5-b36f-a48ebe9f80e2  18/12/2023                     True   \n",
       "\n",
       "   clicks_imprimir_lista  clicks_filtrar_lista  \n",
       "0                      0                     0  \n",
       "1                      0                     0  "
      ]
     },
     "execution_count": 3,
     "metadata": {},
     "output_type": "execute_result"
    }
   ],
   "source": [
    "df2 = pd.read_csv('data/dias_ativo_usuarios_ip.csv', delimiter=',')\n",
    "df2.head(2)"
   ]
  },
  {
   "cell_type": "markdown",
   "metadata": {},
   "source": [
    "### As we can see above: there is one key that matches the both dfs: usuario_id - merge both dfs in one to enhance analysis"
   ]
  },
  {
   "cell_type": "markdown",
   "metadata": {},
   "source": [
    "### But first quick check if there is null or duplicates"
   ]
  },
  {
   "cell_type": "markdown",
   "metadata": {},
   "source": [
    "### df1"
   ]
  },
  {
   "cell_type": "code",
   "execution_count": 4,
   "metadata": {},
   "outputs": [
    {
     "data": {
      "text/html": [
       "<div>\n",
       "<style scoped>\n",
       "    .dataframe tbody tr th:only-of-type {\n",
       "        vertical-align: middle;\n",
       "    }\n",
       "\n",
       "    .dataframe tbody tr th {\n",
       "        vertical-align: top;\n",
       "    }\n",
       "\n",
       "    .dataframe thead th {\n",
       "        text-align: right;\n",
       "    }\n",
       "</style>\n",
       "<table border=\"1\" class=\"dataframe\">\n",
       "  <thead>\n",
       "    <tr style=\"text-align: right;\">\n",
       "      <th></th>\n",
       "      <th>usuario_id</th>\n",
       "      <th>municipio</th>\n",
       "      <th>cargo</th>\n",
       "      <th>data_criacao_cadastro</th>\n",
       "    </tr>\n",
       "  </thead>\n",
       "  <tbody>\n",
       "    <tr>\n",
       "      <th>0</th>\n",
       "      <td>a034d9fc-d54a-4a89-bdef-2e596af3a856</td>\n",
       "      <td>São Roque - SP</td>\n",
       "      <td>Coordenação de Equipe</td>\n",
       "      <td>23/3/2023</td>\n",
       "    </tr>\n",
       "  </tbody>\n",
       "</table>\n",
       "</div>"
      ],
      "text/plain": [
       "                             usuario_id       municipio  \\\n",
       "0  a034d9fc-d54a-4a89-bdef-2e596af3a856  São Roque - SP   \n",
       "\n",
       "                   cargo data_criacao_cadastro  \n",
       "0  Coordenação de Equipe             23/3/2023  "
      ]
     },
     "execution_count": 4,
     "metadata": {},
     "output_type": "execute_result"
    }
   ],
   "source": [
    "df1.head(1)"
   ]
  },
  {
   "cell_type": "code",
   "execution_count": 5,
   "metadata": {},
   "outputs": [
    {
     "data": {
      "text/plain": [
       "(695, 4)"
      ]
     },
     "execution_count": 5,
     "metadata": {},
     "output_type": "execute_result"
    }
   ],
   "source": [
    "df1.shape"
   ]
  },
  {
   "cell_type": "code",
   "execution_count": 6,
   "metadata": {},
   "outputs": [
    {
     "name": "stdout",
     "output_type": "stream",
     "text": [
      "<class 'pandas.core.frame.DataFrame'>\n",
      "RangeIndex: 695 entries, 0 to 694\n",
      "Data columns (total 4 columns):\n",
      " #   Column                 Non-Null Count  Dtype \n",
      "---  ------                 --------------  ----- \n",
      " 0   usuario_id             695 non-null    object\n",
      " 1   municipio              695 non-null    object\n",
      " 2   cargo                  695 non-null    object\n",
      " 3   data_criacao_cadastro  695 non-null    object\n",
      "dtypes: object(4)\n",
      "memory usage: 21.8+ KB\n"
     ]
    }
   ],
   "source": [
    "df1.info()"
   ]
  },
  {
   "cell_type": "code",
   "execution_count": 7,
   "metadata": {},
   "outputs": [
    {
     "data": {
      "text/plain": [
       "False    695\n",
       "Name: count, dtype: int64"
      ]
     },
     "execution_count": 7,
     "metadata": {},
     "output_type": "execute_result"
    }
   ],
   "source": [
    "df1.duplicated().value_counts()"
   ]
  },
  {
   "cell_type": "code",
   "execution_count": 8,
   "metadata": {},
   "outputs": [
    {
     "data": {
      "text/html": [
       "<div>\n",
       "<style scoped>\n",
       "    .dataframe tbody tr th:only-of-type {\n",
       "        vertical-align: middle;\n",
       "    }\n",
       "\n",
       "    .dataframe tbody tr th {\n",
       "        vertical-align: top;\n",
       "    }\n",
       "\n",
       "    .dataframe thead th {\n",
       "        text-align: right;\n",
       "    }\n",
       "</style>\n",
       "<table border=\"1\" class=\"dataframe\">\n",
       "  <thead>\n",
       "    <tr style=\"text-align: right;\">\n",
       "      <th></th>\n",
       "      <th>usuario_id</th>\n",
       "      <th>municipio</th>\n",
       "      <th>cargo</th>\n",
       "      <th>data_criacao_cadastro</th>\n",
       "    </tr>\n",
       "  </thead>\n",
       "  <tbody>\n",
       "    <tr>\n",
       "      <th>count</th>\n",
       "      <td>695</td>\n",
       "      <td>695</td>\n",
       "      <td>695</td>\n",
       "      <td>695</td>\n",
       "    </tr>\n",
       "    <tr>\n",
       "      <th>unique</th>\n",
       "      <td>695</td>\n",
       "      <td>70</td>\n",
       "      <td>2</td>\n",
       "      <td>106</td>\n",
       "    </tr>\n",
       "    <tr>\n",
       "      <th>top</th>\n",
       "      <td>8e1f3b8a-ff3b-4712-ad5d-7cb3e3f1271c</td>\n",
       "      <td>Itabira - MG</td>\n",
       "      <td>Coordenação de Equipe</td>\n",
       "      <td>16/3/2023</td>\n",
       "    </tr>\n",
       "    <tr>\n",
       "      <th>freq</th>\n",
       "      <td>1</td>\n",
       "      <td>38</td>\n",
       "      <td>568</td>\n",
       "      <td>55</td>\n",
       "    </tr>\n",
       "  </tbody>\n",
       "</table>\n",
       "</div>"
      ],
      "text/plain": [
       "                                  usuario_id     municipio  \\\n",
       "count                                    695           695   \n",
       "unique                                   695            70   \n",
       "top     8e1f3b8a-ff3b-4712-ad5d-7cb3e3f1271c  Itabira - MG   \n",
       "freq                                       1            38   \n",
       "\n",
       "                        cargo data_criacao_cadastro  \n",
       "count                     695                   695  \n",
       "unique                      2                   106  \n",
       "top     Coordenação de Equipe             16/3/2023  \n",
       "freq                      568                    55  "
      ]
     },
     "execution_count": 8,
     "metadata": {},
     "output_type": "execute_result"
    }
   ],
   "source": [
    "df1.describe()"
   ]
  },
  {
   "cell_type": "code",
   "execution_count": 9,
   "metadata": {},
   "outputs": [
    {
     "data": {
      "text/plain": [
       "usuario_id  municipio  cargo  data_criacao_cadastro\n",
       "False       False      False  False                    695\n",
       "Name: count, dtype: int64"
      ]
     },
     "execution_count": 9,
     "metadata": {},
     "output_type": "execute_result"
    }
   ],
   "source": [
    "df1.isnull().value_counts()"
   ]
  },
  {
   "cell_type": "code",
   "execution_count": 10,
   "metadata": {},
   "outputs": [
    {
     "data": {
      "text/plain": [
       "usuario_id               0\n",
       "municipio                0\n",
       "cargo                    0\n",
       "data_criacao_cadastro    0\n",
       "dtype: int64"
      ]
     },
     "execution_count": 10,
     "metadata": {},
     "output_type": "execute_result"
    }
   ],
   "source": [
    "df1.isna().sum()"
   ]
  },
  {
   "cell_type": "markdown",
   "metadata": {},
   "source": [
    "### Conclusion df1: df1 has no null, no duplicated, has 4 features and 695 rows"
   ]
  },
  {
   "cell_type": "markdown",
   "metadata": {},
   "source": [
    "### df2 analysis:"
   ]
  },
  {
   "cell_type": "code",
   "execution_count": 11,
   "metadata": {},
   "outputs": [
    {
     "data": {
      "text/html": [
       "<div>\n",
       "<style scoped>\n",
       "    .dataframe tbody tr th:only-of-type {\n",
       "        vertical-align: middle;\n",
       "    }\n",
       "\n",
       "    .dataframe tbody tr th {\n",
       "        vertical-align: top;\n",
       "    }\n",
       "\n",
       "    .dataframe thead th {\n",
       "        text-align: right;\n",
       "    }\n",
       "</style>\n",
       "<table border=\"1\" class=\"dataframe\">\n",
       "  <thead>\n",
       "    <tr style=\"text-align: right;\">\n",
       "      <th></th>\n",
       "      <th>usuario_id</th>\n",
       "      <th>data_ativo</th>\n",
       "      <th>acessou_listas_nominais</th>\n",
       "      <th>clicks_imprimir_lista</th>\n",
       "      <th>clicks_filtrar_lista</th>\n",
       "    </tr>\n",
       "  </thead>\n",
       "  <tbody>\n",
       "    <tr>\n",
       "      <th>0</th>\n",
       "      <td>dec6bb91-05a8-4709-a7af-ab2aba6d1f3e</td>\n",
       "      <td>18/12/2023</td>\n",
       "      <td>True</td>\n",
       "      <td>0</td>\n",
       "      <td>0</td>\n",
       "    </tr>\n",
       "  </tbody>\n",
       "</table>\n",
       "</div>"
      ],
      "text/plain": [
       "                             usuario_id  data_ativo  acessou_listas_nominais  \\\n",
       "0  dec6bb91-05a8-4709-a7af-ab2aba6d1f3e  18/12/2023                     True   \n",
       "\n",
       "   clicks_imprimir_lista  clicks_filtrar_lista  \n",
       "0                      0                     0  "
      ]
     },
     "execution_count": 11,
     "metadata": {},
     "output_type": "execute_result"
    }
   ],
   "source": [
    "df2.head(1)"
   ]
  },
  {
   "cell_type": "code",
   "execution_count": 12,
   "metadata": {},
   "outputs": [
    {
     "data": {
      "text/plain": [
       "(20777, 5)"
      ]
     },
     "execution_count": 12,
     "metadata": {},
     "output_type": "execute_result"
    }
   ],
   "source": [
    "df2.shape"
   ]
  },
  {
   "cell_type": "code",
   "execution_count": 13,
   "metadata": {},
   "outputs": [
    {
     "data": {
      "text/plain": [
       "acessou_listas_nominais\n",
       "True     18763\n",
       "False     2014\n",
       "Name: count, dtype: int64"
      ]
     },
     "execution_count": 13,
     "metadata": {},
     "output_type": "execute_result"
    }
   ],
   "source": [
    "df2[\"acessou_listas_nominais\"].value_counts()"
   ]
  },
  {
   "cell_type": "code",
   "execution_count": 14,
   "metadata": {},
   "outputs": [
    {
     "data": {
      "text/plain": [
       "clicks_imprimir_lista\n",
       "0      18368\n",
       "1        963\n",
       "2        468\n",
       "3        243\n",
       "4        183\n",
       "5        112\n",
       "6         93\n",
       "7         54\n",
       "8         43\n",
       "10        34\n",
       "11        29\n",
       "9         29\n",
       "12        18\n",
       "17        15\n",
       "13        15\n",
       "16        12\n",
       "14        11\n",
       "19        10\n",
       "18         9\n",
       "21         8\n",
       "22         8\n",
       "15         8\n",
       "20         5\n",
       "24         5\n",
       "26         4\n",
       "34         3\n",
       "32         3\n",
       "28         2\n",
       "31         2\n",
       "27         2\n",
       "25         2\n",
       "49         2\n",
       "41         1\n",
       "37         1\n",
       "53         1\n",
       "48         1\n",
       "60         1\n",
       "55         1\n",
       "72         1\n",
       "30         1\n",
       "234        1\n",
       "40         1\n",
       "29         1\n",
       "38         1\n",
       "63         1\n",
       "86         1\n",
       "Name: count, dtype: int64"
      ]
     },
     "execution_count": 14,
     "metadata": {},
     "output_type": "execute_result"
    }
   ],
   "source": [
    "df2[\"clicks_imprimir_lista\"].value_counts()"
   ]
  },
  {
   "cell_type": "code",
   "execution_count": 15,
   "metadata": {},
   "outputs": [
    {
     "data": {
      "text/plain": [
       "clicks_filtrar_lista\n",
       "0      17956\n",
       "1        836\n",
       "2        481\n",
       "3        318\n",
       "4        203\n",
       "       ...  \n",
       "249        1\n",
       "52         1\n",
       "53         1\n",
       "87         1\n",
       "93         1\n",
       "Name: count, Length: 62, dtype: int64"
      ]
     },
     "execution_count": 15,
     "metadata": {},
     "output_type": "execute_result"
    }
   ],
   "source": [
    "df2[\"clicks_filtrar_lista\"].value_counts()"
   ]
  },
  {
   "cell_type": "code",
   "execution_count": 16,
   "metadata": {},
   "outputs": [
    {
     "data": {
      "text/plain": [
       "(20777, 5)"
      ]
     },
     "execution_count": 16,
     "metadata": {},
     "output_type": "execute_result"
    }
   ],
   "source": [
    "df2.shape"
   ]
  },
  {
   "cell_type": "code",
   "execution_count": 17,
   "metadata": {},
   "outputs": [
    {
     "name": "stdout",
     "output_type": "stream",
     "text": [
      "<class 'pandas.core.frame.DataFrame'>\n",
      "RangeIndex: 20777 entries, 0 to 20776\n",
      "Data columns (total 5 columns):\n",
      " #   Column                   Non-Null Count  Dtype \n",
      "---  ------                   --------------  ----- \n",
      " 0   usuario_id               20777 non-null  object\n",
      " 1   data_ativo               20777 non-null  object\n",
      " 2   acessou_listas_nominais  20777 non-null  bool  \n",
      " 3   clicks_imprimir_lista    20777 non-null  int64 \n",
      " 4   clicks_filtrar_lista     20777 non-null  int64 \n",
      "dtypes: bool(1), int64(2), object(2)\n",
      "memory usage: 669.7+ KB\n"
     ]
    }
   ],
   "source": [
    "df2.info()"
   ]
  },
  {
   "cell_type": "code",
   "execution_count": 18,
   "metadata": {},
   "outputs": [
    {
     "data": {
      "text/plain": [
       "False    20777\n",
       "Name: count, dtype: int64"
      ]
     },
     "execution_count": 18,
     "metadata": {},
     "output_type": "execute_result"
    }
   ],
   "source": [
    "df2.duplicated().value_counts()"
   ]
  },
  {
   "cell_type": "code",
   "execution_count": 19,
   "metadata": {},
   "outputs": [
    {
     "data": {
      "text/plain": [
       "usuario_id                 0\n",
       "data_ativo                 0\n",
       "acessou_listas_nominais    0\n",
       "clicks_imprimir_lista      0\n",
       "clicks_filtrar_lista       0\n",
       "dtype: int64"
      ]
     },
     "execution_count": 19,
     "metadata": {},
     "output_type": "execute_result"
    }
   ],
   "source": [
    "df2.isna().sum()"
   ]
  },
  {
   "cell_type": "markdown",
   "metadata": {},
   "source": [
    "### Conclusion df2: df2 has no null, no duplicated, has 5 features (1 boolean) and 20.777 rows"
   ]
  },
  {
   "cell_type": "markdown",
   "metadata": {},
   "source": [
    "### With this conclusion above we can merge the two lists without any concern"
   ]
  },
  {
   "cell_type": "markdown",
   "metadata": {},
   "source": [
    "<a id=\"editing-merging-and-creating-a-new-dataframe-for-first-access-analysis-afterwards\"></a>"
   ]
  },
  {
   "cell_type": "markdown",
   "metadata": {},
   "source": [
    "_________________________"
   ]
  },
  {
   "cell_type": "markdown",
   "metadata": {},
   "source": [
    "# 2. Editing: Merging and creating a new DataFrame for first access analysis afterwards"
   ]
  },
  {
   "cell_type": "markdown",
   "metadata": {},
   "source": [
    "### Merge !\n",
    "### We must merge \"inner\" because we won't use any data with missing info in any of the two dfs.\n",
    "### and then proceed to deeper analysis: is there any typo, error or trash info in each feature?"
   ]
  },
  {
   "cell_type": "code",
   "execution_count": 20,
   "metadata": {},
   "outputs": [
    {
     "data": {
      "text/html": [
       "<div>\n",
       "<style scoped>\n",
       "    .dataframe tbody tr th:only-of-type {\n",
       "        vertical-align: middle;\n",
       "    }\n",
       "\n",
       "    .dataframe tbody tr th {\n",
       "        vertical-align: top;\n",
       "    }\n",
       "\n",
       "    .dataframe thead th {\n",
       "        text-align: right;\n",
       "    }\n",
       "</style>\n",
       "<table border=\"1\" class=\"dataframe\">\n",
       "  <thead>\n",
       "    <tr style=\"text-align: right;\">\n",
       "      <th></th>\n",
       "      <th>usuario_id</th>\n",
       "      <th>municipio</th>\n",
       "      <th>cargo</th>\n",
       "      <th>data_criacao_cadastro</th>\n",
       "      <th>data_ativo</th>\n",
       "      <th>acessou_listas_nominais</th>\n",
       "      <th>clicks_imprimir_lista</th>\n",
       "      <th>clicks_filtrar_lista</th>\n",
       "    </tr>\n",
       "  </thead>\n",
       "  <tbody>\n",
       "    <tr>\n",
       "      <th>0</th>\n",
       "      <td>a034d9fc-d54a-4a89-bdef-2e596af3a856</td>\n",
       "      <td>São Roque - SP</td>\n",
       "      <td>Coordenação de Equipe</td>\n",
       "      <td>23/3/2023</td>\n",
       "      <td>11/8/2023</td>\n",
       "      <td>True</td>\n",
       "      <td>0</td>\n",
       "      <td>0</td>\n",
       "    </tr>\n",
       "    <tr>\n",
       "      <th>1</th>\n",
       "      <td>a034d9fc-d54a-4a89-bdef-2e596af3a856</td>\n",
       "      <td>São Roque - SP</td>\n",
       "      <td>Coordenação de Equipe</td>\n",
       "      <td>23/3/2023</td>\n",
       "      <td>14/2/2024</td>\n",
       "      <td>True</td>\n",
       "      <td>0</td>\n",
       "      <td>2</td>\n",
       "    </tr>\n",
       "  </tbody>\n",
       "</table>\n",
       "</div>"
      ],
      "text/plain": [
       "                             usuario_id       municipio  \\\n",
       "0  a034d9fc-d54a-4a89-bdef-2e596af3a856  São Roque - SP   \n",
       "1  a034d9fc-d54a-4a89-bdef-2e596af3a856  São Roque - SP   \n",
       "\n",
       "                   cargo data_criacao_cadastro data_ativo  \\\n",
       "0  Coordenação de Equipe             23/3/2023  11/8/2023   \n",
       "1  Coordenação de Equipe             23/3/2023  14/2/2024   \n",
       "\n",
       "   acessou_listas_nominais  clicks_imprimir_lista  clicks_filtrar_lista  \n",
       "0                     True                      0                     0  \n",
       "1                     True                      0                     2  "
      ]
     },
     "execution_count": 20,
     "metadata": {},
     "output_type": "execute_result"
    }
   ],
   "source": [
    "df = df1.merge(\n",
    "                df2,\n",
    "                left_on=\"usuario_id\", right_on=\"usuario_id\",\n",
    "                how=\"inner\"\n",
    ")\n",
    "\n",
    "df.head(2)"
   ]
  },
  {
   "cell_type": "code",
   "execution_count": 21,
   "metadata": {},
   "outputs": [
    {
     "data": {
      "text/html": [
       "<div>\n",
       "<style scoped>\n",
       "    .dataframe tbody tr th:only-of-type {\n",
       "        vertical-align: middle;\n",
       "    }\n",
       "\n",
       "    .dataframe tbody tr th {\n",
       "        vertical-align: top;\n",
       "    }\n",
       "\n",
       "    .dataframe thead th {\n",
       "        text-align: right;\n",
       "    }\n",
       "</style>\n",
       "<table border=\"1\" class=\"dataframe\">\n",
       "  <thead>\n",
       "    <tr style=\"text-align: right;\">\n",
       "      <th></th>\n",
       "      <th>usuario_id</th>\n",
       "      <th>municipio</th>\n",
       "      <th>cargo</th>\n",
       "      <th>data_criacao_cadastro</th>\n",
       "      <th>data_ativo</th>\n",
       "      <th>acessou_listas_nominais</th>\n",
       "      <th>clicks_imprimir_lista</th>\n",
       "      <th>clicks_filtrar_lista</th>\n",
       "    </tr>\n",
       "  </thead>\n",
       "  <tbody>\n",
       "    <tr>\n",
       "      <th>20775</th>\n",
       "      <td>8e1f3b8a-ff3b-4712-ad5d-7cb3e3f1271c</td>\n",
       "      <td>Pacoti - CE</td>\n",
       "      <td>Coordenação de Equipe</td>\n",
       "      <td>21/2/2024</td>\n",
       "      <td>4/11/2024</td>\n",
       "      <td>True</td>\n",
       "      <td>0</td>\n",
       "      <td>1</td>\n",
       "    </tr>\n",
       "    <tr>\n",
       "      <th>20776</th>\n",
       "      <td>8e1f3b8a-ff3b-4712-ad5d-7cb3e3f1271c</td>\n",
       "      <td>Pacoti - CE</td>\n",
       "      <td>Coordenação de Equipe</td>\n",
       "      <td>21/2/2024</td>\n",
       "      <td>14/5/2024</td>\n",
       "      <td>True</td>\n",
       "      <td>0</td>\n",
       "      <td>0</td>\n",
       "    </tr>\n",
       "  </tbody>\n",
       "</table>\n",
       "</div>"
      ],
      "text/plain": [
       "                                 usuario_id    municipio  \\\n",
       "20775  8e1f3b8a-ff3b-4712-ad5d-7cb3e3f1271c  Pacoti - CE   \n",
       "20776  8e1f3b8a-ff3b-4712-ad5d-7cb3e3f1271c  Pacoti - CE   \n",
       "\n",
       "                       cargo data_criacao_cadastro data_ativo  \\\n",
       "20775  Coordenação de Equipe             21/2/2024  4/11/2024   \n",
       "20776  Coordenação de Equipe             21/2/2024  14/5/2024   \n",
       "\n",
       "       acessou_listas_nominais  clicks_imprimir_lista  clicks_filtrar_lista  \n",
       "20775                     True                      0                     1  \n",
       "20776                     True                      0                     0  "
      ]
     },
     "execution_count": 21,
     "metadata": {},
     "output_type": "execute_result"
    }
   ],
   "source": [
    "df.tail(2)"
   ]
  },
  {
   "cell_type": "markdown",
   "metadata": {},
   "source": [
    "### Before any conclusion, create 2 new features: state e delta_time for better analysis"
   ]
  },
  {
   "cell_type": "markdown",
   "metadata": {},
   "source": [
    "### State:"
   ]
  },
  {
   "cell_type": "code",
   "execution_count": 22,
   "metadata": {},
   "outputs": [
    {
     "data": {
      "text/plain": [
       "'SP'"
      ]
     },
     "execution_count": 22,
     "metadata": {},
     "output_type": "execute_result"
    }
   ],
   "source": [
    "df[\"municipio\"][0][-2:]"
   ]
  },
  {
   "cell_type": "code",
   "execution_count": 23,
   "metadata": {},
   "outputs": [
    {
     "data": {
      "text/plain": [
       "20777"
      ]
     },
     "execution_count": 23,
     "metadata": {},
     "output_type": "execute_result"
    }
   ],
   "source": [
    "len(df[\"municipio\"])"
   ]
  },
  {
   "cell_type": "code",
   "execution_count": 24,
   "metadata": {},
   "outputs": [
    {
     "data": {
      "text/plain": [
       "'MA'"
      ]
     },
     "execution_count": 24,
     "metadata": {},
     "output_type": "execute_result"
    }
   ],
   "source": [
    "df[\"municipio\"][100][-2:]"
   ]
  },
  {
   "cell_type": "code",
   "execution_count": 25,
   "metadata": {},
   "outputs": [
    {
     "data": {
      "text/html": [
       "<div>\n",
       "<style scoped>\n",
       "    .dataframe tbody tr th:only-of-type {\n",
       "        vertical-align: middle;\n",
       "    }\n",
       "\n",
       "    .dataframe tbody tr th {\n",
       "        vertical-align: top;\n",
       "    }\n",
       "\n",
       "    .dataframe thead th {\n",
       "        text-align: right;\n",
       "    }\n",
       "</style>\n",
       "<table border=\"1\" class=\"dataframe\">\n",
       "  <thead>\n",
       "    <tr style=\"text-align: right;\">\n",
       "      <th></th>\n",
       "      <th>usuario_id</th>\n",
       "      <th>municipio</th>\n",
       "      <th>cargo</th>\n",
       "      <th>data_criacao_cadastro</th>\n",
       "      <th>data_ativo</th>\n",
       "      <th>acessou_listas_nominais</th>\n",
       "      <th>clicks_imprimir_lista</th>\n",
       "      <th>clicks_filtrar_lista</th>\n",
       "      <th>estado</th>\n",
       "    </tr>\n",
       "  </thead>\n",
       "  <tbody>\n",
       "    <tr>\n",
       "      <th>0</th>\n",
       "      <td>a034d9fc-d54a-4a89-bdef-2e596af3a856</td>\n",
       "      <td>São Roque - SP</td>\n",
       "      <td>Coordenação de Equipe</td>\n",
       "      <td>23/3/2023</td>\n",
       "      <td>11/8/2023</td>\n",
       "      <td>True</td>\n",
       "      <td>0</td>\n",
       "      <td>0</td>\n",
       "      <td>SP</td>\n",
       "    </tr>\n",
       "  </tbody>\n",
       "</table>\n",
       "</div>"
      ],
      "text/plain": [
       "                             usuario_id       municipio  \\\n",
       "0  a034d9fc-d54a-4a89-bdef-2e596af3a856  São Roque - SP   \n",
       "\n",
       "                   cargo data_criacao_cadastro data_ativo  \\\n",
       "0  Coordenação de Equipe             23/3/2023  11/8/2023   \n",
       "\n",
       "   acessou_listas_nominais  clicks_imprimir_lista  clicks_filtrar_lista estado  \n",
       "0                     True                      0                     0     SP  "
      ]
     },
     "execution_count": 25,
     "metadata": {},
     "output_type": "execute_result"
    }
   ],
   "source": [
    "df[\"estado\"] = df[\"municipio\"].map(lambda x: x[-2:])\n",
    "df.head(1)"
   ]
  },
  {
   "cell_type": "markdown",
   "metadata": {},
   "source": [
    "### delta time:"
   ]
  },
  {
   "cell_type": "code",
   "execution_count": 26,
   "metadata": {},
   "outputs": [
    {
     "name": "stdout",
     "output_type": "stream",
     "text": [
      "object\n",
      "object\n"
     ]
    }
   ],
   "source": [
    "print(df[\"data_criacao_cadastro\"].dtype)\n",
    "print(df[\"data_ativo\"].dtype)"
   ]
  },
  {
   "cell_type": "markdown",
   "metadata": {},
   "source": [
    "### Convert to dates to datetime to get delta_time !"
   ]
  },
  {
   "cell_type": "code",
   "execution_count": 27,
   "metadata": {},
   "outputs": [],
   "source": [
    "df[\"data_criacao_cadastro\"] = pd.to_datetime(df[\"data_criacao_cadastro\"], dayfirst=True)\n",
    "df[\"data_ativo\"] = pd.to_datetime(df[\"data_ativo\"], dayfirst=True)"
   ]
  },
  {
   "cell_type": "code",
   "execution_count": 28,
   "metadata": {},
   "outputs": [
    {
     "name": "stdout",
     "output_type": "stream",
     "text": [
      "datetime64[ns]\n",
      "datetime64[ns]\n"
     ]
    }
   ],
   "source": [
    "print(df[\"data_criacao_cadastro\"].dtype)\n",
    "print(df[\"data_ativo\"].dtype)"
   ]
  },
  {
   "cell_type": "code",
   "execution_count": 29,
   "metadata": {},
   "outputs": [
    {
     "data": {
      "text/html": [
       "<div>\n",
       "<style scoped>\n",
       "    .dataframe tbody tr th:only-of-type {\n",
       "        vertical-align: middle;\n",
       "    }\n",
       "\n",
       "    .dataframe tbody tr th {\n",
       "        vertical-align: top;\n",
       "    }\n",
       "\n",
       "    .dataframe thead th {\n",
       "        text-align: right;\n",
       "    }\n",
       "</style>\n",
       "<table border=\"1\" class=\"dataframe\">\n",
       "  <thead>\n",
       "    <tr style=\"text-align: right;\">\n",
       "      <th></th>\n",
       "      <th>usuario_id</th>\n",
       "      <th>municipio</th>\n",
       "      <th>cargo</th>\n",
       "      <th>data_criacao_cadastro</th>\n",
       "      <th>data_ativo</th>\n",
       "      <th>acessou_listas_nominais</th>\n",
       "      <th>clicks_imprimir_lista</th>\n",
       "      <th>clicks_filtrar_lista</th>\n",
       "      <th>estado</th>\n",
       "      <th>delta_time</th>\n",
       "    </tr>\n",
       "  </thead>\n",
       "  <tbody>\n",
       "    <tr>\n",
       "      <th>0</th>\n",
       "      <td>a034d9fc-d54a-4a89-bdef-2e596af3a856</td>\n",
       "      <td>São Roque - SP</td>\n",
       "      <td>Coordenação de Equipe</td>\n",
       "      <td>2023-03-23</td>\n",
       "      <td>2023-08-11</td>\n",
       "      <td>True</td>\n",
       "      <td>0</td>\n",
       "      <td>0</td>\n",
       "      <td>SP</td>\n",
       "      <td>141 days</td>\n",
       "    </tr>\n",
       "    <tr>\n",
       "      <th>1</th>\n",
       "      <td>a034d9fc-d54a-4a89-bdef-2e596af3a856</td>\n",
       "      <td>São Roque - SP</td>\n",
       "      <td>Coordenação de Equipe</td>\n",
       "      <td>2023-03-23</td>\n",
       "      <td>2024-02-14</td>\n",
       "      <td>True</td>\n",
       "      <td>0</td>\n",
       "      <td>2</td>\n",
       "      <td>SP</td>\n",
       "      <td>328 days</td>\n",
       "    </tr>\n",
       "    <tr>\n",
       "      <th>2</th>\n",
       "      <td>a034d9fc-d54a-4a89-bdef-2e596af3a856</td>\n",
       "      <td>São Roque - SP</td>\n",
       "      <td>Coordenação de Equipe</td>\n",
       "      <td>2023-03-23</td>\n",
       "      <td>2023-12-13</td>\n",
       "      <td>True</td>\n",
       "      <td>0</td>\n",
       "      <td>0</td>\n",
       "      <td>SP</td>\n",
       "      <td>265 days</td>\n",
       "    </tr>\n",
       "    <tr>\n",
       "      <th>3</th>\n",
       "      <td>a034d9fc-d54a-4a89-bdef-2e596af3a856</td>\n",
       "      <td>São Roque - SP</td>\n",
       "      <td>Coordenação de Equipe</td>\n",
       "      <td>2023-03-23</td>\n",
       "      <td>2023-09-05</td>\n",
       "      <td>True</td>\n",
       "      <td>0</td>\n",
       "      <td>0</td>\n",
       "      <td>SP</td>\n",
       "      <td>166 days</td>\n",
       "    </tr>\n",
       "  </tbody>\n",
       "</table>\n",
       "</div>"
      ],
      "text/plain": [
       "                             usuario_id       municipio  \\\n",
       "0  a034d9fc-d54a-4a89-bdef-2e596af3a856  São Roque - SP   \n",
       "1  a034d9fc-d54a-4a89-bdef-2e596af3a856  São Roque - SP   \n",
       "2  a034d9fc-d54a-4a89-bdef-2e596af3a856  São Roque - SP   \n",
       "3  a034d9fc-d54a-4a89-bdef-2e596af3a856  São Roque - SP   \n",
       "\n",
       "                   cargo data_criacao_cadastro data_ativo  \\\n",
       "0  Coordenação de Equipe            2023-03-23 2023-08-11   \n",
       "1  Coordenação de Equipe            2023-03-23 2024-02-14   \n",
       "2  Coordenação de Equipe            2023-03-23 2023-12-13   \n",
       "3  Coordenação de Equipe            2023-03-23 2023-09-05   \n",
       "\n",
       "   acessou_listas_nominais  clicks_imprimir_lista  clicks_filtrar_lista  \\\n",
       "0                     True                      0                     0   \n",
       "1                     True                      0                     2   \n",
       "2                     True                      0                     0   \n",
       "3                     True                      0                     0   \n",
       "\n",
       "  estado delta_time  \n",
       "0     SP   141 days  \n",
       "1     SP   328 days  \n",
       "2     SP   265 days  \n",
       "3     SP   166 days  "
      ]
     },
     "execution_count": 29,
     "metadata": {},
     "output_type": "execute_result"
    }
   ],
   "source": [
    "df[\"delta_time\"] = df[\"data_ativo\"] - df[\"data_criacao_cadastro\"]\n",
    "df.head(4)"
   ]
  },
  {
   "cell_type": "markdown",
   "metadata": {},
   "source": [
    "### Converting delta time in days for better analysis"
   ]
  },
  {
   "cell_type": "code",
   "execution_count": 30,
   "metadata": {},
   "outputs": [],
   "source": [
    "df[\"delta_time\"] = df[\"delta_time\"].dt.days"
   ]
  },
  {
   "cell_type": "markdown",
   "metadata": {},
   "source": [
    "### Ordering the dataframe to create a flag to get only first access!\n",
    "### Why ? Because the delta time of 2nd, 3rd, etc from the creating login it is not important for the KPI we want to measure"
   ]
  },
  {
   "cell_type": "code",
   "execution_count": 31,
   "metadata": {},
   "outputs": [
    {
     "data": {
      "text/html": [
       "<div>\n",
       "<style scoped>\n",
       "    .dataframe tbody tr th:only-of-type {\n",
       "        vertical-align: middle;\n",
       "    }\n",
       "\n",
       "    .dataframe tbody tr th {\n",
       "        vertical-align: top;\n",
       "    }\n",
       "\n",
       "    .dataframe thead th {\n",
       "        text-align: right;\n",
       "    }\n",
       "</style>\n",
       "<table border=\"1\" class=\"dataframe\">\n",
       "  <thead>\n",
       "    <tr style=\"text-align: right;\">\n",
       "      <th></th>\n",
       "      <th>usuario_id</th>\n",
       "      <th>municipio</th>\n",
       "      <th>cargo</th>\n",
       "      <th>data_criacao_cadastro</th>\n",
       "      <th>data_ativo</th>\n",
       "      <th>acessou_listas_nominais</th>\n",
       "      <th>clicks_imprimir_lista</th>\n",
       "      <th>clicks_filtrar_lista</th>\n",
       "      <th>estado</th>\n",
       "      <th>delta_time</th>\n",
       "    </tr>\n",
       "  </thead>\n",
       "  <tbody>\n",
       "    <tr>\n",
       "      <th>13761</th>\n",
       "      <td>0077e9df-39d3-41bc-aa57-3953e894bcf9</td>\n",
       "      <td>Três Marias - MG</td>\n",
       "      <td>Coordenação de Equipe</td>\n",
       "      <td>2024-04-04</td>\n",
       "      <td>2024-04-05</td>\n",
       "      <td>True</td>\n",
       "      <td>0</td>\n",
       "      <td>1</td>\n",
       "      <td>MG</td>\n",
       "      <td>1</td>\n",
       "    </tr>\n",
       "    <tr>\n",
       "      <th>13748</th>\n",
       "      <td>0077e9df-39d3-41bc-aa57-3953e894bcf9</td>\n",
       "      <td>Três Marias - MG</td>\n",
       "      <td>Coordenação de Equipe</td>\n",
       "      <td>2024-04-04</td>\n",
       "      <td>2024-04-08</td>\n",
       "      <td>True</td>\n",
       "      <td>0</td>\n",
       "      <td>2</td>\n",
       "      <td>MG</td>\n",
       "      <td>4</td>\n",
       "    </tr>\n",
       "    <tr>\n",
       "      <th>13729</th>\n",
       "      <td>0077e9df-39d3-41bc-aa57-3953e894bcf9</td>\n",
       "      <td>Três Marias - MG</td>\n",
       "      <td>Coordenação de Equipe</td>\n",
       "      <td>2024-04-04</td>\n",
       "      <td>2024-04-09</td>\n",
       "      <td>True</td>\n",
       "      <td>0</td>\n",
       "      <td>1</td>\n",
       "      <td>MG</td>\n",
       "      <td>5</td>\n",
       "    </tr>\n",
       "    <tr>\n",
       "      <th>13755</th>\n",
       "      <td>0077e9df-39d3-41bc-aa57-3953e894bcf9</td>\n",
       "      <td>Três Marias - MG</td>\n",
       "      <td>Coordenação de Equipe</td>\n",
       "      <td>2024-04-04</td>\n",
       "      <td>2024-04-10</td>\n",
       "      <td>True</td>\n",
       "      <td>0</td>\n",
       "      <td>0</td>\n",
       "      <td>MG</td>\n",
       "      <td>6</td>\n",
       "    </tr>\n",
       "    <tr>\n",
       "      <th>13728</th>\n",
       "      <td>0077e9df-39d3-41bc-aa57-3953e894bcf9</td>\n",
       "      <td>Três Marias - MG</td>\n",
       "      <td>Coordenação de Equipe</td>\n",
       "      <td>2024-04-04</td>\n",
       "      <td>2024-04-11</td>\n",
       "      <td>True</td>\n",
       "      <td>0</td>\n",
       "      <td>0</td>\n",
       "      <td>MG</td>\n",
       "      <td>7</td>\n",
       "    </tr>\n",
       "    <tr>\n",
       "      <th>13763</th>\n",
       "      <td>0077e9df-39d3-41bc-aa57-3953e894bcf9</td>\n",
       "      <td>Três Marias - MG</td>\n",
       "      <td>Coordenação de Equipe</td>\n",
       "      <td>2024-04-04</td>\n",
       "      <td>2024-04-12</td>\n",
       "      <td>True</td>\n",
       "      <td>0</td>\n",
       "      <td>1</td>\n",
       "      <td>MG</td>\n",
       "      <td>8</td>\n",
       "    </tr>\n",
       "    <tr>\n",
       "      <th>13741</th>\n",
       "      <td>0077e9df-39d3-41bc-aa57-3953e894bcf9</td>\n",
       "      <td>Três Marias - MG</td>\n",
       "      <td>Coordenação de Equipe</td>\n",
       "      <td>2024-04-04</td>\n",
       "      <td>2024-04-15</td>\n",
       "      <td>True</td>\n",
       "      <td>0</td>\n",
       "      <td>0</td>\n",
       "      <td>MG</td>\n",
       "      <td>11</td>\n",
       "    </tr>\n",
       "    <tr>\n",
       "      <th>13757</th>\n",
       "      <td>0077e9df-39d3-41bc-aa57-3953e894bcf9</td>\n",
       "      <td>Três Marias - MG</td>\n",
       "      <td>Coordenação de Equipe</td>\n",
       "      <td>2024-04-04</td>\n",
       "      <td>2024-04-16</td>\n",
       "      <td>True</td>\n",
       "      <td>0</td>\n",
       "      <td>0</td>\n",
       "      <td>MG</td>\n",
       "      <td>12</td>\n",
       "    </tr>\n",
       "    <tr>\n",
       "      <th>13736</th>\n",
       "      <td>0077e9df-39d3-41bc-aa57-3953e894bcf9</td>\n",
       "      <td>Três Marias - MG</td>\n",
       "      <td>Coordenação de Equipe</td>\n",
       "      <td>2024-04-04</td>\n",
       "      <td>2024-04-27</td>\n",
       "      <td>True</td>\n",
       "      <td>0</td>\n",
       "      <td>0</td>\n",
       "      <td>MG</td>\n",
       "      <td>23</td>\n",
       "    </tr>\n",
       "    <tr>\n",
       "      <th>13749</th>\n",
       "      <td>0077e9df-39d3-41bc-aa57-3953e894bcf9</td>\n",
       "      <td>Três Marias - MG</td>\n",
       "      <td>Coordenação de Equipe</td>\n",
       "      <td>2024-04-04</td>\n",
       "      <td>2024-04-30</td>\n",
       "      <td>True</td>\n",
       "      <td>0</td>\n",
       "      <td>0</td>\n",
       "      <td>MG</td>\n",
       "      <td>26</td>\n",
       "    </tr>\n",
       "    <tr>\n",
       "      <th>13750</th>\n",
       "      <td>0077e9df-39d3-41bc-aa57-3953e894bcf9</td>\n",
       "      <td>Três Marias - MG</td>\n",
       "      <td>Coordenação de Equipe</td>\n",
       "      <td>2024-04-04</td>\n",
       "      <td>2024-05-09</td>\n",
       "      <td>True</td>\n",
       "      <td>0</td>\n",
       "      <td>1</td>\n",
       "      <td>MG</td>\n",
       "      <td>35</td>\n",
       "    </tr>\n",
       "    <tr>\n",
       "      <th>13745</th>\n",
       "      <td>0077e9df-39d3-41bc-aa57-3953e894bcf9</td>\n",
       "      <td>Três Marias - MG</td>\n",
       "      <td>Coordenação de Equipe</td>\n",
       "      <td>2024-04-04</td>\n",
       "      <td>2024-05-10</td>\n",
       "      <td>True</td>\n",
       "      <td>0</td>\n",
       "      <td>2</td>\n",
       "      <td>MG</td>\n",
       "      <td>36</td>\n",
       "    </tr>\n",
       "    <tr>\n",
       "      <th>13752</th>\n",
       "      <td>0077e9df-39d3-41bc-aa57-3953e894bcf9</td>\n",
       "      <td>Três Marias - MG</td>\n",
       "      <td>Coordenação de Equipe</td>\n",
       "      <td>2024-04-04</td>\n",
       "      <td>2024-05-13</td>\n",
       "      <td>True</td>\n",
       "      <td>0</td>\n",
       "      <td>1</td>\n",
       "      <td>MG</td>\n",
       "      <td>39</td>\n",
       "    </tr>\n",
       "    <tr>\n",
       "      <th>13751</th>\n",
       "      <td>0077e9df-39d3-41bc-aa57-3953e894bcf9</td>\n",
       "      <td>Três Marias - MG</td>\n",
       "      <td>Coordenação de Equipe</td>\n",
       "      <td>2024-04-04</td>\n",
       "      <td>2024-05-14</td>\n",
       "      <td>True</td>\n",
       "      <td>0</td>\n",
       "      <td>1</td>\n",
       "      <td>MG</td>\n",
       "      <td>40</td>\n",
       "    </tr>\n",
       "    <tr>\n",
       "      <th>13738</th>\n",
       "      <td>0077e9df-39d3-41bc-aa57-3953e894bcf9</td>\n",
       "      <td>Três Marias - MG</td>\n",
       "      <td>Coordenação de Equipe</td>\n",
       "      <td>2024-04-04</td>\n",
       "      <td>2024-05-15</td>\n",
       "      <td>True</td>\n",
       "      <td>0</td>\n",
       "      <td>1</td>\n",
       "      <td>MG</td>\n",
       "      <td>41</td>\n",
       "    </tr>\n",
       "  </tbody>\n",
       "</table>\n",
       "</div>"
      ],
      "text/plain": [
       "                                 usuario_id         municipio  \\\n",
       "13761  0077e9df-39d3-41bc-aa57-3953e894bcf9  Três Marias - MG   \n",
       "13748  0077e9df-39d3-41bc-aa57-3953e894bcf9  Três Marias - MG   \n",
       "13729  0077e9df-39d3-41bc-aa57-3953e894bcf9  Três Marias - MG   \n",
       "13755  0077e9df-39d3-41bc-aa57-3953e894bcf9  Três Marias - MG   \n",
       "13728  0077e9df-39d3-41bc-aa57-3953e894bcf9  Três Marias - MG   \n",
       "13763  0077e9df-39d3-41bc-aa57-3953e894bcf9  Três Marias - MG   \n",
       "13741  0077e9df-39d3-41bc-aa57-3953e894bcf9  Três Marias - MG   \n",
       "13757  0077e9df-39d3-41bc-aa57-3953e894bcf9  Três Marias - MG   \n",
       "13736  0077e9df-39d3-41bc-aa57-3953e894bcf9  Três Marias - MG   \n",
       "13749  0077e9df-39d3-41bc-aa57-3953e894bcf9  Três Marias - MG   \n",
       "13750  0077e9df-39d3-41bc-aa57-3953e894bcf9  Três Marias - MG   \n",
       "13745  0077e9df-39d3-41bc-aa57-3953e894bcf9  Três Marias - MG   \n",
       "13752  0077e9df-39d3-41bc-aa57-3953e894bcf9  Três Marias - MG   \n",
       "13751  0077e9df-39d3-41bc-aa57-3953e894bcf9  Três Marias - MG   \n",
       "13738  0077e9df-39d3-41bc-aa57-3953e894bcf9  Três Marias - MG   \n",
       "\n",
       "                       cargo data_criacao_cadastro data_ativo  \\\n",
       "13761  Coordenação de Equipe            2024-04-04 2024-04-05   \n",
       "13748  Coordenação de Equipe            2024-04-04 2024-04-08   \n",
       "13729  Coordenação de Equipe            2024-04-04 2024-04-09   \n",
       "13755  Coordenação de Equipe            2024-04-04 2024-04-10   \n",
       "13728  Coordenação de Equipe            2024-04-04 2024-04-11   \n",
       "13763  Coordenação de Equipe            2024-04-04 2024-04-12   \n",
       "13741  Coordenação de Equipe            2024-04-04 2024-04-15   \n",
       "13757  Coordenação de Equipe            2024-04-04 2024-04-16   \n",
       "13736  Coordenação de Equipe            2024-04-04 2024-04-27   \n",
       "13749  Coordenação de Equipe            2024-04-04 2024-04-30   \n",
       "13750  Coordenação de Equipe            2024-04-04 2024-05-09   \n",
       "13745  Coordenação de Equipe            2024-04-04 2024-05-10   \n",
       "13752  Coordenação de Equipe            2024-04-04 2024-05-13   \n",
       "13751  Coordenação de Equipe            2024-04-04 2024-05-14   \n",
       "13738  Coordenação de Equipe            2024-04-04 2024-05-15   \n",
       "\n",
       "       acessou_listas_nominais  clicks_imprimir_lista  clicks_filtrar_lista  \\\n",
       "13761                     True                      0                     1   \n",
       "13748                     True                      0                     2   \n",
       "13729                     True                      0                     1   \n",
       "13755                     True                      0                     0   \n",
       "13728                     True                      0                     0   \n",
       "13763                     True                      0                     1   \n",
       "13741                     True                      0                     0   \n",
       "13757                     True                      0                     0   \n",
       "13736                     True                      0                     0   \n",
       "13749                     True                      0                     0   \n",
       "13750                     True                      0                     1   \n",
       "13745                     True                      0                     2   \n",
       "13752                     True                      0                     1   \n",
       "13751                     True                      0                     1   \n",
       "13738                     True                      0                     1   \n",
       "\n",
       "      estado  delta_time  \n",
       "13761     MG           1  \n",
       "13748     MG           4  \n",
       "13729     MG           5  \n",
       "13755     MG           6  \n",
       "13728     MG           7  \n",
       "13763     MG           8  \n",
       "13741     MG          11  \n",
       "13757     MG          12  \n",
       "13736     MG          23  \n",
       "13749     MG          26  \n",
       "13750     MG          35  \n",
       "13745     MG          36  \n",
       "13752     MG          39  \n",
       "13751     MG          40  \n",
       "13738     MG          41  "
      ]
     },
     "execution_count": 31,
     "metadata": {},
     "output_type": "execute_result"
    }
   ],
   "source": [
    "df_ordered = df.sort_values(by=['usuario_id', 'delta_time'])\n",
    "df_ordered.head(15)"
   ]
  },
  {
   "cell_type": "code",
   "execution_count": 32,
   "metadata": {},
   "outputs": [
    {
     "data": {
      "text/html": [
       "<div>\n",
       "<style scoped>\n",
       "    .dataframe tbody tr th:only-of-type {\n",
       "        vertical-align: middle;\n",
       "    }\n",
       "\n",
       "    .dataframe tbody tr th {\n",
       "        vertical-align: top;\n",
       "    }\n",
       "\n",
       "    .dataframe thead th {\n",
       "        text-align: right;\n",
       "    }\n",
       "</style>\n",
       "<table border=\"1\" class=\"dataframe\">\n",
       "  <thead>\n",
       "    <tr style=\"text-align: right;\">\n",
       "      <th></th>\n",
       "      <th>usuario_id</th>\n",
       "      <th>municipio</th>\n",
       "      <th>cargo</th>\n",
       "      <th>data_criacao_cadastro</th>\n",
       "      <th>data_ativo</th>\n",
       "      <th>acessou_listas_nominais</th>\n",
       "      <th>clicks_imprimir_lista</th>\n",
       "      <th>clicks_filtrar_lista</th>\n",
       "      <th>estado</th>\n",
       "      <th>delta_time</th>\n",
       "      <th>first_access</th>\n",
       "    </tr>\n",
       "  </thead>\n",
       "  <tbody>\n",
       "    <tr>\n",
       "      <th>13761</th>\n",
       "      <td>0077e9df-39d3-41bc-aa57-3953e894bcf9</td>\n",
       "      <td>Três Marias - MG</td>\n",
       "      <td>Coordenação de Equipe</td>\n",
       "      <td>2024-04-04</td>\n",
       "      <td>2024-04-05</td>\n",
       "      <td>True</td>\n",
       "      <td>0</td>\n",
       "      <td>1</td>\n",
       "      <td>MG</td>\n",
       "      <td>1</td>\n",
       "      <td>1</td>\n",
       "    </tr>\n",
       "    <tr>\n",
       "      <th>13748</th>\n",
       "      <td>0077e9df-39d3-41bc-aa57-3953e894bcf9</td>\n",
       "      <td>Três Marias - MG</td>\n",
       "      <td>Coordenação de Equipe</td>\n",
       "      <td>2024-04-04</td>\n",
       "      <td>2024-04-08</td>\n",
       "      <td>True</td>\n",
       "      <td>0</td>\n",
       "      <td>2</td>\n",
       "      <td>MG</td>\n",
       "      <td>4</td>\n",
       "      <td>0</td>\n",
       "    </tr>\n",
       "    <tr>\n",
       "      <th>13729</th>\n",
       "      <td>0077e9df-39d3-41bc-aa57-3953e894bcf9</td>\n",
       "      <td>Três Marias - MG</td>\n",
       "      <td>Coordenação de Equipe</td>\n",
       "      <td>2024-04-04</td>\n",
       "      <td>2024-04-09</td>\n",
       "      <td>True</td>\n",
       "      <td>0</td>\n",
       "      <td>1</td>\n",
       "      <td>MG</td>\n",
       "      <td>5</td>\n",
       "      <td>0</td>\n",
       "    </tr>\n",
       "    <tr>\n",
       "      <th>13755</th>\n",
       "      <td>0077e9df-39d3-41bc-aa57-3953e894bcf9</td>\n",
       "      <td>Três Marias - MG</td>\n",
       "      <td>Coordenação de Equipe</td>\n",
       "      <td>2024-04-04</td>\n",
       "      <td>2024-04-10</td>\n",
       "      <td>True</td>\n",
       "      <td>0</td>\n",
       "      <td>0</td>\n",
       "      <td>MG</td>\n",
       "      <td>6</td>\n",
       "      <td>0</td>\n",
       "    </tr>\n",
       "    <tr>\n",
       "      <th>13728</th>\n",
       "      <td>0077e9df-39d3-41bc-aa57-3953e894bcf9</td>\n",
       "      <td>Três Marias - MG</td>\n",
       "      <td>Coordenação de Equipe</td>\n",
       "      <td>2024-04-04</td>\n",
       "      <td>2024-04-11</td>\n",
       "      <td>True</td>\n",
       "      <td>0</td>\n",
       "      <td>0</td>\n",
       "      <td>MG</td>\n",
       "      <td>7</td>\n",
       "      <td>0</td>\n",
       "    </tr>\n",
       "  </tbody>\n",
       "</table>\n",
       "</div>"
      ],
      "text/plain": [
       "                                 usuario_id         municipio  \\\n",
       "13761  0077e9df-39d3-41bc-aa57-3953e894bcf9  Três Marias - MG   \n",
       "13748  0077e9df-39d3-41bc-aa57-3953e894bcf9  Três Marias - MG   \n",
       "13729  0077e9df-39d3-41bc-aa57-3953e894bcf9  Três Marias - MG   \n",
       "13755  0077e9df-39d3-41bc-aa57-3953e894bcf9  Três Marias - MG   \n",
       "13728  0077e9df-39d3-41bc-aa57-3953e894bcf9  Três Marias - MG   \n",
       "\n",
       "                       cargo data_criacao_cadastro data_ativo  \\\n",
       "13761  Coordenação de Equipe            2024-04-04 2024-04-05   \n",
       "13748  Coordenação de Equipe            2024-04-04 2024-04-08   \n",
       "13729  Coordenação de Equipe            2024-04-04 2024-04-09   \n",
       "13755  Coordenação de Equipe            2024-04-04 2024-04-10   \n",
       "13728  Coordenação de Equipe            2024-04-04 2024-04-11   \n",
       "\n",
       "       acessou_listas_nominais  clicks_imprimir_lista  clicks_filtrar_lista  \\\n",
       "13761                     True                      0                     1   \n",
       "13748                     True                      0                     2   \n",
       "13729                     True                      0                     1   \n",
       "13755                     True                      0                     0   \n",
       "13728                     True                      0                     0   \n",
       "\n",
       "      estado  delta_time  first_access  \n",
       "13761     MG           1             1  \n",
       "13748     MG           4             0  \n",
       "13729     MG           5             0  \n",
       "13755     MG           6             0  \n",
       "13728     MG           7             0  "
      ]
     },
     "execution_count": 32,
     "metadata": {},
     "output_type": "execute_result"
    }
   ],
   "source": [
    "#Criando a \"mascara\"/flag de first access\n",
    "#Cumcount() >>>> Contagem cumulativa !\n",
    "df_ordered['first_access'] = df_ordered.groupby('usuario_id').cumcount().apply(lambda x: 1 if x == 0 else 0)\n",
    "df_ordered.head(5)"
   ]
  },
  {
   "cell_type": "code",
   "execution_count": 33,
   "metadata": {},
   "outputs": [],
   "source": [
    "df_first_access = df_ordered[df_ordered['first_access'] == 1]"
   ]
  },
  {
   "cell_type": "code",
   "execution_count": 34,
   "metadata": {},
   "outputs": [
    {
     "data": {
      "image/png": "[encoded data removed]",
      "text/plain": [
       "<Figure size 640x480 with 1 Axes>"
      ]
     },
     "metadata": {},
     "output_type": "display_data"
    }
   ],
   "source": [
    "sns.boxplot(x=df_first_access[\"delta_time\"]);"
   ]
  },
  {
   "cell_type": "code",
   "execution_count": 35,
   "metadata": {},
   "outputs": [
    {
     "data": {
      "image/png": "[encoded data removed]",
      "text/plain": [
       "<Figure size 640x480 with 1 Axes>"
      ]
     },
     "metadata": {},
     "output_type": "display_data"
    }
   ],
   "source": [
    "sns.boxplot(x=df_first_access[\"delta_time\"])\n",
    "\n",
    "plt.axvline(df_first_access[\"delta_time\"].median(), color=\"red\", linestyle=\"--\");"
   ]
  },
  {
   "cell_type": "code",
   "execution_count": 36,
   "metadata": {},
   "outputs": [
    {
     "data": {
      "text/plain": [
       "count    575.000000\n",
       "mean      25.344348\n",
       "std       59.865293\n",
       "min       -1.000000\n",
       "25%        1.000000\n",
       "50%        6.000000\n",
       "75%       21.000000\n",
       "max      665.000000\n",
       "Name: delta_time, dtype: float64"
      ]
     },
     "execution_count": 36,
     "metadata": {},
     "output_type": "execute_result"
    }
   ],
   "source": [
    "df_first_access[\"delta_time\"].describe()"
   ]
  },
  {
   "cell_type": "markdown",
   "metadata": {},
   "source": [
    "### Attention! There is a -1 value, probably some error/typo in the input ! Check out"
   ]
  },
  {
   "cell_type": "code",
   "execution_count": 37,
   "metadata": {},
   "outputs": [
    {
     "data": {
      "text/html": [
       "<div>\n",
       "<style scoped>\n",
       "    .dataframe tbody tr th:only-of-type {\n",
       "        vertical-align: middle;\n",
       "    }\n",
       "\n",
       "    .dataframe tbody tr th {\n",
       "        vertical-align: top;\n",
       "    }\n",
       "\n",
       "    .dataframe thead th {\n",
       "        text-align: right;\n",
       "    }\n",
       "</style>\n",
       "<table border=\"1\" class=\"dataframe\">\n",
       "  <thead>\n",
       "    <tr style=\"text-align: right;\">\n",
       "      <th></th>\n",
       "      <th>data_criacao_cadastro</th>\n",
       "      <th>data_ativo</th>\n",
       "    </tr>\n",
       "  </thead>\n",
       "  <tbody>\n",
       "    <tr>\n",
       "      <th>18389</th>\n",
       "      <td>2024-03-19</td>\n",
       "      <td>2024-03-18</td>\n",
       "    </tr>\n",
       "  </tbody>\n",
       "</table>\n",
       "</div>"
      ],
      "text/plain": [
       "      data_criacao_cadastro data_ativo\n",
       "18389            2024-03-19 2024-03-18"
      ]
     },
     "execution_count": 37,
     "metadata": {},
     "output_type": "execute_result"
    }
   ],
   "source": [
    "df_first_access[[\"data_criacao_cadastro\", \"data_ativo\"]][df_first_access[\"delta_time\"] == -1]"
   ]
  },
  {
   "cell_type": "markdown",
   "metadata": {},
   "source": [
    "### Confirmed ! There is this row that the day active it is before creating the login, ERROR!"
   ]
  },
  {
   "cell_type": "code",
   "execution_count": 38,
   "metadata": {},
   "outputs": [],
   "source": [
    "#df_first_access[\"delta_time\"] = df_first_access[\"delta_time\"].map(lambda x: 0 if x == -1 else x)\n",
    "df_first_access.loc[:, \"delta_time\"] = df_first_access[\"delta_time\"].map(lambda x: 0 if x == -1 else x)"
   ]
  },
  {
   "cell_type": "code",
   "execution_count": 39,
   "metadata": {},
   "outputs": [
    {
     "data": {
      "text/html": [
       "<div>\n",
       "<style scoped>\n",
       "    .dataframe tbody tr th:only-of-type {\n",
       "        vertical-align: middle;\n",
       "    }\n",
       "\n",
       "    .dataframe tbody tr th {\n",
       "        vertical-align: top;\n",
       "    }\n",
       "\n",
       "    .dataframe thead th {\n",
       "        text-align: right;\n",
       "    }\n",
       "</style>\n",
       "<table border=\"1\" class=\"dataframe\">\n",
       "  <thead>\n",
       "    <tr style=\"text-align: right;\">\n",
       "      <th></th>\n",
       "      <th>data_criacao_cadastro</th>\n",
       "      <th>data_ativo</th>\n",
       "    </tr>\n",
       "  </thead>\n",
       "  <tbody>\n",
       "  </tbody>\n",
       "</table>\n",
       "</div>"
      ],
      "text/plain": [
       "Empty DataFrame\n",
       "Columns: [data_criacao_cadastro, data_ativo]\n",
       "Index: []"
      ]
     },
     "execution_count": 39,
     "metadata": {},
     "output_type": "execute_result"
    }
   ],
   "source": [
    "df_first_access[[\"data_criacao_cadastro\", \"data_ativo\"]][df_first_access[\"delta_time\"] == -1]"
   ]
  },
  {
   "cell_type": "markdown",
   "metadata": {},
   "source": [
    "### Solved the -1 delta time !"
   ]
  },
  {
   "cell_type": "code",
   "execution_count": 40,
   "metadata": {},
   "outputs": [
    {
     "data": {
      "text/html": [
       "<div>\n",
       "<style scoped>\n",
       "    .dataframe tbody tr th:only-of-type {\n",
       "        vertical-align: middle;\n",
       "    }\n",
       "\n",
       "    .dataframe tbody tr th {\n",
       "        vertical-align: top;\n",
       "    }\n",
       "\n",
       "    .dataframe thead th {\n",
       "        text-align: right;\n",
       "    }\n",
       "</style>\n",
       "<table border=\"1\" class=\"dataframe\">\n",
       "  <thead>\n",
       "    <tr style=\"text-align: right;\">\n",
       "      <th></th>\n",
       "      <th>usuario_id</th>\n",
       "      <th>municipio</th>\n",
       "      <th>cargo</th>\n",
       "      <th>data_criacao_cadastro</th>\n",
       "      <th>data_ativo</th>\n",
       "      <th>acessou_listas_nominais</th>\n",
       "      <th>clicks_imprimir_lista</th>\n",
       "      <th>clicks_filtrar_lista</th>\n",
       "      <th>estado</th>\n",
       "      <th>delta_time</th>\n",
       "      <th>first_access</th>\n",
       "    </tr>\n",
       "  </thead>\n",
       "  <tbody>\n",
       "    <tr>\n",
       "      <th>13761</th>\n",
       "      <td>0077e9df-39d3-41bc-aa57-3953e894bcf9</td>\n",
       "      <td>Três Marias - MG</td>\n",
       "      <td>Coordenação de Equipe</td>\n",
       "      <td>2024-04-04</td>\n",
       "      <td>2024-04-05</td>\n",
       "      <td>True</td>\n",
       "      <td>0</td>\n",
       "      <td>1</td>\n",
       "      <td>MG</td>\n",
       "      <td>1</td>\n",
       "      <td>1</td>\n",
       "    </tr>\n",
       "    <tr>\n",
       "      <th>14984</th>\n",
       "      <td>009a2ef8-ee98-4c4d-b53a-6407abc03715</td>\n",
       "      <td>Salvaterra - PA</td>\n",
       "      <td>Coordenação APS</td>\n",
       "      <td>2023-08-17</td>\n",
       "      <td>2023-08-17</td>\n",
       "      <td>False</td>\n",
       "      <td>0</td>\n",
       "      <td>0</td>\n",
       "      <td>PA</td>\n",
       "      <td>0</td>\n",
       "      <td>1</td>\n",
       "    </tr>\n",
       "    <tr>\n",
       "      <th>16012</th>\n",
       "      <td>0103a1d1-96c8-4d98-b263-0549294aff13</td>\n",
       "      <td>Juquitiba - SP</td>\n",
       "      <td>Coordenação de Equipe</td>\n",
       "      <td>2022-11-08</td>\n",
       "      <td>2022-11-09</td>\n",
       "      <td>True</td>\n",
       "      <td>0</td>\n",
       "      <td>0</td>\n",
       "      <td>SP</td>\n",
       "      <td>1</td>\n",
       "      <td>1</td>\n",
       "    </tr>\n",
       "    <tr>\n",
       "      <th>4533</th>\n",
       "      <td>013e6d7a-4b86-47a3-972e-4c046dc4903b</td>\n",
       "      <td>Palmeira das Missões - RS</td>\n",
       "      <td>Coordenação de Equipe</td>\n",
       "      <td>2023-10-24</td>\n",
       "      <td>2023-11-13</td>\n",
       "      <td>True</td>\n",
       "      <td>0</td>\n",
       "      <td>0</td>\n",
       "      <td>RS</td>\n",
       "      <td>20</td>\n",
       "      <td>1</td>\n",
       "    </tr>\n",
       "    <tr>\n",
       "      <th>2739</th>\n",
       "      <td>021f43b9-c167-44b3-bc42-5420212df999</td>\n",
       "      <td>Paes Landim - PI</td>\n",
       "      <td>Coordenação APS</td>\n",
       "      <td>2023-05-09</td>\n",
       "      <td>2023-05-12</td>\n",
       "      <td>True</td>\n",
       "      <td>0</td>\n",
       "      <td>0</td>\n",
       "      <td>PI</td>\n",
       "      <td>3</td>\n",
       "      <td>1</td>\n",
       "    </tr>\n",
       "  </tbody>\n",
       "</table>\n",
       "</div>"
      ],
      "text/plain": [
       "                                 usuario_id                  municipio  \\\n",
       "13761  0077e9df-39d3-41bc-aa57-3953e894bcf9           Três Marias - MG   \n",
       "14984  009a2ef8-ee98-4c4d-b53a-6407abc03715            Salvaterra - PA   \n",
       "16012  0103a1d1-96c8-4d98-b263-0549294aff13             Juquitiba - SP   \n",
       "4533   013e6d7a-4b86-47a3-972e-4c046dc4903b  Palmeira das Missões - RS   \n",
       "2739   021f43b9-c167-44b3-bc42-5420212df999           Paes Landim - PI   \n",
       "\n",
       "                       cargo data_criacao_cadastro data_ativo  \\\n",
       "13761  Coordenação de Equipe            2024-04-04 2024-04-05   \n",
       "14984        Coordenação APS            2023-08-17 2023-08-17   \n",
       "16012  Coordenação de Equipe            2022-11-08 2022-11-09   \n",
       "4533   Coordenação de Equipe            2023-10-24 2023-11-13   \n",
       "2739         Coordenação APS            2023-05-09 2023-05-12   \n",
       "\n",
       "       acessou_listas_nominais  clicks_imprimir_lista  clicks_filtrar_lista  \\\n",
       "13761                     True                      0                     1   \n",
       "14984                    False                      0                     0   \n",
       "16012                     True                      0                     0   \n",
       "4533                      True                      0                     0   \n",
       "2739                      True                      0                     0   \n",
       "\n",
       "      estado  delta_time  first_access  \n",
       "13761     MG           1             1  \n",
       "14984     PA           0             1  \n",
       "16012     SP           1             1  \n",
       "4533      RS          20             1  \n",
       "2739      PI           3             1  "
      ]
     },
     "execution_count": 40,
     "metadata": {},
     "output_type": "execute_result"
    }
   ],
   "source": [
    "df_first_access.head(5)"
   ]
  },
  {
   "cell_type": "code",
   "execution_count": 41,
   "metadata": {},
   "outputs": [
    {
     "data": {
      "text/plain": [
       "acessou_listas_nominais\n",
       "True     501\n",
       "False     74\n",
       "Name: count, dtype: int64"
      ]
     },
     "execution_count": 41,
     "metadata": {},
     "output_type": "execute_result"
    }
   ],
   "source": [
    "df_first_access[\"acessou_listas_nominais\"].value_counts()"
   ]
  },
  {
   "cell_type": "code",
   "execution_count": 42,
   "metadata": {},
   "outputs": [
    {
     "data": {
      "text/plain": [
       "np.float64(25.346086956521738)"
      ]
     },
     "execution_count": 42,
     "metadata": {},
     "output_type": "execute_result"
    }
   ],
   "source": [
    "df_first_access[\"delta_time\"].mean()"
   ]
  },
  {
   "cell_type": "code",
   "execution_count": 43,
   "metadata": {},
   "outputs": [
    {
     "data": {
      "text/plain": [
       "np.float64(6.0)"
      ]
     },
     "execution_count": 43,
     "metadata": {},
     "output_type": "execute_result"
    }
   ],
   "source": [
    "df_first_access[\"delta_time\"].median()"
   ]
  },
  {
   "cell_type": "code",
   "execution_count": 44,
   "metadata": {},
   "outputs": [
    {
     "data": {
      "text/plain": [
       "0    1\n",
       "Name: delta_time, dtype: int64"
      ]
     },
     "execution_count": 44,
     "metadata": {},
     "output_type": "execute_result"
    }
   ],
   "source": [
    "df_first_access[\"delta_time\"].mode()"
   ]
  },
  {
   "cell_type": "markdown",
   "metadata": {},
   "source": [
    "### Above: Task completed - save for a deep dive into the 3 requests of the task."
   ]
  },
  {
   "cell_type": "markdown",
   "metadata": {},
   "source": [
    "\n",
    "<a id=\"analysis-of-the-merged-dataframe\"></a>\n"
   ]
  },
  {
   "cell_type": "markdown",
   "metadata": {},
   "source": [
    "________________________"
   ]
  },
  {
   "cell_type": "markdown",
   "metadata": {},
   "source": [
    "# 3. Analysis of the merged dataframe"
   ]
  },
  {
   "cell_type": "code",
   "execution_count": 45,
   "metadata": {},
   "outputs": [
    {
     "data": {
      "text/plain": [
       "575"
      ]
     },
     "execution_count": 45,
     "metadata": {},
     "output_type": "execute_result"
    }
   ],
   "source": [
    "df[\"usuario_id\"].nunique()"
   ]
  },
  {
   "cell_type": "code",
   "execution_count": 46,
   "metadata": {},
   "outputs": [
    {
     "data": {
      "text/plain": [
       "17"
      ]
     },
     "execution_count": 46,
     "metadata": {},
     "output_type": "execute_result"
    }
   ],
   "source": [
    "df[\"estado\"].nunique()"
   ]
  },
  {
   "cell_type": "code",
   "execution_count": 47,
   "metadata": {},
   "outputs": [
    {
     "data": {
      "text/plain": [
       "70"
      ]
     },
     "execution_count": 47,
     "metadata": {},
     "output_type": "execute_result"
    }
   ],
   "source": [
    "df[\"municipio\"].nunique()"
   ]
  },
  {
   "cell_type": "code",
   "execution_count": 48,
   "metadata": {},
   "outputs": [
    {
     "data": {
      "text/plain": [
       "cargo\n",
       "Coordenação de Equipe    17601\n",
       "Coordenação APS           3176\n",
       "Name: count, dtype: int64"
      ]
     },
     "execution_count": 48,
     "metadata": {},
     "output_type": "execute_result"
    }
   ],
   "source": [
    "df[\"cargo\"].value_counts()"
   ]
  },
  {
   "cell_type": "code",
   "execution_count": 49,
   "metadata": {},
   "outputs": [
    {
     "data": {
      "text/plain": [
       "0.9069371058462588"
      ]
     },
     "execution_count": 49,
     "metadata": {},
     "output_type": "execute_result"
    }
   ],
   "source": [
    "len(df[(df[\"cargo\"] == \"Coordenação de Equipe\") & (df[\"acessou_listas_nominais\"] == True)]) / len(df[(df[\"cargo\"] == \"Coordenação de Equipe\")])"
   ]
  },
  {
   "cell_type": "code",
   "execution_count": 50,
   "metadata": {},
   "outputs": [
    {
     "data": {
      "text/plain": [
       "0.8816120906801007"
      ]
     },
     "execution_count": 50,
     "metadata": {},
     "output_type": "execute_result"
    }
   ],
   "source": [
    "len(df[(df[\"cargo\"] == \"Coordenação APS\") & (df[\"acessou_listas_nominais\"] == True)]) / len(df[(df[\"cargo\"] == \"Coordenação APS\")])"
   ]
  },
  {
   "cell_type": "markdown",
   "metadata": {},
   "source": [
    "### Sanity check if there is any typo in NON-acces nominal list & Clicks"
   ]
  },
  {
   "cell_type": "code",
   "execution_count": 51,
   "metadata": {},
   "outputs": [
    {
     "data": {
      "text/plain": [
       "clicks_imprimir_lista\n",
       "0    2014\n",
       "Name: count, dtype: int64"
      ]
     },
     "execution_count": 51,
     "metadata": {},
     "output_type": "execute_result"
    }
   ],
   "source": [
    "df[(df[\"acessou_listas_nominais\"] == False)][\"clicks_imprimir_lista\"].value_counts()"
   ]
  },
  {
   "cell_type": "code",
   "execution_count": 52,
   "metadata": {},
   "outputs": [
    {
     "data": {
      "text/plain": [
       "clicks_filtrar_lista\n",
       "0    2014\n",
       "Name: count, dtype: int64"
      ]
     },
     "execution_count": 52,
     "metadata": {},
     "output_type": "execute_result"
    }
   ],
   "source": [
    "df[(df[\"acessou_listas_nominais\"] == False)][\"clicks_filtrar_lista\"].value_counts()"
   ]
  },
  {
   "cell_type": "code",
   "execution_count": 53,
   "metadata": {},
   "outputs": [],
   "source": [
    "# df[(df[\"acessou_listas_nominais\"] == True)][\"clicks_imprimir_lista\"].value_counts().sum()"
   ]
  },
  {
   "cell_type": "code",
   "execution_count": 54,
   "metadata": {},
   "outputs": [],
   "source": [
    "# df[(df[\"acessou_listas_nominais\"] == True)][\"clicks_filtrar_lista\"].value_counts().sum()"
   ]
  },
  {
   "cell_type": "markdown",
   "metadata": {},
   "source": [
    "DataFrame Analysis: <br>\n",
    "    - Users - How many unique users? 575 unique users; <br>\n",
    "    - Cities - Are all 5571 cities in Brazil represented? No, 70 cities; <br>\n",
    "    - States - Are all 26+1 states of Brazil represented? No, 17 states; <br>\n",
    "    - How many and which positions? There are only 2 positions: Team Coordination and APS Coordination; <br>\n",
    "    - Mix of users who use the nominal list vs. those who don't: <br>\n",
    "          - Mix of Team Coordination using the list (of # access): 90% <br>\n",
    "          - Mix of APS Coordination using the list: (of # access): 88% <br>"
   ]
  },
  {
   "cell_type": "markdown",
   "metadata": {},
   "source": [
    "<a id=\"answering-questions\"></a>"
   ]
  },
  {
   "cell_type": "markdown",
   "metadata": {},
   "source": [
    "__________________________"
   ]
  },
  {
   "cell_type": "markdown",
   "metadata": {},
   "source": [
    "# 4. Answering Questions"
   ]
  },
  {
   "cell_type": "markdown",
   "metadata": {},
   "source": [
    "### 4.1. First access rates to the nominal lists;:\n",
    "#### 4.1.1 Dispersion of the time median and mode of first login?\n",
    "#### 4.1.2 The threshold in days when the probability for NOT USING the product it is greater than 50%?\n",
    "#### Sugestão: Entendo ser crítico quem demorou mais de 24h para acessar as listas pois cai no esquecimento - nao podemos deixar isso acontecer Criar um sistema automatizado para notificar por e-mail e WhatsApp que a pessoa criou a lista e para acessa-la"
   ]
  },
  {
   "cell_type": "code",
   "execution_count": 55,
   "metadata": {},
   "outputs": [
    {
     "data": {
      "text/plain": [
       "count    575.000000\n",
       "mean      25.346087\n",
       "std       59.864541\n",
       "min        0.000000\n",
       "25%        1.000000\n",
       "50%        6.000000\n",
       "75%       21.000000\n",
       "max      665.000000\n",
       "Name: delta_time, dtype: float64"
      ]
     },
     "execution_count": 55,
     "metadata": {},
     "output_type": "execute_result"
    }
   ],
   "source": [
    "df_first_access[\"delta_time\"].describe()"
   ]
  },
  {
   "cell_type": "markdown",
   "metadata": {},
   "source": [
    "### No problems with the current df that we have created to deepdive into the first access of the nominal lists"
   ]
  },
  {
   "cell_type": "code",
   "execution_count": 56,
   "metadata": {},
   "outputs": [
    {
     "data": {
      "text/plain": [
       "np.float64(6.0)"
      ]
     },
     "execution_count": 56,
     "metadata": {},
     "output_type": "execute_result"
    }
   ],
   "source": [
    "df_first_access[\"delta_time\"].median()"
   ]
  },
  {
   "cell_type": "code",
   "execution_count": 57,
   "metadata": {},
   "outputs": [
    {
     "data": {
      "image/png": "[encoded data removed]",
      "text/plain": [
       "<Figure size 640x480 with 1 Axes>"
      ]
     },
     "metadata": {},
     "output_type": "display_data"
    }
   ],
   "source": [
    "sns.boxplot(x=df_first_access[\"delta_time\"])\n",
    "\n",
    "plt.axvline(df_first_access[\"delta_time\"].median(), color=\"red\", linestyle=\"--\");"
   ]
  },
  {
   "cell_type": "code",
   "execution_count": 58,
   "metadata": {},
   "outputs": [
    {
     "data": {
      "text/plain": [
       "np.int64(575)"
      ]
     },
     "execution_count": 58,
     "metadata": {},
     "output_type": "execute_result"
    }
   ],
   "source": [
    "df_first_access[\"delta_time\"].count()"
   ]
  },
  {
   "cell_type": "code",
   "execution_count": 59,
   "metadata": {},
   "outputs": [
    {
     "data": {
      "text/html": [
       "<div>\n",
       "<style scoped>\n",
       "    .dataframe tbody tr th:only-of-type {\n",
       "        vertical-align: middle;\n",
       "    }\n",
       "\n",
       "    .dataframe tbody tr th {\n",
       "        vertical-align: top;\n",
       "    }\n",
       "\n",
       "    .dataframe thead th {\n",
       "        text-align: right;\n",
       "    }\n",
       "</style>\n",
       "<table border=\"1\" class=\"dataframe\">\n",
       "  <thead>\n",
       "    <tr style=\"text-align: right;\">\n",
       "      <th></th>\n",
       "      <th>usuario_id</th>\n",
       "      <th>municipio</th>\n",
       "      <th>cargo</th>\n",
       "      <th>data_criacao_cadastro</th>\n",
       "      <th>data_ativo</th>\n",
       "      <th>acessou_listas_nominais</th>\n",
       "      <th>clicks_imprimir_lista</th>\n",
       "      <th>clicks_filtrar_lista</th>\n",
       "      <th>estado</th>\n",
       "      <th>delta_time</th>\n",
       "      <th>first_access</th>\n",
       "    </tr>\n",
       "  </thead>\n",
       "  <tbody>\n",
       "    <tr>\n",
       "      <th>13761</th>\n",
       "      <td>0077e9df-39d3-41bc-aa57-3953e894bcf9</td>\n",
       "      <td>Três Marias - MG</td>\n",
       "      <td>Coordenação de Equipe</td>\n",
       "      <td>2024-04-04</td>\n",
       "      <td>2024-04-05</td>\n",
       "      <td>True</td>\n",
       "      <td>0</td>\n",
       "      <td>1</td>\n",
       "      <td>MG</td>\n",
       "      <td>1</td>\n",
       "      <td>1</td>\n",
       "    </tr>\n",
       "    <tr>\n",
       "      <th>14984</th>\n",
       "      <td>009a2ef8-ee98-4c4d-b53a-6407abc03715</td>\n",
       "      <td>Salvaterra - PA</td>\n",
       "      <td>Coordenação APS</td>\n",
       "      <td>2023-08-17</td>\n",
       "      <td>2023-08-17</td>\n",
       "      <td>False</td>\n",
       "      <td>0</td>\n",
       "      <td>0</td>\n",
       "      <td>PA</td>\n",
       "      <td>0</td>\n",
       "      <td>1</td>\n",
       "    </tr>\n",
       "    <tr>\n",
       "      <th>16012</th>\n",
       "      <td>0103a1d1-96c8-4d98-b263-0549294aff13</td>\n",
       "      <td>Juquitiba - SP</td>\n",
       "      <td>Coordenação de Equipe</td>\n",
       "      <td>2022-11-08</td>\n",
       "      <td>2022-11-09</td>\n",
       "      <td>True</td>\n",
       "      <td>0</td>\n",
       "      <td>0</td>\n",
       "      <td>SP</td>\n",
       "      <td>1</td>\n",
       "      <td>1</td>\n",
       "    </tr>\n",
       "    <tr>\n",
       "      <th>4533</th>\n",
       "      <td>013e6d7a-4b86-47a3-972e-4c046dc4903b</td>\n",
       "      <td>Palmeira das Missões - RS</td>\n",
       "      <td>Coordenação de Equipe</td>\n",
       "      <td>2023-10-24</td>\n",
       "      <td>2023-11-13</td>\n",
       "      <td>True</td>\n",
       "      <td>0</td>\n",
       "      <td>0</td>\n",
       "      <td>RS</td>\n",
       "      <td>20</td>\n",
       "      <td>1</td>\n",
       "    </tr>\n",
       "  </tbody>\n",
       "</table>\n",
       "</div>"
      ],
      "text/plain": [
       "                                 usuario_id                  municipio  \\\n",
       "13761  0077e9df-39d3-41bc-aa57-3953e894bcf9           Três Marias - MG   \n",
       "14984  009a2ef8-ee98-4c4d-b53a-6407abc03715            Salvaterra - PA   \n",
       "16012  0103a1d1-96c8-4d98-b263-0549294aff13             Juquitiba - SP   \n",
       "4533   013e6d7a-4b86-47a3-972e-4c046dc4903b  Palmeira das Missões - RS   \n",
       "\n",
       "                       cargo data_criacao_cadastro data_ativo  \\\n",
       "13761  Coordenação de Equipe            2024-04-04 2024-04-05   \n",
       "14984        Coordenação APS            2023-08-17 2023-08-17   \n",
       "16012  Coordenação de Equipe            2022-11-08 2022-11-09   \n",
       "4533   Coordenação de Equipe            2023-10-24 2023-11-13   \n",
       "\n",
       "       acessou_listas_nominais  clicks_imprimir_lista  clicks_filtrar_lista  \\\n",
       "13761                     True                      0                     1   \n",
       "14984                    False                      0                     0   \n",
       "16012                     True                      0                     0   \n",
       "4533                      True                      0                     0   \n",
       "\n",
       "      estado  delta_time  first_access  \n",
       "13761     MG           1             1  \n",
       "14984     PA           0             1  \n",
       "16012     SP           1             1  \n",
       "4533      RS          20             1  "
      ]
     },
     "execution_count": 59,
     "metadata": {},
     "output_type": "execute_result"
    }
   ],
   "source": [
    "df_first_access.head(4)"
   ]
  },
  {
   "cell_type": "markdown",
   "metadata": {},
   "source": [
    "Important: <br>\n",
    "    - 0 for NON access in nominal list <br>\n",
    "    - 1 for access YES! <br>"
   ]
  },
  {
   "cell_type": "code",
   "execution_count": 60,
   "metadata": {},
   "outputs": [
    {
     "name": "stderr",
     "output_type": "stream",
     "text": [
      "/tmp/ipykernel_2989/4181266748.py:4: SettingWithCopyWarning: \n",
      "A value is trying to be set on a copy of a slice from a DataFrame.\n",
      "Try using .loc[row_indexer,col_indexer] = value instead\n",
      "\n",
      "See the caveats in the documentation: https://pandas.pydata.org/pandas-docs/stable/user_guide/indexing.html#returning-a-view-versus-a-copy\n",
      "  df_first_access[\"access_boolean\"] = df[\"acessou_listas_nominais\"].apply(lambda x: 1 if x == True else 0)\n"
     ]
    },
    {
     "data": {
      "text/plain": [
       "array([1, 0])"
      ]
     },
     "execution_count": 60,
     "metadata": {},
     "output_type": "execute_result"
    }
   ],
   "source": [
    "# O que estou fazendo aqui? Transformando o type do acessou as listas em booleano, tirando True e False e criando 1 ou 0\n",
    "# e fazendo o sanity check se funcionou.\n",
    "#df[\"acessou_listas_nominais\"] = df[\"acessou_listas_nominais\"].astype(bool)\n",
    "df_first_access[\"access_boolean\"] = df[\"acessou_listas_nominais\"].apply(lambda x: 1 if x == True else 0)\n",
    "df_first_access[\"access_boolean\"].unique()"
   ]
  },
  {
   "cell_type": "code",
   "execution_count": 61,
   "metadata": {},
   "outputs": [
    {
     "data": {
      "text/html": [
       "<div>\n",
       "<style scoped>\n",
       "    .dataframe tbody tr th:only-of-type {\n",
       "        vertical-align: middle;\n",
       "    }\n",
       "\n",
       "    .dataframe tbody tr th {\n",
       "        vertical-align: top;\n",
       "    }\n",
       "\n",
       "    .dataframe thead th {\n",
       "        text-align: right;\n",
       "    }\n",
       "</style>\n",
       "<table border=\"1\" class=\"dataframe\">\n",
       "  <thead>\n",
       "    <tr style=\"text-align: right;\">\n",
       "      <th></th>\n",
       "      <th>usuario_id</th>\n",
       "      <th>municipio</th>\n",
       "      <th>cargo</th>\n",
       "      <th>data_criacao_cadastro</th>\n",
       "      <th>data_ativo</th>\n",
       "      <th>acessou_listas_nominais</th>\n",
       "      <th>clicks_imprimir_lista</th>\n",
       "      <th>clicks_filtrar_lista</th>\n",
       "      <th>estado</th>\n",
       "      <th>delta_time</th>\n",
       "      <th>first_access</th>\n",
       "      <th>access_boolean</th>\n",
       "    </tr>\n",
       "  </thead>\n",
       "  <tbody>\n",
       "    <tr>\n",
       "      <th>13761</th>\n",
       "      <td>0077e9df-39d3-41bc-aa57-3953e894bcf9</td>\n",
       "      <td>Três Marias - MG</td>\n",
       "      <td>Coordenação de Equipe</td>\n",
       "      <td>2024-04-04</td>\n",
       "      <td>2024-04-05</td>\n",
       "      <td>True</td>\n",
       "      <td>0</td>\n",
       "      <td>1</td>\n",
       "      <td>MG</td>\n",
       "      <td>1</td>\n",
       "      <td>1</td>\n",
       "      <td>1</td>\n",
       "    </tr>\n",
       "    <tr>\n",
       "      <th>14984</th>\n",
       "      <td>009a2ef8-ee98-4c4d-b53a-6407abc03715</td>\n",
       "      <td>Salvaterra - PA</td>\n",
       "      <td>Coordenação APS</td>\n",
       "      <td>2023-08-17</td>\n",
       "      <td>2023-08-17</td>\n",
       "      <td>False</td>\n",
       "      <td>0</td>\n",
       "      <td>0</td>\n",
       "      <td>PA</td>\n",
       "      <td>0</td>\n",
       "      <td>1</td>\n",
       "      <td>0</td>\n",
       "    </tr>\n",
       "    <tr>\n",
       "      <th>16012</th>\n",
       "      <td>0103a1d1-96c8-4d98-b263-0549294aff13</td>\n",
       "      <td>Juquitiba - SP</td>\n",
       "      <td>Coordenação de Equipe</td>\n",
       "      <td>2022-11-08</td>\n",
       "      <td>2022-11-09</td>\n",
       "      <td>True</td>\n",
       "      <td>0</td>\n",
       "      <td>0</td>\n",
       "      <td>SP</td>\n",
       "      <td>1</td>\n",
       "      <td>1</td>\n",
       "      <td>1</td>\n",
       "    </tr>\n",
       "    <tr>\n",
       "      <th>4533</th>\n",
       "      <td>013e6d7a-4b86-47a3-972e-4c046dc4903b</td>\n",
       "      <td>Palmeira das Missões - RS</td>\n",
       "      <td>Coordenação de Equipe</td>\n",
       "      <td>2023-10-24</td>\n",
       "      <td>2023-11-13</td>\n",
       "      <td>True</td>\n",
       "      <td>0</td>\n",
       "      <td>0</td>\n",
       "      <td>RS</td>\n",
       "      <td>20</td>\n",
       "      <td>1</td>\n",
       "      <td>1</td>\n",
       "    </tr>\n",
       "    <tr>\n",
       "      <th>2739</th>\n",
       "      <td>021f43b9-c167-44b3-bc42-5420212df999</td>\n",
       "      <td>Paes Landim - PI</td>\n",
       "      <td>Coordenação APS</td>\n",
       "      <td>2023-05-09</td>\n",
       "      <td>2023-05-12</td>\n",
       "      <td>True</td>\n",
       "      <td>0</td>\n",
       "      <td>0</td>\n",
       "      <td>PI</td>\n",
       "      <td>3</td>\n",
       "      <td>1</td>\n",
       "      <td>1</td>\n",
       "    </tr>\n",
       "    <tr>\n",
       "      <th>10873</th>\n",
       "      <td>02dc65f3-341b-454c-a5be-34ffc3d39e3f</td>\n",
       "      <td>Viana - MA</td>\n",
       "      <td>Coordenação de Equipe</td>\n",
       "      <td>2023-03-16</td>\n",
       "      <td>2023-03-17</td>\n",
       "      <td>True</td>\n",
       "      <td>0</td>\n",
       "      <td>0</td>\n",
       "      <td>MA</td>\n",
       "      <td>1</td>\n",
       "      <td>1</td>\n",
       "      <td>1</td>\n",
       "    </tr>\n",
       "    <tr>\n",
       "      <th>3223</th>\n",
       "      <td>03529be2-6468-4336-9248-cfe422317088</td>\n",
       "      <td>Afuá - PA</td>\n",
       "      <td>Coordenação de Equipe</td>\n",
       "      <td>2024-04-22</td>\n",
       "      <td>2024-04-22</td>\n",
       "      <td>True</td>\n",
       "      <td>13</td>\n",
       "      <td>16</td>\n",
       "      <td>PA</td>\n",
       "      <td>0</td>\n",
       "      <td>1</td>\n",
       "      <td>1</td>\n",
       "    </tr>\n",
       "  </tbody>\n",
       "</table>\n",
       "</div>"
      ],
      "text/plain": [
       "                                 usuario_id                  municipio  \\\n",
       "13761  0077e9df-39d3-41bc-aa57-3953e894bcf9           Três Marias - MG   \n",
       "14984  009a2ef8-ee98-4c4d-b53a-6407abc03715            Salvaterra - PA   \n",
       "16012  0103a1d1-96c8-4d98-b263-0549294aff13             Juquitiba - SP   \n",
       "4533   013e6d7a-4b86-47a3-972e-4c046dc4903b  Palmeira das Missões - RS   \n",
       "2739   021f43b9-c167-44b3-bc42-5420212df999           Paes Landim - PI   \n",
       "10873  02dc65f3-341b-454c-a5be-34ffc3d39e3f                 Viana - MA   \n",
       "3223   03529be2-6468-4336-9248-cfe422317088                  Afuá - PA   \n",
       "\n",
       "                       cargo data_criacao_cadastro data_ativo  \\\n",
       "13761  Coordenação de Equipe            2024-04-04 2024-04-05   \n",
       "14984        Coordenação APS            2023-08-17 2023-08-17   \n",
       "16012  Coordenação de Equipe            2022-11-08 2022-11-09   \n",
       "4533   Coordenação de Equipe            2023-10-24 2023-11-13   \n",
       "2739         Coordenação APS            2023-05-09 2023-05-12   \n",
       "10873  Coordenação de Equipe            2023-03-16 2023-03-17   \n",
       "3223   Coordenação de Equipe            2024-04-22 2024-04-22   \n",
       "\n",
       "       acessou_listas_nominais  clicks_imprimir_lista  clicks_filtrar_lista  \\\n",
       "13761                     True                      0                     1   \n",
       "14984                    False                      0                     0   \n",
       "16012                     True                      0                     0   \n",
       "4533                      True                      0                     0   \n",
       "2739                      True                      0                     0   \n",
       "10873                     True                      0                     0   \n",
       "3223                      True                     13                    16   \n",
       "\n",
       "      estado  delta_time  first_access  access_boolean  \n",
       "13761     MG           1             1               1  \n",
       "14984     PA           0             1               0  \n",
       "16012     SP           1             1               1  \n",
       "4533      RS          20             1               1  \n",
       "2739      PI           3             1               1  \n",
       "10873     MA           1             1               1  \n",
       "3223      PA           0             1               1  "
      ]
     },
     "execution_count": 61,
     "metadata": {},
     "output_type": "execute_result"
    }
   ],
   "source": [
    "df_first_access.head(7)"
   ]
  },
  {
   "cell_type": "code",
   "execution_count": 62,
   "metadata": {},
   "outputs": [],
   "source": [
    "from sklearn.model_selection import train_test_split\n",
    "from sklearn.linear_model import LogisticRegression\n",
    "from sklearn.metrics import accuracy_score\n",
    "from sklearn.preprocessing import StandardScaler\n",
    "from sklearn.preprocessing import RobustScaler\n",
    "from sklearn.preprocessing import MinMaxScaler\n"
   ]
  },
  {
   "cell_type": "code",
   "execution_count": 63,
   "metadata": {},
   "outputs": [
    {
     "data": {
      "text/plain": [
       "access_boolean\n",
       "1    501\n",
       "0     74\n",
       "Name: count, dtype: int64"
      ]
     },
     "execution_count": 63,
     "metadata": {},
     "output_type": "execute_result"
    }
   ],
   "source": [
    "df_first_access[\"access_boolean\"].value_counts()"
   ]
  },
  {
   "cell_type": "markdown",
   "metadata": {},
   "source": [
    "### Unbalanced dataset, we must rebalance and scale the delta_times (a lot of outliers)"
   ]
  },
  {
   "cell_type": "code",
   "execution_count": 64,
   "metadata": {},
   "outputs": [
    {
     "name": "stderr",
     "output_type": "stream",
     "text": [
      "/tmp/ipykernel_2989/2570268445.py:4: SettingWithCopyWarning: \n",
      "A value is trying to be set on a copy of a slice from a DataFrame.\n",
      "Try using .loc[row_indexer,col_indexer] = value instead\n",
      "\n",
      "See the caveats in the documentation: https://pandas.pydata.org/pandas-docs/stable/user_guide/indexing.html#returning-a-view-versus-a-copy\n",
      "  df_first_access[\"delta_time_scaled\"] = scaler.fit_transform(df_first_access[[\"delta_time\"]])\n"
     ]
    }
   ],
   "source": [
    "scaler = StandardScaler()\n",
    "# scaler = RobustScaler()\n",
    "# scaler = MinMaxScaler()\n",
    "df_first_access[\"delta_time_scaled\"] = scaler.fit_transform(df_first_access[[\"delta_time\"]])"
   ]
  },
  {
   "cell_type": "code",
   "execution_count": 65,
   "metadata": {},
   "outputs": [
    {
     "data": {
      "image/png": "[encoded data removed]",
      "text/plain": [
       "<Figure size 640x480 with 1 Axes>"
      ]
     },
     "metadata": {},
     "output_type": "display_data"
    }
   ],
   "source": [
    "sns.boxplot(x=df_first_access[\"delta_time_scaled\"])\n",
    "\n",
    "plt.axvline(df_first_access[\"delta_time_scaled\"].median(), color=\"red\", linestyle=\"--\");"
   ]
  },
  {
   "cell_type": "code",
   "execution_count": 66,
   "metadata": {},
   "outputs": [],
   "source": [
    "#X = df_first_access[[\"delta_time_scaled\"]]\n",
    "X = df_first_access[[\"delta_time\"]]\n",
    "y = df_first_access[\"access_boolean\"]\n",
    "\n",
    "X_train, X_test, y_train, y_test = train_test_split(X, y, test_size=0.3, random_state=42)"
   ]
  },
  {
   "cell_type": "code",
   "execution_count": 67,
   "metadata": {},
   "outputs": [],
   "source": [
    "# scaler = StandardScaler()\n",
    "# X_train_scaled = scaler.fit_transform(X_train)\n",
    "# X_test_scaled = scaler.transform(X_test)"
   ]
  },
  {
   "cell_type": "code",
   "execution_count": 68,
   "metadata": {},
   "outputs": [
    {
     "data": {
      "text/plain": [
       "0.6705202312138728"
      ]
     },
     "execution_count": 68,
     "metadata": {},
     "output_type": "execute_result"
    }
   ],
   "source": [
    "model = LogisticRegression(class_weight='balanced')\n",
    "#model = LogisticRegression()\n",
    "model.fit(X_train, y_train)\n",
    "y_pred = model.predict(X_test)\n",
    "accuracy = accuracy_score(y_test, y_pred)\n",
    "accuracy"
   ]
  },
  {
   "cell_type": "code",
   "execution_count": 69,
   "metadata": {},
   "outputs": [
    {
     "data": {
      "text/plain": [
       "array([0, 1, 1, 0, 0, 1, 0, 1, 1, 1, 1, 0, 0, 1, 1, 1, 1, 1, 1, 1, 1, 1,\n",
       "       1, 1, 1, 1, 1, 0, 1, 0, 1, 1, 1, 0, 1, 1, 1, 1, 1, 1, 0, 1, 1, 1,\n",
       "       0, 0, 0, 1, 1, 1, 1, 0, 1, 0, 1, 1, 1, 0, 1, 1, 1, 1, 0, 1, 1, 1,\n",
       "       1, 0, 1, 1, 1, 1, 1, 0, 0, 1, 1, 1, 1, 0, 1, 0, 1, 0, 1, 1, 1, 1,\n",
       "       1, 1, 1, 1, 1, 1, 1, 1, 1, 0, 1, 1, 1, 0, 0, 0, 1, 1, 1, 0, 0, 1,\n",
       "       1, 0, 1, 1, 1, 0, 1, 0, 1, 1, 1, 1, 1, 1, 1, 0, 1, 1, 1, 1, 0, 1,\n",
       "       0, 1, 1, 1, 1, 0, 1, 1, 1, 1, 1, 1, 1, 1, 1, 1, 1, 1, 1, 0, 0, 1,\n",
       "       0, 1, 1, 1, 1, 1, 0, 1, 0, 1, 1, 0, 1, 1, 0, 1, 0, 0, 1])"
      ]
     },
     "execution_count": 69,
     "metadata": {},
     "output_type": "execute_result"
    }
   ],
   "source": [
    "y_pred"
   ]
  },
  {
   "cell_type": "code",
   "execution_count": 70,
   "metadata": {},
   "outputs": [
    {
     "name": "stdout",
     "output_type": "stream",
     "text": [
      "[[0.50002844 0.49997156]\n",
      " [0.49989213 0.50010787]\n",
      " [0.49983473 0.50016527]\n",
      " [0.50081048 0.49918952]\n",
      " [0.50007149 0.49992851]\n",
      " [0.49992082 0.50007918]\n",
      " [0.50045175 0.49954825]\n",
      " [0.49996387 0.50003613]\n",
      " [0.4998993  0.5001007 ]\n",
      " [0.49985625 0.50014375]\n",
      " [0.49982755 0.50017245]\n",
      " [0.50014324 0.49985676]\n",
      " [0.50041587 0.49958413]\n",
      " [0.49996387 0.50003613]\n",
      " [0.4999567  0.5000433 ]\n",
      " [0.49997822 0.50002178]\n",
      " [0.49983473 0.50016527]\n",
      " [0.49983473 0.50016527]\n",
      " [0.49982755 0.50017245]\n",
      " [0.49986343 0.50013657]\n",
      " [0.4998419  0.5001581 ]\n",
      " [0.49997105 0.50002895]\n",
      " [0.49988495 0.50011505]\n",
      " [0.49985625 0.50014375]\n",
      " [0.499928   0.500072  ]\n",
      " [0.49982755 0.50017245]\n",
      " [0.49984908 0.50015092]\n",
      " [0.50027956 0.49972044]\n",
      " [0.4998419  0.5001581 ]\n",
      " [0.50068851 0.49931149]\n",
      " [0.49985625 0.50014375]\n",
      " [0.49982755 0.50017245]\n",
      " [0.4998419  0.5001581 ]\n",
      " [0.50007867 0.49992133]\n",
      " [0.49993517 0.50006483]\n",
      " [0.49985625 0.50014375]\n",
      " [0.49984908 0.50015092]\n",
      " [0.49999975 0.50000025]\n",
      " [0.49982755 0.50017245]\n",
      " [0.49982755 0.50017245]\n",
      " [0.50042305 0.49957695]\n",
      " [0.4998419  0.5001581 ]\n",
      " [0.49982755 0.50017245]\n",
      " [0.49997822 0.50002178]\n",
      " [0.50006432 0.49993568]\n",
      " [0.50000692 0.49999308]\n",
      " [0.50007149 0.49992851]\n",
      " [0.4998419  0.5001581 ]\n",
      " [0.49993517 0.50006483]\n",
      " [0.49988495 0.50011505]\n",
      " [0.49992082 0.50007918]\n",
      " [0.50059524 0.49940476]\n",
      " [0.49984908 0.50015092]\n",
      " [0.50023651 0.49976349]\n",
      " [0.49999257 0.50000743]\n",
      " [0.49983473 0.50016527]\n",
      " [0.4998419  0.5001581 ]\n",
      " [0.50027956 0.49972044]\n",
      " [0.4998993  0.5001007 ]\n",
      " [0.49988495 0.50011505]\n",
      " [0.4998419  0.5001581 ]\n",
      " [0.4999567  0.5000433 ]\n",
      " [0.50038    0.49962   ]\n",
      " [0.49983473 0.50016527]\n",
      " [0.49982755 0.50017245]\n",
      " [0.49987778 0.50012222]\n",
      " [0.49983473 0.50016527]\n",
      " [0.50248932 0.49751068]\n",
      " [0.49990647 0.50009353]\n",
      " [0.49982755 0.50017245]\n",
      " [0.4998419  0.5001581 ]\n",
      " [0.49982755 0.50017245]\n",
      " [0.49990647 0.50009353]\n",
      " [0.50063829 0.49936171]\n",
      " [0.50001409 0.49998591]\n",
      " [0.49983473 0.50016527]\n",
      " [0.49983473 0.50016527]\n",
      " [0.4998419  0.5001581 ]\n",
      " [0.4998706  0.5001294 ]\n",
      " [0.50033695 0.49966305]\n",
      " [0.4998706  0.5001294 ]\n",
      " [0.50001409 0.49998591]\n",
      " [0.49991365 0.50008635]\n",
      " [0.50184362 0.49815638]\n",
      " [0.49999257 0.50000743]\n",
      " [0.49987778 0.50012222]\n",
      " [0.49982755 0.50017245]\n",
      " [0.49985625 0.50014375]\n",
      " [0.49984908 0.50015092]\n",
      " [0.49982755 0.50017245]\n",
      " [0.49982755 0.50017245]\n",
      " [0.49986343 0.50013657]\n",
      " [0.49983473 0.50016527]\n",
      " [0.49983473 0.50016527]\n",
      " [0.49988495 0.50011505]\n",
      " [0.49982755 0.50017245]\n",
      " [0.49983473 0.50016527]\n",
      " [0.50329285 0.49670715]\n",
      " [0.4999854  0.5000146 ]\n",
      " [0.49982755 0.50017245]\n",
      " [0.49997105 0.50002895]\n",
      " [0.50053067 0.49946933]\n",
      " [0.50012171 0.49987829]\n",
      " [0.50043022 0.49956978]\n",
      " [0.49982755 0.50017245]\n",
      " [0.4999854  0.5000146 ]\n",
      " [0.49997822 0.50002178]\n",
      " [0.50002127 0.49997873]\n",
      " [0.50154946 0.49845054]\n",
      " [0.49983473 0.50016527]\n",
      " [0.49985625 0.50014375]\n",
      " [0.50074591 0.49925409]\n",
      " [0.49985625 0.50014375]\n",
      " [0.4998419  0.5001581 ]\n",
      " [0.49985625 0.50014375]\n",
      " [0.50007149 0.49992851]\n",
      " [0.49983473 0.50016527]\n",
      " [0.50002127 0.49997873]\n",
      " [0.49983473 0.50016527]\n",
      " [0.4998706  0.5001294 ]\n",
      " [0.49984908 0.50015092]\n",
      " [0.49982755 0.50017245]\n",
      " [0.49994952 0.50005048]\n",
      " [0.49982755 0.50017245]\n",
      " [0.4998419  0.5001581 ]\n",
      " [0.50005714 0.49994286]\n",
      " [0.49992082 0.50007918]\n",
      " [0.49983473 0.50016527]\n",
      " [0.49983473 0.50016527]\n",
      " [0.49984908 0.50015092]\n",
      " [0.50007867 0.49992133]\n",
      " [0.49983473 0.50016527]\n",
      " [0.50186514 0.49813486]\n",
      " [0.49991365 0.50008635]\n",
      " [0.49982755 0.50017245]\n",
      " [0.49986343 0.50013657]\n",
      " [0.4998993  0.5001007 ]\n",
      " [0.50008584 0.49991416]\n",
      " [0.49982755 0.50017245]\n",
      " [0.49983473 0.50016527]\n",
      " [0.4998419  0.5001581 ]\n",
      " [0.49988495 0.50011505]\n",
      " [0.4998706  0.5001294 ]\n",
      " [0.49987778 0.50012222]\n",
      " [0.4999854  0.5000146 ]\n",
      " [0.49982755 0.50017245]\n",
      " [0.49983473 0.50016527]\n",
      " [0.49982755 0.50017245]\n",
      " [0.49986343 0.50013657]\n",
      " [0.49982755 0.50017245]\n",
      " [0.49997822 0.50002178]\n",
      " [0.50014324 0.49985676]\n",
      " [0.50043022 0.49956978]\n",
      " [0.49983473 0.50016527]\n",
      " [0.50001409 0.49998591]\n",
      " [0.49983473 0.50016527]\n",
      " [0.499928   0.500072  ]\n",
      " [0.49986343 0.50013657]\n",
      " [0.499928   0.500072  ]\n",
      " [0.49983473 0.50016527]\n",
      " [0.50001409 0.49998591]\n",
      " [0.4999567  0.5000433 ]\n",
      " [0.50002127 0.49997873]\n",
      " [0.49982755 0.50017245]\n",
      " [0.4999567  0.5000433 ]\n",
      " [0.50035848 0.49964152]\n",
      " [0.49988495 0.50011505]\n",
      " [0.49987778 0.50012222]\n",
      " [0.50048045 0.49951955]\n",
      " [0.49983473 0.50016527]\n",
      " [0.50154946 0.49845054]\n",
      " [0.50007149 0.49992851]\n",
      " [0.4998706  0.5001294 ]]\n"
     ]
    }
   ],
   "source": [
    "proba = model.predict_proba(X_test)\n",
    "print(proba)"
   ]
  },
  {
   "cell_type": "code",
   "execution_count": 71,
   "metadata": {},
   "outputs": [
    {
     "data": {
      "text/plain": [
       "array([0.49997156, 0.50010787, 0.50016527, 0.49918952, 0.49992851,\n",
       "       0.50007918, 0.49954825, 0.50003613, 0.5001007 , 0.50014375,\n",
       "       0.50017245, 0.49985676, 0.49958413, 0.50003613, 0.5000433 ,\n",
       "       0.50002178, 0.50016527, 0.50016527, 0.50017245, 0.50013657,\n",
       "       0.5001581 , 0.50002895, 0.50011505, 0.50014375, 0.500072  ,\n",
       "       0.50017245, 0.50015092, 0.49972044, 0.5001581 , 0.49931149,\n",
       "       0.50014375, 0.50017245, 0.5001581 , 0.49992133, 0.50006483,\n",
       "       0.50014375, 0.50015092, 0.50000025, 0.50017245, 0.50017245,\n",
       "       0.49957695, 0.5001581 , 0.50017245, 0.50002178, 0.49993568,\n",
       "       0.49999308, 0.49992851, 0.5001581 , 0.50006483, 0.50011505,\n",
       "       0.50007918, 0.49940476, 0.50015092, 0.49976349, 0.50000743,\n",
       "       0.50016527, 0.5001581 , 0.49972044, 0.5001007 , 0.50011505,\n",
       "       0.5001581 , 0.5000433 , 0.49962   , 0.50016527, 0.50017245,\n",
       "       0.50012222, 0.50016527, 0.49751068, 0.50009353, 0.50017245,\n",
       "       0.5001581 , 0.50017245, 0.50009353, 0.49936171, 0.49998591,\n",
       "       0.50016527, 0.50016527, 0.5001581 , 0.5001294 , 0.49966305,\n",
       "       0.5001294 , 0.49998591, 0.50008635, 0.49815638, 0.50000743,\n",
       "       0.50012222, 0.50017245, 0.50014375, 0.50015092, 0.50017245,\n",
       "       0.50017245, 0.50013657, 0.50016527, 0.50016527, 0.50011505,\n",
       "       0.50017245, 0.50016527, 0.49670715, 0.5000146 , 0.50017245,\n",
       "       0.50002895, 0.49946933, 0.49987829, 0.49956978, 0.50017245,\n",
       "       0.5000146 , 0.50002178, 0.49997873, 0.49845054, 0.50016527,\n",
       "       0.50014375, 0.49925409, 0.50014375, 0.5001581 , 0.50014375,\n",
       "       0.49992851, 0.50016527, 0.49997873, 0.50016527, 0.5001294 ,\n",
       "       0.50015092, 0.50017245, 0.50005048, 0.50017245, 0.5001581 ,\n",
       "       0.49994286, 0.50007918, 0.50016527, 0.50016527, 0.50015092,\n",
       "       0.49992133, 0.50016527, 0.49813486, 0.50008635, 0.50017245,\n",
       "       0.50013657, 0.5001007 , 0.49991416, 0.50017245, 0.50016527,\n",
       "       0.5001581 , 0.50011505, 0.5001294 , 0.50012222, 0.5000146 ,\n",
       "       0.50017245, 0.50016527, 0.50017245, 0.50013657, 0.50017245,\n",
       "       0.50002178, 0.49985676, 0.49956978, 0.50016527, 0.49998591,\n",
       "       0.50016527, 0.500072  , 0.50013657, 0.500072  , 0.50016527,\n",
       "       0.49998591, 0.5000433 , 0.49997873, 0.50017245, 0.5000433 ,\n",
       "       0.49964152, 0.50011505, 0.50012222, 0.49951955, 0.50016527,\n",
       "       0.49845054, 0.49992851, 0.5001294 ])"
      ]
     },
     "execution_count": 71,
     "metadata": {},
     "output_type": "execute_result"
    }
   ],
   "source": [
    "proba_acess = proba[:,1]\n",
    "proba_acess"
   ]
  },
  {
   "cell_type": "code",
   "execution_count": 72,
   "metadata": {},
   "outputs": [
    {
     "name": "stdout",
     "output_type": "stream",
     "text": [
      "[0.00068978]\n",
      "[[-2.86985365e-05]]\n"
     ]
    }
   ],
   "source": [
    "intercept = model.intercept_\n",
    "coef = model.coef_\n",
    "print(intercept)\n",
    "print(coef)"
   ]
  },
  {
   "cell_type": "markdown",
   "metadata": {},
   "source": [
    "### As we can see above, the coef is negative: more X (days), more the probability that the product will not be access"
   ]
  },
  {
   "cell_type": "code",
   "execution_count": 73,
   "metadata": {},
   "outputs": [
    {
     "name": "stdout",
     "output_type": "stream",
     "text": [
      "24.035516582851617\n"
     ]
    }
   ],
   "source": [
    "limit_50 = intercept / coef\n",
    "limit_50 = limit_50 *-1\n",
    "limit_50 = limit_50[0][0]\n",
    "print(limit_50)"
   ]
  },
  {
   "cell_type": "code",
   "execution_count": 74,
   "metadata": {},
   "outputs": [
    {
     "name": "stderr",
     "output_type": "stream",
     "text": [
      "/home/fernando_cir/.pyenv/versions/3.10.6/envs/sus/lib/python3.10/site-packages/sklearn/base.py:493: UserWarning: X does not have valid feature names, but LogisticRegression was fitted with feature names\n",
      "  warnings.warn(\n"
     ]
    }
   ],
   "source": [
    "values = np.linspace(X_test.min(), X_test.max(), 10).reshape(-1, 1)\n",
    "probabilities = model.predict_proba(values)[:, 1]"
   ]
  },
  {
   "cell_type": "code",
   "execution_count": 75,
   "metadata": {},
   "outputs": [
    {
     "data": {
      "image/png": "[encoded data removed]",
      "text/plain": [
       "<Figure size 640x480 with 1 Axes>"
      ]
     },
     "metadata": {},
     "output_type": "display_data"
    }
   ],
   "source": [
    "plt.plot(values, probabilities, label=\"Fraud Probability\")\n",
    "plt.plot([limit_50, limit_50], [0, 0.5], color='red', linestyle='dashed', linewidth=2)\n",
    "plt.axhline(y=0.5, xmax=limit_50 / values.max(), color='red', linestyle='dashed', linewidth=2)\n",
    "plt.text(limit_50, 0.5, f'{limit_50:.2f}', color='red', fontsize=10, ha='center', va='bottom')\n",
    "\n",
    "plt.xlabel(\"Spent\")\n",
    "plt.ylabel(\"Fraud Probability\")\n",
    "plt.title(\"Spent x Fraud Probability\")\n",
    "plt.legend()\n",
    "plt.show()"
   ]
  },
  {
   "cell_type": "code",
   "execution_count": 76,
   "metadata": {},
   "outputs": [
    {
     "name": "stderr",
     "output_type": "stream",
     "text": [
      "/home/fernando_cir/.pyenv/versions/3.10.6/envs/sus/lib/python3.10/site-packages/sklearn/base.py:493: UserWarning: X does not have valid feature names, but LogisticRegression was fitted with feature names\n",
      "  warnings.warn(\n"
     ]
    }
   ],
   "source": [
    "# values = np.linspace(X.min(), X.max(), 100).reshape(-1, 1)\n",
    "# probabilities = model.predict_proba(values)[:, 1]\n",
    "\n",
    "X_limited = X[X <= 100]  # Limitando X até no máximo 100\n",
    "values = np.linspace(X_limited.min(), X_limited.max(), 100).reshape(-1, 1)\n",
    "\n",
    "probabilities = model.predict_proba(values)[:, 0]  # P(Y = 0)\n"
   ]
  },
  {
   "cell_type": "code",
   "execution_count": 77,
   "metadata": {},
   "outputs": [
    {
     "data": {
      "image/png": "[encoded data removed]",
      "text/plain": [
       "<Figure size 800x600 with 1 Axes>"
      ]
     },
     "metadata": {},
     "output_type": "display_data"
    }
   ],
   "source": [
    "plt.figure(figsize=(8, 6))\n",
    "plt.plot(values, probabilities, label=\"No Access Probability\")\n",
    "#plt.axvline(x=limit_50, color='red', linestyle='dashed', linewidth=2, label=f\"Threshold ({limit_50} days)\")\n",
    "plt.axhline(y=0.5, xmax=limit_50 / values.max(), color='blue', linestyle='dashed', linewidth=2)\n",
    "plt.text(limit_50, 0.5, f'{limit_50:.0f} days', color='red', fontsize=10, ha='center', va='bottom')\n",
    "\n",
    "# Configurações do gráfico\n",
    "plt.xlabel(\"Days\")\n",
    "plt.ylabel(\"No Access Probability\")\n",
    "plt.title(\"Days vs. No Access Probability\")\n",
    "plt.legend()\n",
    "plt.show()"
   ]
  },
  {
   "cell_type": "code",
   "execution_count": 78,
   "metadata": {},
   "outputs": [
    {
     "name": "stdout",
     "output_type": "stream",
     "text": [
      "[[  0.        ]\n",
      " [  1.01010101]\n",
      " [  2.02020202]\n",
      " [  3.03030303]\n",
      " [  4.04040404]\n",
      " [  5.05050505]\n",
      " [  6.06060606]\n",
      " [  7.07070707]\n",
      " [  8.08080808]\n",
      " [  9.09090909]\n",
      " [ 10.1010101 ]\n",
      " [ 11.11111111]\n",
      " [ 12.12121212]\n",
      " [ 13.13131313]\n",
      " [ 14.14141414]\n",
      " [ 15.15151515]\n",
      " [ 16.16161616]\n",
      " [ 17.17171717]\n",
      " [ 18.18181818]\n",
      " [ 19.19191919]\n",
      " [ 20.2020202 ]\n",
      " [ 21.21212121]\n",
      " [ 22.22222222]\n",
      " [ 23.23232323]\n",
      " [ 24.24242424]\n",
      " [ 25.25252525]\n",
      " [ 26.26262626]\n",
      " [ 27.27272727]\n",
      " [ 28.28282828]\n",
      " [ 29.29292929]\n",
      " [ 30.3030303 ]\n",
      " [ 31.31313131]\n",
      " [ 32.32323232]\n",
      " [ 33.33333333]\n",
      " [ 34.34343434]\n",
      " [ 35.35353535]\n",
      " [ 36.36363636]\n",
      " [ 37.37373737]\n",
      " [ 38.38383838]\n",
      " [ 39.39393939]\n",
      " [ 40.4040404 ]\n",
      " [ 41.41414141]\n",
      " [ 42.42424242]\n",
      " [ 43.43434343]\n",
      " [ 44.44444444]\n",
      " [ 45.45454545]\n",
      " [ 46.46464646]\n",
      " [ 47.47474747]\n",
      " [ 48.48484848]\n",
      " [ 49.49494949]\n",
      " [ 50.50505051]\n",
      " [ 51.51515152]\n",
      " [ 52.52525253]\n",
      " [ 53.53535354]\n",
      " [ 54.54545455]\n",
      " [ 55.55555556]\n",
      " [ 56.56565657]\n",
      " [ 57.57575758]\n",
      " [ 58.58585859]\n",
      " [ 59.5959596 ]\n",
      " [ 60.60606061]\n",
      " [ 61.61616162]\n",
      " [ 62.62626263]\n",
      " [ 63.63636364]\n",
      " [ 64.64646465]\n",
      " [ 65.65656566]\n",
      " [ 66.66666667]\n",
      " [ 67.67676768]\n",
      " [ 68.68686869]\n",
      " [ 69.6969697 ]\n",
      " [ 70.70707071]\n",
      " [ 71.71717172]\n",
      " [ 72.72727273]\n",
      " [ 73.73737374]\n",
      " [ 74.74747475]\n",
      " [ 75.75757576]\n",
      " [ 76.76767677]\n",
      " [ 77.77777778]\n",
      " [ 78.78787879]\n",
      " [ 79.7979798 ]\n",
      " [ 80.80808081]\n",
      " [ 81.81818182]\n",
      " [ 82.82828283]\n",
      " [ 83.83838384]\n",
      " [ 84.84848485]\n",
      " [ 85.85858586]\n",
      " [ 86.86868687]\n",
      " [ 87.87878788]\n",
      " [ 88.88888889]\n",
      " [ 89.8989899 ]\n",
      " [ 90.90909091]\n",
      " [ 91.91919192]\n",
      " [ 92.92929293]\n",
      " [ 93.93939394]\n",
      " [ 94.94949495]\n",
      " [ 95.95959596]\n",
      " [ 96.96969697]\n",
      " [ 97.97979798]\n",
      " [ 98.98989899]\n",
      " [100.        ]]\n"
     ]
    }
   ],
   "source": [
    "print(values)"
   ]
  },
  {
   "cell_type": "code",
   "execution_count": 79,
   "metadata": {},
   "outputs": [
    {
     "name": "stdout",
     "output_type": "stream",
     "text": [
      "[0.49982755 0.4998348  0.49984205 0.4998493  0.49985654 0.49986379\n",
      " 0.49987104 0.49987828 0.49988553 0.49989278 0.49990003 0.49990727\n",
      " 0.49991452 0.49992177 0.49992901 0.49993626 0.49994351 0.49995075\n",
      " 0.499958   0.49996525 0.4999725  0.49997974 0.49998699 0.49999424\n",
      " 0.50000148 0.50000873 0.50001598 0.50002323 0.50003047 0.50003772\n",
      " 0.50004497 0.50005221 0.50005946 0.50006671 0.50007396 0.5000812\n",
      " 0.50008845 0.5000957  0.50010294 0.50011019 0.50011744 0.50012469\n",
      " 0.50013193 0.50013918 0.50014643 0.50015367 0.50016092 0.50016817\n",
      " 0.50017542 0.50018266 0.50018991 0.50019716 0.5002044  0.50021165\n",
      " 0.5002189  0.50022614 0.50023339 0.50024064 0.50024789 0.50025513\n",
      " 0.50026238 0.50026963 0.50027687 0.50028412 0.50029137 0.50029862\n",
      " 0.50030586 0.50031311 0.50032036 0.5003276  0.50033485 0.5003421\n",
      " 0.50034935 0.50035659 0.50036384 0.50037109 0.50037833 0.50038558\n",
      " 0.50039283 0.50040008 0.50040732 0.50041457 0.50042182 0.50042906\n",
      " 0.50043631 0.50044356 0.5004508  0.50045805 0.5004653  0.50047255\n",
      " 0.50047979 0.50048704 0.50049429 0.50050153 0.50050878 0.50051603\n",
      " 0.50052328 0.50053052 0.50053777 0.50054502]\n"
     ]
    }
   ],
   "source": [
    "print(probabilities)"
   ]
  },
  {
   "cell_type": "markdown",
   "metadata": {},
   "source": [
    "### Analysis: 24 days seems to be a lot for >50% prob not to use the product. Hypotesis: outliers and/or few data.\n",
    "### Since this is an Data Analytics Task I will remain without treating the "
   ]
  },
  {
   "cell_type": "markdown",
   "metadata": {},
   "source": [
    "### 4.2. Comparison of activity between different user roles/positions:\n",
    "#### 4.2.1 Overall info of the \"Coordenador de Equipe\" role;\n",
    "#### 4.2.2 Overall info of the \"Coordenador de APS\" role;"
   ]
  },
  {
   "cell_type": "code",
   "execution_count": 139,
   "metadata": {},
   "outputs": [
    {
     "data": {
      "text/html": [
       "<div>\n",
       "<style scoped>\n",
       "    .dataframe tbody tr th:only-of-type {\n",
       "        vertical-align: middle;\n",
       "    }\n",
       "\n",
       "    .dataframe tbody tr th {\n",
       "        vertical-align: top;\n",
       "    }\n",
       "\n",
       "    .dataframe thead th {\n",
       "        text-align: right;\n",
       "    }\n",
       "</style>\n",
       "<table border=\"1\" class=\"dataframe\">\n",
       "  <thead>\n",
       "    <tr style=\"text-align: right;\">\n",
       "      <th></th>\n",
       "      <th>usuario_id</th>\n",
       "      <th>municipio</th>\n",
       "      <th>cargo</th>\n",
       "      <th>data_criacao_cadastro</th>\n",
       "      <th>data_ativo</th>\n",
       "      <th>acessou_listas_nominais</th>\n",
       "      <th>clicks_imprimir_lista</th>\n",
       "      <th>clicks_filtrar_lista</th>\n",
       "      <th>estado</th>\n",
       "      <th>delta_time</th>\n",
       "      <th>total_click</th>\n",
       "    </tr>\n",
       "  </thead>\n",
       "  <tbody>\n",
       "    <tr>\n",
       "      <th>0</th>\n",
       "      <td>a034d9fc-d54a-4a89-bdef-2e596af3a856</td>\n",
       "      <td>São Roque - SP</td>\n",
       "      <td>Coordenação de Equipe</td>\n",
       "      <td>2023-03-23</td>\n",
       "      <td>2023-08-11</td>\n",
       "      <td>True</td>\n",
       "      <td>0</td>\n",
       "      <td>0</td>\n",
       "      <td>SP</td>\n",
       "      <td>141</td>\n",
       "      <td>0</td>\n",
       "    </tr>\n",
       "    <tr>\n",
       "      <th>1</th>\n",
       "      <td>a034d9fc-d54a-4a89-bdef-2e596af3a856</td>\n",
       "      <td>São Roque - SP</td>\n",
       "      <td>Coordenação de Equipe</td>\n",
       "      <td>2023-03-23</td>\n",
       "      <td>2024-02-14</td>\n",
       "      <td>True</td>\n",
       "      <td>0</td>\n",
       "      <td>2</td>\n",
       "      <td>SP</td>\n",
       "      <td>328</td>\n",
       "      <td>2</td>\n",
       "    </tr>\n",
       "  </tbody>\n",
       "</table>\n",
       "</div>"
      ],
      "text/plain": [
       "                             usuario_id       municipio  \\\n",
       "0  a034d9fc-d54a-4a89-bdef-2e596af3a856  São Roque - SP   \n",
       "1  a034d9fc-d54a-4a89-bdef-2e596af3a856  São Roque - SP   \n",
       "\n",
       "                   cargo data_criacao_cadastro data_ativo  \\\n",
       "0  Coordenação de Equipe            2023-03-23 2023-08-11   \n",
       "1  Coordenação de Equipe            2023-03-23 2024-02-14   \n",
       "\n",
       "   acessou_listas_nominais  clicks_imprimir_lista  clicks_filtrar_lista  \\\n",
       "0                     True                      0                     0   \n",
       "1                     True                      0                     2   \n",
       "\n",
       "  estado  delta_time  total_click  \n",
       "0     SP         141            0  \n",
       "1     SP         328            2  "
      ]
     },
     "execution_count": 139,
     "metadata": {},
     "output_type": "execute_result"
    }
   ],
   "source": [
    "df.head(2)"
   ]
  },
  {
   "cell_type": "code",
   "execution_count": 140,
   "metadata": {},
   "outputs": [
    {
     "data": {
      "text/plain": [
       "array(['Coordenação de Equipe', 'Coordenação APS'], dtype=object)"
      ]
     },
     "execution_count": 140,
     "metadata": {},
     "output_type": "execute_result"
    }
   ],
   "source": [
    "df[\"cargo\"].unique()"
   ]
  },
  {
   "cell_type": "markdown",
   "metadata": {},
   "source": [
    "### Analysis of \"Coordenador de Equipe\" role"
   ]
  },
  {
   "cell_type": "markdown",
   "metadata": {},
   "source": [
    "### Total Unique Users:"
   ]
  },
  {
   "cell_type": "code",
   "execution_count": 141,
   "metadata": {},
   "outputs": [
    {
     "data": {
      "text/plain": [
       "475"
      ]
     },
     "execution_count": 141,
     "metadata": {},
     "output_type": "execute_result"
    }
   ],
   "source": [
    "tot_coord_eq = df[df[\"cargo\"] == \"Coordenação de Equipe\"][\"usuario_id\"].nunique()\n",
    "tot_coord_eq"
   ]
  },
  {
   "cell_type": "code",
   "execution_count": 142,
   "metadata": {},
   "outputs": [
    {
     "data": {
      "text/plain": [
       "cargo\n",
       "Coordenação de Equipe    17601\n",
       "Coordenação APS           3176\n",
       "Name: count, dtype: int64"
      ]
     },
     "execution_count": 142,
     "metadata": {},
     "output_type": "execute_result"
    }
   ],
   "source": [
    "df[\"cargo\"].value_counts()"
   ]
  },
  {
   "cell_type": "code",
   "execution_count": 143,
   "metadata": {},
   "outputs": [
    {
     "data": {
      "text/plain": [
       "cargo\n",
       "Coordenação APS          100\n",
       "Coordenação de Equipe    475\n",
       "Name: usuario_id, dtype: int64"
      ]
     },
     "execution_count": 143,
     "metadata": {},
     "output_type": "execute_result"
    }
   ],
   "source": [
    "unique_user_per_cargo = df.groupby(\"cargo\")[\"usuario_id\"].nunique()\n",
    "unique_user_per_cargo"
   ]
  },
  {
   "cell_type": "markdown",
   "metadata": {},
   "source": [
    "### Unique users who did used the nominal list and didn't"
   ]
  },
  {
   "cell_type": "code",
   "execution_count": 88,
   "metadata": {},
   "outputs": [
    {
     "data": {
      "text/plain": [
       "466"
      ]
     },
     "execution_count": 88,
     "metadata": {},
     "output_type": "execute_result"
    }
   ],
   "source": [
    "list_eq_nom_true = df[(df[\"cargo\"] == \"Coordenação de Equipe\") & (df[\"acessou_listas_nominais\"] == True)][\"usuario_id\"].nunique()\n",
    "list_eq_nom_true"
   ]
  },
  {
   "cell_type": "code",
   "execution_count": 144,
   "metadata": {},
   "outputs": [
    {
     "data": {
      "text/plain": [
       "314"
      ]
     },
     "execution_count": 144,
     "metadata": {},
     "output_type": "execute_result"
    }
   ],
   "source": [
    "list_eq_nom_false = df[(df[\"cargo\"] == \"Coordenação de Equipe\") & (df[\"acessou_listas_nominais\"] == False)][\"usuario_id\"].nunique()\n",
    "list_eq_nom_false"
   ]
  },
  {
   "cell_type": "markdown",
   "metadata": {},
   "source": [
    "### Of those who used the list, how are the clicks distributed?"
   ]
  },
  {
   "cell_type": "code",
   "execution_count": 145,
   "metadata": {},
   "outputs": [
    {
     "data": {
      "text/html": [
       "<div>\n",
       "<style scoped>\n",
       "    .dataframe tbody tr th:only-of-type {\n",
       "        vertical-align: middle;\n",
       "    }\n",
       "\n",
       "    .dataframe tbody tr th {\n",
       "        vertical-align: top;\n",
       "    }\n",
       "\n",
       "    .dataframe thead th {\n",
       "        text-align: right;\n",
       "    }\n",
       "</style>\n",
       "<table border=\"1\" class=\"dataframe\">\n",
       "  <thead>\n",
       "    <tr style=\"text-align: right;\">\n",
       "      <th></th>\n",
       "      <th>usuario_id</th>\n",
       "      <th>municipio</th>\n",
       "      <th>cargo</th>\n",
       "      <th>data_criacao_cadastro</th>\n",
       "      <th>data_ativo</th>\n",
       "      <th>acessou_listas_nominais</th>\n",
       "      <th>clicks_imprimir_lista</th>\n",
       "      <th>clicks_filtrar_lista</th>\n",
       "      <th>estado</th>\n",
       "      <th>delta_time</th>\n",
       "      <th>total_click</th>\n",
       "    </tr>\n",
       "  </thead>\n",
       "  <tbody>\n",
       "    <tr>\n",
       "      <th>0</th>\n",
       "      <td>a034d9fc-d54a-4a89-bdef-2e596af3a856</td>\n",
       "      <td>São Roque - SP</td>\n",
       "      <td>Coordenação de Equipe</td>\n",
       "      <td>2023-03-23</td>\n",
       "      <td>2023-08-11</td>\n",
       "      <td>True</td>\n",
       "      <td>0</td>\n",
       "      <td>0</td>\n",
       "      <td>SP</td>\n",
       "      <td>141</td>\n",
       "      <td>0</td>\n",
       "    </tr>\n",
       "    <tr>\n",
       "      <th>1</th>\n",
       "      <td>a034d9fc-d54a-4a89-bdef-2e596af3a856</td>\n",
       "      <td>São Roque - SP</td>\n",
       "      <td>Coordenação de Equipe</td>\n",
       "      <td>2023-03-23</td>\n",
       "      <td>2024-02-14</td>\n",
       "      <td>True</td>\n",
       "      <td>0</td>\n",
       "      <td>2</td>\n",
       "      <td>SP</td>\n",
       "      <td>328</td>\n",
       "      <td>2</td>\n",
       "    </tr>\n",
       "  </tbody>\n",
       "</table>\n",
       "</div>"
      ],
      "text/plain": [
       "                             usuario_id       municipio  \\\n",
       "0  a034d9fc-d54a-4a89-bdef-2e596af3a856  São Roque - SP   \n",
       "1  a034d9fc-d54a-4a89-bdef-2e596af3a856  São Roque - SP   \n",
       "\n",
       "                   cargo data_criacao_cadastro data_ativo  \\\n",
       "0  Coordenação de Equipe            2023-03-23 2023-08-11   \n",
       "1  Coordenação de Equipe            2023-03-23 2024-02-14   \n",
       "\n",
       "   acessou_listas_nominais  clicks_imprimir_lista  clicks_filtrar_lista  \\\n",
       "0                     True                      0                     0   \n",
       "1                     True                      0                     2   \n",
       "\n",
       "  estado  delta_time  total_click  \n",
       "0     SP         141            0  \n",
       "1     SP         328            2  "
      ]
     },
     "execution_count": 145,
     "metadata": {},
     "output_type": "execute_result"
    }
   ],
   "source": [
    "cliques_eq = df[(df[\"cargo\"] == \"Coordenação de Equipe\") & (df[\"acessou_listas_nominais\"] == True)]\n",
    "cliques_eq.head(2)"
   ]
  },
  {
   "cell_type": "code",
   "execution_count": 146,
   "metadata": {},
   "outputs": [
    {
     "data": {
      "text/plain": [
       "np.int64(6916)"
      ]
     },
     "execution_count": 146,
     "metadata": {},
     "output_type": "execute_result"
    }
   ],
   "source": [
    "eq_impri = cliques_eq[\"clicks_imprimir_lista\"].sum()\n",
    "eq_impri"
   ]
  },
  {
   "cell_type": "code",
   "execution_count": 147,
   "metadata": {},
   "outputs": [
    {
     "data": {
      "text/plain": [
       "np.int64(9360)"
      ]
     },
     "execution_count": 147,
     "metadata": {},
     "output_type": "execute_result"
    }
   ],
   "source": [
    "eq_fil = cliques_eq[\"clicks_filtrar_lista\"].sum()\n",
    "eq_fil"
   ]
  },
  {
   "cell_type": "code",
   "execution_count": 148,
   "metadata": {},
   "outputs": [
    {
     "data": {
      "text/plain": [
       "np.int64(16276)"
      ]
     },
     "execution_count": 148,
     "metadata": {},
     "output_type": "execute_result"
    }
   ],
   "source": [
    "eq_tot = eq_impri + eq_fil\n",
    "eq_tot"
   ]
  },
  {
   "cell_type": "code",
   "execution_count": null,
   "metadata": {},
   "outputs": [
    {
     "name": "stdout",
     "output_type": "stream",
     "text": [
      "Imprimir 42 %\n",
      "Filtro 57 %\n"
     ]
    }
   ],
   "source": [
    "print(f'Imprimir {int(eq_impri/eq_tot * 100)} %')\n",
    "print(f'Filtro {int(eq_fil/eq_tot * 100)} %')"
   ]
  },
  {
   "cell_type": "markdown",
   "metadata": {},
   "source": [
    "### Click / UU"
   ]
  },
  {
   "cell_type": "code",
   "execution_count": 156,
   "metadata": {},
   "outputs": [
    {
     "data": {
      "text/plain": [
       "np.float64(34.927038626609445)"
      ]
     },
     "execution_count": 156,
     "metadata": {},
     "output_type": "execute_result"
    }
   ],
   "source": [
    "eq_click_uu = eq_tot / list_eq_nom_true\n",
    "eq_click_uu"
   ]
  },
  {
   "cell_type": "markdown",
   "metadata": {},
   "source": [
    "### Time for First Access"
   ]
  },
  {
   "cell_type": "code",
   "execution_count": 157,
   "metadata": {},
   "outputs": [
    {
     "data": {
      "text/html": [
       "<div>\n",
       "<style scoped>\n",
       "    .dataframe tbody tr th:only-of-type {\n",
       "        vertical-align: middle;\n",
       "    }\n",
       "\n",
       "    .dataframe tbody tr th {\n",
       "        vertical-align: top;\n",
       "    }\n",
       "\n",
       "    .dataframe thead th {\n",
       "        text-align: right;\n",
       "    }\n",
       "</style>\n",
       "<table border=\"1\" class=\"dataframe\">\n",
       "  <thead>\n",
       "    <tr style=\"text-align: right;\">\n",
       "      <th></th>\n",
       "      <th>usuario_id</th>\n",
       "      <th>municipio</th>\n",
       "      <th>cargo</th>\n",
       "      <th>data_criacao_cadastro</th>\n",
       "      <th>data_ativo</th>\n",
       "      <th>acessou_listas_nominais</th>\n",
       "      <th>clicks_imprimir_lista</th>\n",
       "      <th>clicks_filtrar_lista</th>\n",
       "      <th>estado</th>\n",
       "      <th>delta_time</th>\n",
       "      <th>first_access</th>\n",
       "      <th>access_boolean</th>\n",
       "      <th>delta_time_scaled</th>\n",
       "    </tr>\n",
       "  </thead>\n",
       "  <tbody>\n",
       "    <tr>\n",
       "      <th>13761</th>\n",
       "      <td>0077e9df-39d3-41bc-aa57-3953e894bcf9</td>\n",
       "      <td>Três Marias - MG</td>\n",
       "      <td>Coordenação de Equipe</td>\n",
       "      <td>2024-04-04</td>\n",
       "      <td>2024-04-05</td>\n",
       "      <td>True</td>\n",
       "      <td>0</td>\n",
       "      <td>1</td>\n",
       "      <td>MG</td>\n",
       "      <td>1</td>\n",
       "      <td>1</td>\n",
       "      <td>1</td>\n",
       "      <td>-0.407040</td>\n",
       "    </tr>\n",
       "    <tr>\n",
       "      <th>14984</th>\n",
       "      <td>009a2ef8-ee98-4c4d-b53a-6407abc03715</td>\n",
       "      <td>Salvaterra - PA</td>\n",
       "      <td>Coordenação APS</td>\n",
       "      <td>2023-08-17</td>\n",
       "      <td>2023-08-17</td>\n",
       "      <td>False</td>\n",
       "      <td>0</td>\n",
       "      <td>0</td>\n",
       "      <td>PA</td>\n",
       "      <td>0</td>\n",
       "      <td>1</td>\n",
       "      <td>0</td>\n",
       "      <td>-0.423759</td>\n",
       "    </tr>\n",
       "  </tbody>\n",
       "</table>\n",
       "</div>"
      ],
      "text/plain": [
       "                                 usuario_id         municipio  \\\n",
       "13761  0077e9df-39d3-41bc-aa57-3953e894bcf9  Três Marias - MG   \n",
       "14984  009a2ef8-ee98-4c4d-b53a-6407abc03715   Salvaterra - PA   \n",
       "\n",
       "                       cargo data_criacao_cadastro data_ativo  \\\n",
       "13761  Coordenação de Equipe            2024-04-04 2024-04-05   \n",
       "14984        Coordenação APS            2023-08-17 2023-08-17   \n",
       "\n",
       "       acessou_listas_nominais  clicks_imprimir_lista  clicks_filtrar_lista  \\\n",
       "13761                     True                      0                     1   \n",
       "14984                    False                      0                     0   \n",
       "\n",
       "      estado  delta_time  first_access  access_boolean  delta_time_scaled  \n",
       "13761     MG           1             1               1          -0.407040  \n",
       "14984     PA           0             1               0          -0.423759  "
      ]
     },
     "execution_count": 157,
     "metadata": {},
     "output_type": "execute_result"
    }
   ],
   "source": [
    "df_first_access.head(2)"
   ]
  },
  {
   "cell_type": "code",
   "execution_count": 158,
   "metadata": {},
   "outputs": [
    {
     "data": {
      "text/html": [
       "<div>\n",
       "<style scoped>\n",
       "    .dataframe tbody tr th:only-of-type {\n",
       "        vertical-align: middle;\n",
       "    }\n",
       "\n",
       "    .dataframe tbody tr th {\n",
       "        vertical-align: top;\n",
       "    }\n",
       "\n",
       "    .dataframe thead th {\n",
       "        text-align: right;\n",
       "    }\n",
       "</style>\n",
       "<table border=\"1\" class=\"dataframe\">\n",
       "  <thead>\n",
       "    <tr style=\"text-align: right;\">\n",
       "      <th></th>\n",
       "      <th>usuario_id</th>\n",
       "      <th>municipio</th>\n",
       "      <th>cargo</th>\n",
       "      <th>data_criacao_cadastro</th>\n",
       "      <th>data_ativo</th>\n",
       "      <th>acessou_listas_nominais</th>\n",
       "      <th>clicks_imprimir_lista</th>\n",
       "      <th>clicks_filtrar_lista</th>\n",
       "      <th>estado</th>\n",
       "      <th>delta_time</th>\n",
       "      <th>first_access</th>\n",
       "      <th>access_boolean</th>\n",
       "      <th>delta_time_scaled</th>\n",
       "    </tr>\n",
       "  </thead>\n",
       "  <tbody>\n",
       "    <tr>\n",
       "      <th>13761</th>\n",
       "      <td>0077e9df-39d3-41bc-aa57-3953e894bcf9</td>\n",
       "      <td>Três Marias - MG</td>\n",
       "      <td>Coordenação de Equipe</td>\n",
       "      <td>2024-04-04</td>\n",
       "      <td>2024-04-05</td>\n",
       "      <td>True</td>\n",
       "      <td>0</td>\n",
       "      <td>1</td>\n",
       "      <td>MG</td>\n",
       "      <td>1</td>\n",
       "      <td>1</td>\n",
       "      <td>1</td>\n",
       "      <td>-0.407040</td>\n",
       "    </tr>\n",
       "    <tr>\n",
       "      <th>14984</th>\n",
       "      <td>009a2ef8-ee98-4c4d-b53a-6407abc03715</td>\n",
       "      <td>Salvaterra - PA</td>\n",
       "      <td>Coordenação APS</td>\n",
       "      <td>2023-08-17</td>\n",
       "      <td>2023-08-17</td>\n",
       "      <td>False</td>\n",
       "      <td>0</td>\n",
       "      <td>0</td>\n",
       "      <td>PA</td>\n",
       "      <td>0</td>\n",
       "      <td>1</td>\n",
       "      <td>0</td>\n",
       "      <td>-0.423759</td>\n",
       "    </tr>\n",
       "    <tr>\n",
       "      <th>16012</th>\n",
       "      <td>0103a1d1-96c8-4d98-b263-0549294aff13</td>\n",
       "      <td>Juquitiba - SP</td>\n",
       "      <td>Coordenação de Equipe</td>\n",
       "      <td>2022-11-08</td>\n",
       "      <td>2022-11-09</td>\n",
       "      <td>True</td>\n",
       "      <td>0</td>\n",
       "      <td>0</td>\n",
       "      <td>SP</td>\n",
       "      <td>1</td>\n",
       "      <td>1</td>\n",
       "      <td>1</td>\n",
       "      <td>-0.407040</td>\n",
       "    </tr>\n",
       "    <tr>\n",
       "      <th>4533</th>\n",
       "      <td>013e6d7a-4b86-47a3-972e-4c046dc4903b</td>\n",
       "      <td>Palmeira das Missões - RS</td>\n",
       "      <td>Coordenação de Equipe</td>\n",
       "      <td>2023-10-24</td>\n",
       "      <td>2023-11-13</td>\n",
       "      <td>True</td>\n",
       "      <td>0</td>\n",
       "      <td>0</td>\n",
       "      <td>RS</td>\n",
       "      <td>20</td>\n",
       "      <td>1</td>\n",
       "      <td>1</td>\n",
       "      <td>-0.089381</td>\n",
       "    </tr>\n",
       "    <tr>\n",
       "      <th>2739</th>\n",
       "      <td>021f43b9-c167-44b3-bc42-5420212df999</td>\n",
       "      <td>Paes Landim - PI</td>\n",
       "      <td>Coordenação APS</td>\n",
       "      <td>2023-05-09</td>\n",
       "      <td>2023-05-12</td>\n",
       "      <td>True</td>\n",
       "      <td>0</td>\n",
       "      <td>0</td>\n",
       "      <td>PI</td>\n",
       "      <td>3</td>\n",
       "      <td>1</td>\n",
       "      <td>1</td>\n",
       "      <td>-0.373603</td>\n",
       "    </tr>\n",
       "    <tr>\n",
       "      <th>...</th>\n",
       "      <td>...</td>\n",
       "      <td>...</td>\n",
       "      <td>...</td>\n",
       "      <td>...</td>\n",
       "      <td>...</td>\n",
       "      <td>...</td>\n",
       "      <td>...</td>\n",
       "      <td>...</td>\n",
       "      <td>...</td>\n",
       "      <td>...</td>\n",
       "      <td>...</td>\n",
       "      <td>...</td>\n",
       "      <td>...</td>\n",
       "    </tr>\n",
       "    <tr>\n",
       "      <th>15568</th>\n",
       "      <td>feb83ec6-80af-4e84-a3dd-78a6e94964ef</td>\n",
       "      <td>Jacobina - BA</td>\n",
       "      <td>Coordenação de Equipe</td>\n",
       "      <td>2023-04-04</td>\n",
       "      <td>2023-04-12</td>\n",
       "      <td>True</td>\n",
       "      <td>0</td>\n",
       "      <td>0</td>\n",
       "      <td>BA</td>\n",
       "      <td>8</td>\n",
       "      <td>1</td>\n",
       "      <td>1</td>\n",
       "      <td>-0.290008</td>\n",
       "    </tr>\n",
       "    <tr>\n",
       "      <th>17820</th>\n",
       "      <td>fed22165-9980-4358-a2cf-11c427109931</td>\n",
       "      <td>Tarrafas - CE</td>\n",
       "      <td>Coordenação de Equipe</td>\n",
       "      <td>2023-04-04</td>\n",
       "      <td>2023-04-04</td>\n",
       "      <td>True</td>\n",
       "      <td>0</td>\n",
       "      <td>0</td>\n",
       "      <td>CE</td>\n",
       "      <td>0</td>\n",
       "      <td>1</td>\n",
       "      <td>1</td>\n",
       "      <td>-0.423759</td>\n",
       "    </tr>\n",
       "    <tr>\n",
       "      <th>11211</th>\n",
       "      <td>fef05bde-262a-4edf-bc6a-dc0ff74ac59e</td>\n",
       "      <td>Minas Novas - MG</td>\n",
       "      <td>Coordenação de Equipe</td>\n",
       "      <td>2024-03-18</td>\n",
       "      <td>2024-03-22</td>\n",
       "      <td>True</td>\n",
       "      <td>0</td>\n",
       "      <td>0</td>\n",
       "      <td>MG</td>\n",
       "      <td>4</td>\n",
       "      <td>1</td>\n",
       "      <td>1</td>\n",
       "      <td>-0.356884</td>\n",
       "    </tr>\n",
       "    <tr>\n",
       "      <th>5837</th>\n",
       "      <td>ff217f06-a074-411d-b969-8d8693ca3c82</td>\n",
       "      <td>Brasiléia - AC</td>\n",
       "      <td>Coordenação APS</td>\n",
       "      <td>2023-11-28</td>\n",
       "      <td>2023-11-30</td>\n",
       "      <td>True</td>\n",
       "      <td>0</td>\n",
       "      <td>0</td>\n",
       "      <td>AC</td>\n",
       "      <td>2</td>\n",
       "      <td>1</td>\n",
       "      <td>1</td>\n",
       "      <td>-0.390321</td>\n",
       "    </tr>\n",
       "    <tr>\n",
       "      <th>17543</th>\n",
       "      <td>ff2f77a1-d766-4ccb-bad2-6546d61ed4e8</td>\n",
       "      <td>São Roque - SP</td>\n",
       "      <td>Coordenação de Equipe</td>\n",
       "      <td>2023-03-06</td>\n",
       "      <td>2023-03-07</td>\n",
       "      <td>False</td>\n",
       "      <td>0</td>\n",
       "      <td>0</td>\n",
       "      <td>SP</td>\n",
       "      <td>1</td>\n",
       "      <td>1</td>\n",
       "      <td>0</td>\n",
       "      <td>-0.407040</td>\n",
       "    </tr>\n",
       "  </tbody>\n",
       "</table>\n",
       "<p>575 rows × 13 columns</p>\n",
       "</div>"
      ],
      "text/plain": [
       "                                 usuario_id                  municipio  \\\n",
       "13761  0077e9df-39d3-41bc-aa57-3953e894bcf9           Três Marias - MG   \n",
       "14984  009a2ef8-ee98-4c4d-b53a-6407abc03715            Salvaterra - PA   \n",
       "16012  0103a1d1-96c8-4d98-b263-0549294aff13             Juquitiba - SP   \n",
       "4533   013e6d7a-4b86-47a3-972e-4c046dc4903b  Palmeira das Missões - RS   \n",
       "2739   021f43b9-c167-44b3-bc42-5420212df999           Paes Landim - PI   \n",
       "...                                     ...                        ...   \n",
       "15568  feb83ec6-80af-4e84-a3dd-78a6e94964ef              Jacobina - BA   \n",
       "17820  fed22165-9980-4358-a2cf-11c427109931              Tarrafas - CE   \n",
       "11211  fef05bde-262a-4edf-bc6a-dc0ff74ac59e           Minas Novas - MG   \n",
       "5837   ff217f06-a074-411d-b969-8d8693ca3c82             Brasiléia - AC   \n",
       "17543  ff2f77a1-d766-4ccb-bad2-6546d61ed4e8             São Roque - SP   \n",
       "\n",
       "                       cargo data_criacao_cadastro data_ativo  \\\n",
       "13761  Coordenação de Equipe            2024-04-04 2024-04-05   \n",
       "14984        Coordenação APS            2023-08-17 2023-08-17   \n",
       "16012  Coordenação de Equipe            2022-11-08 2022-11-09   \n",
       "4533   Coordenação de Equipe            2023-10-24 2023-11-13   \n",
       "2739         Coordenação APS            2023-05-09 2023-05-12   \n",
       "...                      ...                   ...        ...   \n",
       "15568  Coordenação de Equipe            2023-04-04 2023-04-12   \n",
       "17820  Coordenação de Equipe            2023-04-04 2023-04-04   \n",
       "11211  Coordenação de Equipe            2024-03-18 2024-03-22   \n",
       "5837         Coordenação APS            2023-11-28 2023-11-30   \n",
       "17543  Coordenação de Equipe            2023-03-06 2023-03-07   \n",
       "\n",
       "       acessou_listas_nominais  clicks_imprimir_lista  clicks_filtrar_lista  \\\n",
       "13761                     True                      0                     1   \n",
       "14984                    False                      0                     0   \n",
       "16012                     True                      0                     0   \n",
       "4533                      True                      0                     0   \n",
       "2739                      True                      0                     0   \n",
       "...                        ...                    ...                   ...   \n",
       "15568                     True                      0                     0   \n",
       "17820                     True                      0                     0   \n",
       "11211                     True                      0                     0   \n",
       "5837                      True                      0                     0   \n",
       "17543                    False                      0                     0   \n",
       "\n",
       "      estado  delta_time  first_access  access_boolean  delta_time_scaled  \n",
       "13761     MG           1             1               1          -0.407040  \n",
       "14984     PA           0             1               0          -0.423759  \n",
       "16012     SP           1             1               1          -0.407040  \n",
       "4533      RS          20             1               1          -0.089381  \n",
       "2739      PI           3             1               1          -0.373603  \n",
       "...      ...         ...           ...             ...                ...  \n",
       "15568     BA           8             1               1          -0.290008  \n",
       "17820     CE           0             1               1          -0.423759  \n",
       "11211     MG           4             1               1          -0.356884  \n",
       "5837      AC           2             1               1          -0.390321  \n",
       "17543     SP           1             1               0          -0.407040  \n",
       "\n",
       "[575 rows x 13 columns]"
      ]
     },
     "execution_count": 158,
     "metadata": {},
     "output_type": "execute_result"
    }
   ],
   "source": [
    "df_first_access"
   ]
  },
  {
   "cell_type": "code",
   "execution_count": 159,
   "metadata": {},
   "outputs": [
    {
     "data": {
      "text/plain": [
       "np.float64(7.0)"
      ]
     },
     "execution_count": 159,
     "metadata": {},
     "output_type": "execute_result"
    }
   ],
   "source": [
    "access_eq = df_first_access[df_first_access[\"cargo\"] == \"Coordenação de Equipe\"][\"delta_time\"]\n",
    "access_eq.median()"
   ]
  },
  {
   "cell_type": "code",
   "execution_count": 99,
   "metadata": {},
   "outputs": [
    {
     "data": {
      "text/plain": [
       "0    1\n",
       "Name: delta_time, dtype: int64"
      ]
     },
     "execution_count": 99,
     "metadata": {},
     "output_type": "execute_result"
    }
   ],
   "source": [
    "access_eq.mode()"
   ]
  },
  {
   "cell_type": "markdown",
   "metadata": {},
   "source": [
    "### Region Analysis"
   ]
  },
  {
   "cell_type": "code",
   "execution_count": 161,
   "metadata": {},
   "outputs": [
    {
     "data": {
      "text/html": [
       "<div>\n",
       "<style scoped>\n",
       "    .dataframe tbody tr th:only-of-type {\n",
       "        vertical-align: middle;\n",
       "    }\n",
       "\n",
       "    .dataframe tbody tr th {\n",
       "        vertical-align: top;\n",
       "    }\n",
       "\n",
       "    .dataframe thead th {\n",
       "        text-align: right;\n",
       "    }\n",
       "</style>\n",
       "<table border=\"1\" class=\"dataframe\">\n",
       "  <thead>\n",
       "    <tr style=\"text-align: right;\">\n",
       "      <th></th>\n",
       "      <th>usuario_id</th>\n",
       "      <th>municipio</th>\n",
       "      <th>cargo</th>\n",
       "      <th>data_criacao_cadastro</th>\n",
       "      <th>data_ativo</th>\n",
       "      <th>acessou_listas_nominais</th>\n",
       "      <th>clicks_imprimir_lista</th>\n",
       "      <th>clicks_filtrar_lista</th>\n",
       "      <th>estado</th>\n",
       "      <th>delta_time</th>\n",
       "      <th>total_click</th>\n",
       "    </tr>\n",
       "  </thead>\n",
       "  <tbody>\n",
       "    <tr>\n",
       "      <th>0</th>\n",
       "      <td>a034d9fc-d54a-4a89-bdef-2e596af3a856</td>\n",
       "      <td>São Roque - SP</td>\n",
       "      <td>Coordenação de Equipe</td>\n",
       "      <td>2023-03-23</td>\n",
       "      <td>2023-08-11</td>\n",
       "      <td>True</td>\n",
       "      <td>0</td>\n",
       "      <td>0</td>\n",
       "      <td>SP</td>\n",
       "      <td>141</td>\n",
       "      <td>0</td>\n",
       "    </tr>\n",
       "    <tr>\n",
       "      <th>1</th>\n",
       "      <td>a034d9fc-d54a-4a89-bdef-2e596af3a856</td>\n",
       "      <td>São Roque - SP</td>\n",
       "      <td>Coordenação de Equipe</td>\n",
       "      <td>2023-03-23</td>\n",
       "      <td>2024-02-14</td>\n",
       "      <td>True</td>\n",
       "      <td>0</td>\n",
       "      <td>2</td>\n",
       "      <td>SP</td>\n",
       "      <td>328</td>\n",
       "      <td>2</td>\n",
       "    </tr>\n",
       "  </tbody>\n",
       "</table>\n",
       "</div>"
      ],
      "text/plain": [
       "                             usuario_id       municipio  \\\n",
       "0  a034d9fc-d54a-4a89-bdef-2e596af3a856  São Roque - SP   \n",
       "1  a034d9fc-d54a-4a89-bdef-2e596af3a856  São Roque - SP   \n",
       "\n",
       "                   cargo data_criacao_cadastro data_ativo  \\\n",
       "0  Coordenação de Equipe            2023-03-23 2023-08-11   \n",
       "1  Coordenação de Equipe            2023-03-23 2024-02-14   \n",
       "\n",
       "   acessou_listas_nominais  clicks_imprimir_lista  clicks_filtrar_lista  \\\n",
       "0                     True                      0                     0   \n",
       "1                     True                      0                     2   \n",
       "\n",
       "  estado  delta_time  total_click  \n",
       "0     SP         141            0  \n",
       "1     SP         328            2  "
      ]
     },
     "execution_count": 161,
     "metadata": {},
     "output_type": "execute_result"
    }
   ],
   "source": [
    "cliques_eq.head(2)"
   ]
  },
  {
   "cell_type": "code",
   "execution_count": 162,
   "metadata": {},
   "outputs": [
    {
     "name": "stderr",
     "output_type": "stream",
     "text": [
      "/tmp/ipykernel_2989/2701436224.py:1: SettingWithCopyWarning: \n",
      "A value is trying to be set on a copy of a slice from a DataFrame.\n",
      "Try using .loc[row_indexer,col_indexer] = value instead\n",
      "\n",
      "See the caveats in the documentation: https://pandas.pydata.org/pandas-docs/stable/user_guide/indexing.html#returning-a-view-versus-a-copy\n",
      "  cliques_eq[\"total_click\"] = cliques_eq[\"clicks_imprimir_lista\"] + cliques_eq[\"clicks_filtrar_lista\"]\n"
     ]
    },
    {
     "data": {
      "text/html": [
       "<div>\n",
       "<style scoped>\n",
       "    .dataframe tbody tr th:only-of-type {\n",
       "        vertical-align: middle;\n",
       "    }\n",
       "\n",
       "    .dataframe tbody tr th {\n",
       "        vertical-align: top;\n",
       "    }\n",
       "\n",
       "    .dataframe thead th {\n",
       "        text-align: right;\n",
       "    }\n",
       "</style>\n",
       "<table border=\"1\" class=\"dataframe\">\n",
       "  <thead>\n",
       "    <tr style=\"text-align: right;\">\n",
       "      <th></th>\n",
       "      <th>usuario_id</th>\n",
       "      <th>municipio</th>\n",
       "      <th>cargo</th>\n",
       "      <th>data_criacao_cadastro</th>\n",
       "      <th>data_ativo</th>\n",
       "      <th>acessou_listas_nominais</th>\n",
       "      <th>clicks_imprimir_lista</th>\n",
       "      <th>clicks_filtrar_lista</th>\n",
       "      <th>estado</th>\n",
       "      <th>delta_time</th>\n",
       "      <th>total_click</th>\n",
       "    </tr>\n",
       "  </thead>\n",
       "  <tbody>\n",
       "    <tr>\n",
       "      <th>0</th>\n",
       "      <td>a034d9fc-d54a-4a89-bdef-2e596af3a856</td>\n",
       "      <td>São Roque - SP</td>\n",
       "      <td>Coordenação de Equipe</td>\n",
       "      <td>2023-03-23</td>\n",
       "      <td>2023-08-11</td>\n",
       "      <td>True</td>\n",
       "      <td>0</td>\n",
       "      <td>0</td>\n",
       "      <td>SP</td>\n",
       "      <td>141</td>\n",
       "      <td>0</td>\n",
       "    </tr>\n",
       "    <tr>\n",
       "      <th>1</th>\n",
       "      <td>a034d9fc-d54a-4a89-bdef-2e596af3a856</td>\n",
       "      <td>São Roque - SP</td>\n",
       "      <td>Coordenação de Equipe</td>\n",
       "      <td>2023-03-23</td>\n",
       "      <td>2024-02-14</td>\n",
       "      <td>True</td>\n",
       "      <td>0</td>\n",
       "      <td>2</td>\n",
       "      <td>SP</td>\n",
       "      <td>328</td>\n",
       "      <td>2</td>\n",
       "    </tr>\n",
       "  </tbody>\n",
       "</table>\n",
       "</div>"
      ],
      "text/plain": [
       "                             usuario_id       municipio  \\\n",
       "0  a034d9fc-d54a-4a89-bdef-2e596af3a856  São Roque - SP   \n",
       "1  a034d9fc-d54a-4a89-bdef-2e596af3a856  São Roque - SP   \n",
       "\n",
       "                   cargo data_criacao_cadastro data_ativo  \\\n",
       "0  Coordenação de Equipe            2023-03-23 2023-08-11   \n",
       "1  Coordenação de Equipe            2023-03-23 2024-02-14   \n",
       "\n",
       "   acessou_listas_nominais  clicks_imprimir_lista  clicks_filtrar_lista  \\\n",
       "0                     True                      0                     0   \n",
       "1                     True                      0                     2   \n",
       "\n",
       "  estado  delta_time  total_click  \n",
       "0     SP         141            0  \n",
       "1     SP         328            2  "
      ]
     },
     "execution_count": 162,
     "metadata": {},
     "output_type": "execute_result"
    }
   ],
   "source": [
    "cliques_eq[\"total_click\"] = cliques_eq[\"clicks_imprimir_lista\"] + cliques_eq[\"clicks_filtrar_lista\"]\n",
    "cliques_eq.head(2)"
   ]
  },
  {
   "cell_type": "code",
   "execution_count": 163,
   "metadata": {},
   "outputs": [
    {
     "data": {
      "text/plain": [
       "estado\n",
       "MG    4135\n",
       "MA    2933\n",
       "BA    1457\n",
       "RS    1111\n",
       "PI    1027\n",
       "SP    1024\n",
       "CE     855\n",
       "PE     836\n",
       "RN     565\n",
       "PA     509\n",
       "AC     399\n",
       "GO     398\n",
       "RR     379\n",
       "AP     314\n",
       "SC     158\n",
       "PB     150\n",
       "PR      26\n",
       "Name: total_click, dtype: int64"
      ]
     },
     "execution_count": 163,
     "metadata": {},
     "output_type": "execute_result"
    }
   ],
   "source": [
    "#a = cliques_eq[\"total_click\"].groupby(\"estado\")[\"total_click\"].count()\n",
    "a = cliques_eq.groupby(\"estado\")[\"total_click\"].sum().sort_values(ascending=False)\n",
    "a"
   ]
  },
  {
   "cell_type": "code",
   "execution_count": 164,
   "metadata": {},
   "outputs": [
    {
     "data": {
      "image/png": "[encoded data removed]",
      "text/plain": [
       "<Figure size 1000x600 with 1 Axes>"
      ]
     },
     "metadata": {},
     "output_type": "display_data"
    }
   ],
   "source": [
    "plt.figure(figsize=(10, 6))\n",
    "a.plot(kind=\"bar\", color=\"skyblue\", edgecolor=\"black\")\n",
    "plt.title(\"Total de Cliques por Estado\", fontsize=14)\n",
    "plt.xlabel(\"Estado\", fontsize=12)\n",
    "plt.ylabel(\"Total de Cliques\", fontsize=12)\n",
    "plt.xticks(rotation=45)\n",
    "plt.grid(axis=\"y\", linestyle=\"--\", alpha=0.7)\n",
    "plt.show()"
   ]
  },
  {
   "cell_type": "markdown",
   "metadata": {},
   "source": [
    "### Analysis \"Coordenação APS\" Role"
   ]
  },
  {
   "cell_type": "markdown",
   "metadata": {},
   "source": [
    "### Who used the List and who didn't"
   ]
  },
  {
   "cell_type": "code",
   "execution_count": 165,
   "metadata": {},
   "outputs": [
    {
     "data": {
      "text/plain": [
       "99"
      ]
     },
     "execution_count": 165,
     "metadata": {},
     "output_type": "execute_result"
    }
   ],
   "source": [
    "list_aps_nom_true = df[(df[\"cargo\"] == \"Coordenação APS\") & (df[\"acessou_listas_nominais\"] == True)][\"usuario_id\"].nunique()\n",
    "list_aps_nom_true"
   ]
  },
  {
   "cell_type": "code",
   "execution_count": 166,
   "metadata": {},
   "outputs": [
    {
     "data": {
      "text/plain": [
       "77"
      ]
     },
     "execution_count": 166,
     "metadata": {},
     "output_type": "execute_result"
    }
   ],
   "source": [
    "list_aps_nom_false = df[(df[\"cargo\"] == \"Coordenação APS\") & (df[\"acessou_listas_nominais\"] == False)][\"usuario_id\"].nunique()\n",
    "list_aps_nom_false"
   ]
  },
  {
   "cell_type": "markdown",
   "metadata": {},
   "source": [
    "### From who used the lists: Clicks?"
   ]
  },
  {
   "cell_type": "code",
   "execution_count": 167,
   "metadata": {},
   "outputs": [
    {
     "data": {
      "text/html": [
       "<div>\n",
       "<style scoped>\n",
       "    .dataframe tbody tr th:only-of-type {\n",
       "        vertical-align: middle;\n",
       "    }\n",
       "\n",
       "    .dataframe tbody tr th {\n",
       "        vertical-align: top;\n",
       "    }\n",
       "\n",
       "    .dataframe thead th {\n",
       "        text-align: right;\n",
       "    }\n",
       "</style>\n",
       "<table border=\"1\" class=\"dataframe\">\n",
       "  <thead>\n",
       "    <tr style=\"text-align: right;\">\n",
       "      <th></th>\n",
       "      <th>usuario_id</th>\n",
       "      <th>municipio</th>\n",
       "      <th>cargo</th>\n",
       "      <th>data_criacao_cadastro</th>\n",
       "      <th>data_ativo</th>\n",
       "      <th>acessou_listas_nominais</th>\n",
       "      <th>clicks_imprimir_lista</th>\n",
       "      <th>clicks_filtrar_lista</th>\n",
       "      <th>estado</th>\n",
       "      <th>delta_time</th>\n",
       "      <th>total_click</th>\n",
       "    </tr>\n",
       "  </thead>\n",
       "  <tbody>\n",
       "    <tr>\n",
       "      <th>51</th>\n",
       "      <td>877b90f4-d597-4348-a2e7-e29c4f3b3f4e</td>\n",
       "      <td>Marechal Thaumaturgo - AC</td>\n",
       "      <td>Coordenação APS</td>\n",
       "      <td>2023-10-24</td>\n",
       "      <td>2024-01-15</td>\n",
       "      <td>True</td>\n",
       "      <td>0</td>\n",
       "      <td>0</td>\n",
       "      <td>AC</td>\n",
       "      <td>83</td>\n",
       "      <td>0</td>\n",
       "    </tr>\n",
       "    <tr>\n",
       "      <th>53</th>\n",
       "      <td>877b90f4-d597-4348-a2e7-e29c4f3b3f4e</td>\n",
       "      <td>Marechal Thaumaturgo - AC</td>\n",
       "      <td>Coordenação APS</td>\n",
       "      <td>2023-10-24</td>\n",
       "      <td>2024-04-24</td>\n",
       "      <td>True</td>\n",
       "      <td>0</td>\n",
       "      <td>0</td>\n",
       "      <td>AC</td>\n",
       "      <td>183</td>\n",
       "      <td>0</td>\n",
       "    </tr>\n",
       "  </tbody>\n",
       "</table>\n",
       "</div>"
      ],
      "text/plain": [
       "                              usuario_id                  municipio  \\\n",
       "51  877b90f4-d597-4348-a2e7-e29c4f3b3f4e  Marechal Thaumaturgo - AC   \n",
       "53  877b90f4-d597-4348-a2e7-e29c4f3b3f4e  Marechal Thaumaturgo - AC   \n",
       "\n",
       "              cargo data_criacao_cadastro data_ativo  acessou_listas_nominais  \\\n",
       "51  Coordenação APS            2023-10-24 2024-01-15                     True   \n",
       "53  Coordenação APS            2023-10-24 2024-04-24                     True   \n",
       "\n",
       "    clicks_imprimir_lista  clicks_filtrar_lista estado  delta_time  \\\n",
       "51                      0                     0     AC          83   \n",
       "53                      0                     0     AC         183   \n",
       "\n",
       "    total_click  \n",
       "51            0  \n",
       "53            0  "
      ]
     },
     "execution_count": 167,
     "metadata": {},
     "output_type": "execute_result"
    }
   ],
   "source": [
    "cliques_aps = df[(df[\"cargo\"] == \"Coordenação APS\") & (df[\"acessou_listas_nominais\"] == True)]\n",
    "cliques_aps.head(2)"
   ]
  },
  {
   "cell_type": "code",
   "execution_count": 177,
   "metadata": {},
   "outputs": [
    {
     "data": {
      "text/plain": [
       "np.int64(2760)"
      ]
     },
     "execution_count": 177,
     "metadata": {},
     "output_type": "execute_result"
    }
   ],
   "source": [
    "aps_impri_click = cliques_aps[\"clicks_imprimir_lista\"].sum()\n",
    "aps_impri_click"
   ]
  },
  {
   "cell_type": "code",
   "execution_count": 178,
   "metadata": {},
   "outputs": [
    {
     "data": {
      "text/plain": [
       "np.int64(6585)"
      ]
     },
     "execution_count": 178,
     "metadata": {},
     "output_type": "execute_result"
    }
   ],
   "source": [
    "aps_fil_click = cliques_aps[\"clicks_filtrar_lista\"].sum()\n",
    "aps_fil_click"
   ]
  },
  {
   "cell_type": "code",
   "execution_count": 179,
   "metadata": {},
   "outputs": [
    {
     "data": {
      "text/plain": [
       "np.int64(9345)"
      ]
     },
     "execution_count": 179,
     "metadata": {},
     "output_type": "execute_result"
    }
   ],
   "source": [
    "aps_total_click = cliques_aps[\"clicks_imprimir_lista\"].sum() + cliques_aps[\"clicks_filtrar_lista\"].sum()\n",
    "aps_total_click"
   ]
  },
  {
   "cell_type": "code",
   "execution_count": 176,
   "metadata": {},
   "outputs": [
    {
     "name": "stdout",
     "output_type": "stream",
     "text": [
      "Imprimir 29 %\n",
      "Filtro 70 %\n"
     ]
    }
   ],
   "source": [
    "print(f'Imprimir {int(aps_impri_click/aps_total_click * 100)} %')\n",
    "print(f'Filtro {int(aps_fil_click/aps_total_click * 100)} %')"
   ]
  },
  {
   "cell_type": "markdown",
   "metadata": {},
   "source": [
    "### Click / UU"
   ]
  },
  {
   "cell_type": "code",
   "execution_count": 180,
   "metadata": {},
   "outputs": [
    {
     "data": {
      "text/plain": [
       "np.float64(94.39393939393939)"
      ]
     },
     "execution_count": 180,
     "metadata": {},
     "output_type": "execute_result"
    }
   ],
   "source": [
    "click_uu_aps = aps_total_click / list_aps_nom_true\n",
    "click_uu_aps"
   ]
  },
  {
   "cell_type": "markdown",
   "metadata": {},
   "source": [
    "### First Access"
   ]
  },
  {
   "cell_type": "code",
   "execution_count": 115,
   "metadata": {},
   "outputs": [
    {
     "data": {
      "text/plain": [
       "np.float64(3.0)"
      ]
     },
     "execution_count": 115,
     "metadata": {},
     "output_type": "execute_result"
    }
   ],
   "source": [
    "access_aps = df_first_access[df_first_access[\"cargo\"] == \"Coordenação APS\"][\"delta_time\"]\n",
    "access_aps.median()"
   ]
  },
  {
   "cell_type": "code",
   "execution_count": 116,
   "metadata": {},
   "outputs": [
    {
     "data": {
      "text/plain": [
       "0    0\n",
       "Name: delta_time, dtype: int64"
      ]
     },
     "execution_count": 116,
     "metadata": {},
     "output_type": "execute_result"
    }
   ],
   "source": [
    "access_aps.mode()"
   ]
  },
  {
   "cell_type": "markdown",
   "metadata": {},
   "source": [
    "### Region Analisys "
   ]
  },
  {
   "cell_type": "code",
   "execution_count": 118,
   "metadata": {},
   "outputs": [
    {
     "name": "stderr",
     "output_type": "stream",
     "text": [
      "/tmp/ipykernel_2989/2026353692.py:1: SettingWithCopyWarning: \n",
      "A value is trying to be set on a copy of a slice from a DataFrame.\n",
      "Try using .loc[row_indexer,col_indexer] = value instead\n",
      "\n",
      "See the caveats in the documentation: https://pandas.pydata.org/pandas-docs/stable/user_guide/indexing.html#returning-a-view-versus-a-copy\n",
      "  cliques_aps[\"total_click\"] = cliques_aps[\"clicks_imprimir_lista\"] + cliques_aps[\"clicks_filtrar_lista\"]\n"
     ]
    },
    {
     "data": {
      "text/html": [
       "<div>\n",
       "<style scoped>\n",
       "    .dataframe tbody tr th:only-of-type {\n",
       "        vertical-align: middle;\n",
       "    }\n",
       "\n",
       "    .dataframe tbody tr th {\n",
       "        vertical-align: top;\n",
       "    }\n",
       "\n",
       "    .dataframe thead th {\n",
       "        text-align: right;\n",
       "    }\n",
       "</style>\n",
       "<table border=\"1\" class=\"dataframe\">\n",
       "  <thead>\n",
       "    <tr style=\"text-align: right;\">\n",
       "      <th></th>\n",
       "      <th>usuario_id</th>\n",
       "      <th>municipio</th>\n",
       "      <th>cargo</th>\n",
       "      <th>data_criacao_cadastro</th>\n",
       "      <th>data_ativo</th>\n",
       "      <th>acessou_listas_nominais</th>\n",
       "      <th>clicks_imprimir_lista</th>\n",
       "      <th>clicks_filtrar_lista</th>\n",
       "      <th>estado</th>\n",
       "      <th>delta_time</th>\n",
       "      <th>total_click</th>\n",
       "    </tr>\n",
       "  </thead>\n",
       "  <tbody>\n",
       "    <tr>\n",
       "      <th>51</th>\n",
       "      <td>877b90f4-d597-4348-a2e7-e29c4f3b3f4e</td>\n",
       "      <td>Marechal Thaumaturgo - AC</td>\n",
       "      <td>Coordenação APS</td>\n",
       "      <td>2023-10-24</td>\n",
       "      <td>2024-01-15</td>\n",
       "      <td>True</td>\n",
       "      <td>0</td>\n",
       "      <td>0</td>\n",
       "      <td>AC</td>\n",
       "      <td>83</td>\n",
       "      <td>0</td>\n",
       "    </tr>\n",
       "    <tr>\n",
       "      <th>53</th>\n",
       "      <td>877b90f4-d597-4348-a2e7-e29c4f3b3f4e</td>\n",
       "      <td>Marechal Thaumaturgo - AC</td>\n",
       "      <td>Coordenação APS</td>\n",
       "      <td>2023-10-24</td>\n",
       "      <td>2024-04-24</td>\n",
       "      <td>True</td>\n",
       "      <td>0</td>\n",
       "      <td>0</td>\n",
       "      <td>AC</td>\n",
       "      <td>183</td>\n",
       "      <td>0</td>\n",
       "    </tr>\n",
       "  </tbody>\n",
       "</table>\n",
       "</div>"
      ],
      "text/plain": [
       "                              usuario_id                  municipio  \\\n",
       "51  877b90f4-d597-4348-a2e7-e29c4f3b3f4e  Marechal Thaumaturgo - AC   \n",
       "53  877b90f4-d597-4348-a2e7-e29c4f3b3f4e  Marechal Thaumaturgo - AC   \n",
       "\n",
       "              cargo data_criacao_cadastro data_ativo  acessou_listas_nominais  \\\n",
       "51  Coordenação APS            2023-10-24 2024-01-15                     True   \n",
       "53  Coordenação APS            2023-10-24 2024-04-24                     True   \n",
       "\n",
       "    clicks_imprimir_lista  clicks_filtrar_lista estado  delta_time  \\\n",
       "51                      0                     0     AC          83   \n",
       "53                      0                     0     AC         183   \n",
       "\n",
       "    total_click  \n",
       "51            0  \n",
       "53            0  "
      ]
     },
     "execution_count": 118,
     "metadata": {},
     "output_type": "execute_result"
    }
   ],
   "source": [
    "cliques_aps[\"total_click\"] = cliques_aps[\"clicks_imprimir_lista\"] + cliques_aps[\"clicks_filtrar_lista\"]\n",
    "cliques_aps.head(2)"
   ]
  },
  {
   "cell_type": "code",
   "execution_count": 119,
   "metadata": {},
   "outputs": [
    {
     "data": {
      "text/plain": [
       "estado\n",
       "MA    2205\n",
       "BA    1575\n",
       "SP    1358\n",
       "PA    1271\n",
       "PB     532\n",
       "MG     483\n",
       "PE     479\n",
       "AC     347\n",
       "RR     285\n",
       "PI     211\n",
       "CE     198\n",
       "SC     146\n",
       "RN     105\n",
       "GO      75\n",
       "RS      45\n",
       "AP      28\n",
       "PR       2\n",
       "Name: total_click, dtype: int64"
      ]
     },
     "execution_count": 119,
     "metadata": {},
     "output_type": "execute_result"
    }
   ],
   "source": [
    "b = cliques_aps.groupby(\"estado\")[\"total_click\"].sum().sort_values(ascending=False)\n",
    "b"
   ]
  },
  {
   "cell_type": "code",
   "execution_count": 120,
   "metadata": {},
   "outputs": [
    {
     "data": {
      "image/png": "[encoded data removed]",
      "text/plain": [
       "<Figure size 1000x600 with 1 Axes>"
      ]
     },
     "metadata": {},
     "output_type": "display_data"
    }
   ],
   "source": [
    "plt.figure(figsize=(10, 6))\n",
    "b.plot(kind=\"bar\", color=\"lightgreen\", edgecolor=\"black\")\n",
    "plt.title(\"Total de Cliques por Estado\", fontsize=14)\n",
    "plt.xlabel(\"Estado\", fontsize=12)\n",
    "plt.ylabel(\"Total de Cliques\", fontsize=12)\n",
    "plt.xticks(rotation=45)\n",
    "plt.grid(axis=\"y\", linestyle=\"--\", alpha=0.7)\n",
    "plt.show()"
   ]
  },
  {
   "cell_type": "markdown",
   "metadata": {},
   "source": [
    "### 4.3. Behavioral patterns in the usage of the nominal lists;\n",
    "#### 4.3.1 Quantos cliques (seja imprimir ou ) o cara que fez cadastro ha 24 fez ao longo de todas as jornadas?\n",
    "#### 4.3.2 Baixo custo e alto impacto: quem está acessando as listas nominais e está fazendo 0 clique?\n",
    "####  Correlação de Cliques por tempo de criação de perfil\n",
    "\n",
    "#### Correlação de Cliques por tempo de criação de perfil\n",
    "#### Sugestão: xxx"
   ]
  },
  {
   "cell_type": "code",
   "execution_count": 121,
   "metadata": {},
   "outputs": [],
   "source": [
    "#Top 10 usuários unicos que estão acessando as listas nominais e fazendo"
   ]
  },
  {
   "cell_type": "code",
   "execution_count": 122,
   "metadata": {},
   "outputs": [],
   "source": [
    "#Qual a distribuição estatística dos cliques de usuários únicos que acessou as listas nominais e clicou?"
   ]
  },
  {
   "cell_type": "code",
   "execution_count": null,
   "metadata": {},
   "outputs": [
    {
     "data": {
      "text/html": [
       "<div>\n",
       "<style scoped>\n",
       "    .dataframe tbody tr th:only-of-type {\n",
       "        vertical-align: middle;\n",
       "    }\n",
       "\n",
       "    .dataframe tbody tr th {\n",
       "        vertical-align: top;\n",
       "    }\n",
       "\n",
       "    .dataframe thead th {\n",
       "        text-align: right;\n",
       "    }\n",
       "</style>\n",
       "<table border=\"1\" class=\"dataframe\">\n",
       "  <thead>\n",
       "    <tr style=\"text-align: right;\">\n",
       "      <th></th>\n",
       "      <th>usuario_id</th>\n",
       "      <th>municipio</th>\n",
       "      <th>cargo</th>\n",
       "      <th>data_criacao_cadastro</th>\n",
       "      <th>data_ativo</th>\n",
       "      <th>acessou_listas_nominais</th>\n",
       "      <th>clicks_imprimir_lista</th>\n",
       "      <th>clicks_filtrar_lista</th>\n",
       "      <th>estado</th>\n",
       "      <th>delta_time</th>\n",
       "      <th>total_click</th>\n",
       "    </tr>\n",
       "  </thead>\n",
       "  <tbody>\n",
       "    <tr>\n",
       "      <th>0</th>\n",
       "      <td>a034d9fc-d54a-4a89-bdef-2e596af3a856</td>\n",
       "      <td>São Roque - SP</td>\n",
       "      <td>Coordenação de Equipe</td>\n",
       "      <td>2023-03-23</td>\n",
       "      <td>2023-08-11</td>\n",
       "      <td>True</td>\n",
       "      <td>0</td>\n",
       "      <td>0</td>\n",
       "      <td>SP</td>\n",
       "      <td>141</td>\n",
       "      <td>0</td>\n",
       "    </tr>\n",
       "    <tr>\n",
       "      <th>1</th>\n",
       "      <td>a034d9fc-d54a-4a89-bdef-2e596af3a856</td>\n",
       "      <td>São Roque - SP</td>\n",
       "      <td>Coordenação de Equipe</td>\n",
       "      <td>2023-03-23</td>\n",
       "      <td>2024-02-14</td>\n",
       "      <td>True</td>\n",
       "      <td>0</td>\n",
       "      <td>2</td>\n",
       "      <td>SP</td>\n",
       "      <td>328</td>\n",
       "      <td>2</td>\n",
       "    </tr>\n",
       "  </tbody>\n",
       "</table>\n",
       "</div>"
      ],
      "text/plain": [
       "                             usuario_id       municipio  \\\n",
       "0  a034d9fc-d54a-4a89-bdef-2e596af3a856  São Roque - SP   \n",
       "1  a034d9fc-d54a-4a89-bdef-2e596af3a856  São Roque - SP   \n",
       "\n",
       "                   cargo data_criacao_cadastro data_ativo  \\\n",
       "0  Coordenação de Equipe            2023-03-23 2023-08-11   \n",
       "1  Coordenação de Equipe            2023-03-23 2024-02-14   \n",
       "\n",
       "   acessou_listas_nominais  clicks_imprimir_lista  clicks_filtrar_lista  \\\n",
       "0                     True                      0                     0   \n",
       "1                     True                      0                     2   \n",
       "\n",
       "  estado  delta_time  total_click  \n",
       "0     SP         141            0  \n",
       "1     SP         328            2  "
      ]
     },
     "execution_count": 123,
     "metadata": {},
     "output_type": "execute_result"
    }
   ],
   "source": [
    "#Creating a new feature (total clicks) in the original dataframe to deepdive analysis\n",
    "df[\"total_click\"] = df[\"clicks_imprimir_lista\"] + df[\"clicks_filtrar_lista\"]\n",
    "df.head(2)"
   ]
  },
  {
   "cell_type": "code",
   "execution_count": null,
   "metadata": {},
   "outputs": [
    {
     "data": {
      "text/html": [
       "<div>\n",
       "<style scoped>\n",
       "    .dataframe tbody tr th:only-of-type {\n",
       "        vertical-align: middle;\n",
       "    }\n",
       "\n",
       "    .dataframe tbody tr th {\n",
       "        vertical-align: top;\n",
       "    }\n",
       "\n",
       "    .dataframe thead th {\n",
       "        text-align: right;\n",
       "    }\n",
       "</style>\n",
       "<table border=\"1\" class=\"dataframe\">\n",
       "  <thead>\n",
       "    <tr style=\"text-align: right;\">\n",
       "      <th></th>\n",
       "      <th>usuario_id</th>\n",
       "      <th>municipio</th>\n",
       "      <th>cargo</th>\n",
       "      <th>data_criacao_cadastro</th>\n",
       "      <th>data_ativo</th>\n",
       "      <th>acessou_listas_nominais</th>\n",
       "      <th>clicks_imprimir_lista</th>\n",
       "      <th>clicks_filtrar_lista</th>\n",
       "      <th>estado</th>\n",
       "      <th>delta_time</th>\n",
       "      <th>total_click</th>\n",
       "    </tr>\n",
       "  </thead>\n",
       "  <tbody>\n",
       "    <tr>\n",
       "      <th>0</th>\n",
       "      <td>a034d9fc-d54a-4a89-bdef-2e596af3a856</td>\n",
       "      <td>São Roque - SP</td>\n",
       "      <td>Coordenação de Equipe</td>\n",
       "      <td>2023-03-23</td>\n",
       "      <td>2023-08-11</td>\n",
       "      <td>True</td>\n",
       "      <td>0</td>\n",
       "      <td>0</td>\n",
       "      <td>SP</td>\n",
       "      <td>141</td>\n",
       "      <td>0</td>\n",
       "    </tr>\n",
       "    <tr>\n",
       "      <th>1</th>\n",
       "      <td>a034d9fc-d54a-4a89-bdef-2e596af3a856</td>\n",
       "      <td>São Roque - SP</td>\n",
       "      <td>Coordenação de Equipe</td>\n",
       "      <td>2023-03-23</td>\n",
       "      <td>2024-02-14</td>\n",
       "      <td>True</td>\n",
       "      <td>0</td>\n",
       "      <td>2</td>\n",
       "      <td>SP</td>\n",
       "      <td>328</td>\n",
       "      <td>2</td>\n",
       "    </tr>\n",
       "  </tbody>\n",
       "</table>\n",
       "</div>"
      ],
      "text/plain": [
       "                             usuario_id       municipio  \\\n",
       "0  a034d9fc-d54a-4a89-bdef-2e596af3a856  São Roque - SP   \n",
       "1  a034d9fc-d54a-4a89-bdef-2e596af3a856  São Roque - SP   \n",
       "\n",
       "                   cargo data_criacao_cadastro data_ativo  \\\n",
       "0  Coordenação de Equipe            2023-03-23 2023-08-11   \n",
       "1  Coordenação de Equipe            2023-03-23 2024-02-14   \n",
       "\n",
       "   acessou_listas_nominais  clicks_imprimir_lista  clicks_filtrar_lista  \\\n",
       "0                     True                      0                     0   \n",
       "1                     True                      0                     2   \n",
       "\n",
       "  estado  delta_time  total_click  \n",
       "0     SP         141            0  \n",
       "1     SP         328            2  "
      ]
     },
     "execution_count": 124,
     "metadata": {},
     "output_type": "execute_result"
    }
   ],
   "source": [
    "#Creating a new dataframe to get only who accessed the nominal lists to understand the clicks\n",
    "click = df[df[\"acessou_listas_nominais\"] == True]\n",
    "click.head(2)"
   ]
  },
  {
   "cell_type": "code",
   "execution_count": null,
   "metadata": {},
   "outputs": [
    {
     "data": {
      "text/plain": [
       "usuario_id\n",
       "462377af-9eda-4aa2-ac24-82af7f3add53    966\n",
       "f82dccb9-8e75-48a5-9985-27cf06084c42    940\n",
       "77987238-86a0-44e7-ab45-f24f81e70eac    822\n",
       "e27189a0-15ba-4351-8f7f-d73b6636c735    688\n",
       "c56b4dbd-ee11-4b5c-928f-f2ca24d46013    542\n",
       "Name: total_click, dtype: int64"
      ]
     },
     "execution_count": 181,
     "metadata": {},
     "output_type": "execute_result"
    }
   ],
   "source": [
    "#Creating a new dataframe from the just above to get only the total click (summirized) from each usuario_id\n",
    "click_filtered = click.groupby(\"usuario_id\")[\"total_click\"].sum().sort_values(ascending=False)\n",
    "click_filtered.head(5)"
   ]
  },
  {
   "cell_type": "code",
   "execution_count": 126,
   "metadata": {},
   "outputs": [
    {
     "data": {
      "text/plain": [
       "usuario_id\n",
       "02dc65f3-341b-454c-a5be-34ffc3d39e3f    0\n",
       "feb83ec6-80af-4e84-a3dd-78a6e94964ef    0\n",
       "feafe49c-7a19-4ebe-a606-4a7f4ce0e8ed    0\n",
       "021f43b9-c167-44b3-bc42-5420212df999    0\n",
       "fed22165-9980-4358-a2cf-11c427109931    0\n",
       "Name: total_click, dtype: int64"
      ]
     },
     "execution_count": 126,
     "metadata": {},
     "output_type": "execute_result"
    }
   ],
   "source": [
    "click_filtered.tail(5)"
   ]
  },
  {
   "cell_type": "markdown",
   "metadata": {},
   "source": [
    "### Understanding the mean of clicks (of those who accessed and clicked)"
   ]
  },
  {
   "cell_type": "code",
   "execution_count": 190,
   "metadata": {},
   "outputs": [
    {
     "data": {
      "text/plain": [
       "565"
      ]
     },
     "execution_count": 190,
     "metadata": {},
     "output_type": "execute_result"
    }
   ],
   "source": [
    "len(click_filtered)"
   ]
  },
  {
   "cell_type": "code",
   "execution_count": 203,
   "metadata": {},
   "outputs": [
    {
     "data": {
      "image/png": "[encoded data removed]",
      "text/plain": [
       "<Figure size 640x480 with 1 Axes>"
      ]
     },
     "metadata": {},
     "output_type": "display_data"
    }
   ],
   "source": [
    "plt.hist(x=click_filtered)\n",
    "plt.title(\"Unique User Count by Total Clicks\")\n",
    "plt.xlabel(\"Total Clicks\")\n",
    "plt.ylabel(\"Unique User Count with access to nominal list\");"
   ]
  },
  {
   "cell_type": "code",
   "execution_count": 233,
   "metadata": {},
   "outputs": [
    {
     "data": {
      "image/png": "[encoded data removed]",
      "text/plain": [
       "<Figure size 800x400 with 1 Axes>"
      ]
     },
     "metadata": {},
     "output_type": "display_data"
    }
   ],
   "source": [
    "plt.figure(figsize=(8, 4))\n",
    "plt.hist(x=click_filtered, orientation=\"horizontal\")\n",
    "plt.yticks()\n",
    "plt.title(\"Total Clicks by Unique User Count\")\n",
    "plt.xlabel(\"Unique User Count with access to nominal list\")\n",
    "plt.ylabel(\"Total Clicks (bins of 100)\");"
   ]
  },
  {
   "cell_type": "code",
   "execution_count": 127,
   "metadata": {},
   "outputs": [],
   "source": [
    "click_filtered_nonzero = click_filtered.loc[click_filtered > 0]"
   ]
  },
  {
   "cell_type": "code",
   "execution_count": 128,
   "metadata": {},
   "outputs": [
    {
     "data": {
      "text/plain": [
       "np.float64(64.0525)"
      ]
     },
     "execution_count": 128,
     "metadata": {},
     "output_type": "execute_result"
    }
   ],
   "source": [
    "click_filtered_nonzero.mean()"
   ]
  },
  {
   "cell_type": "code",
   "execution_count": 129,
   "metadata": {},
   "outputs": [
    {
     "data": {
      "text/plain": [
       "np.float64(22.0)"
      ]
     },
     "execution_count": 129,
     "metadata": {},
     "output_type": "execute_result"
    }
   ],
   "source": [
    "click_filtered_nonzero.median()"
   ]
  },
  {
   "cell_type": "code",
   "execution_count": 130,
   "metadata": {},
   "outputs": [
    {
     "data": {
      "text/plain": [
       "0    1\n",
       "Name: total_click, dtype: int64"
      ]
     },
     "execution_count": 130,
     "metadata": {},
     "output_type": "execute_result"
    }
   ],
   "source": [
    "click_filtered_nonzero.mode()"
   ]
  },
  {
   "cell_type": "code",
   "execution_count": 131,
   "metadata": {},
   "outputs": [
    {
     "data": {
      "text/plain": [
       "np.int64(400)"
      ]
     },
     "execution_count": 131,
     "metadata": {},
     "output_type": "execute_result"
    }
   ],
   "source": [
    "click_filtered_nonzero.count()"
   ]
  },
  {
   "cell_type": "code",
   "execution_count": 132,
   "metadata": {},
   "outputs": [
    {
     "data": {
      "text/plain": [
       "400"
      ]
     },
     "execution_count": 132,
     "metadata": {},
     "output_type": "execute_result"
    }
   ],
   "source": [
    "len(click_filtered_nonzero)"
   ]
  },
  {
   "cell_type": "markdown",
   "metadata": {},
   "source": [
    "### Are there users who accessed the list and are bellow the mean ? "
   ]
  },
  {
   "cell_type": "code",
   "execution_count": 134,
   "metadata": {},
   "outputs": [
    {
     "data": {
      "text/plain": [
       "np.int64(565)"
      ]
     },
     "execution_count": 134,
     "metadata": {},
     "output_type": "execute_result"
    }
   ],
   "source": [
    "click_filtered.count()"
   ]
  },
  {
   "cell_type": "code",
   "execution_count": 234,
   "metadata": {},
   "outputs": [
    {
     "data": {
      "text/plain": [
       "np.int64(457)"
      ]
     },
     "execution_count": 234,
     "metadata": {},
     "output_type": "execute_result"
    }
   ],
   "source": [
    "below_64 = (click_filtered < click_filtered_nonzero.mean()).sum()\n",
    "below_64"
   ]
  },
  {
   "cell_type": "markdown",
   "metadata": {},
   "source": [
    "### Are there users with ZERO CLICKS? "
   ]
  },
  {
   "cell_type": "code",
   "execution_count": 236,
   "metadata": {},
   "outputs": [
    {
     "data": {
      "text/plain": [
       "np.int64(165)"
      ]
     },
     "execution_count": 236,
     "metadata": {},
     "output_type": "execute_result"
    }
   ],
   "source": [
    "zero_cliques = (click_filtered == 0).sum()\n",
    "zero_cliques"
   ]
  },
  {
   "cell_type": "code",
   "execution_count": 237,
   "metadata": {},
   "outputs": [
    {
     "name": "stdout",
     "output_type": "stream",
     "text": [
      "There are 292 UU who clicket 1 to 64\n"
     ]
    }
   ],
   "source": [
    "print(f'There are {below_64 - zero_cliques} UU who clicket 1 to 64')"
   ]
  },
  {
   "cell_type": "code",
   "execution_count": 239,
   "metadata": {},
   "outputs": [],
   "source": [
    "#Quais e quantos cargos?\n",
    "#Nivel Brasil, Qual Estado/municipio que mais acessou listas nominais?\n",
    "#Nivel Brasil, Qual cargo que mais acessou as listas nominais?\n",
    "#No Estado que mais se acessou, qual cargo?\n",
    "\n",
    "#quanto tempo , quem criou perfil e acessou as listas nomiais demorou para acessar?\n",
    "#desses, qual mix <24h e mix >24h?\n",
    "#Entendo ser crítico quem demorou mais de 24h para acessar as listas pois cai no esquecimento - nao podemos deixar isso acontecer\n",
    "#Criar um sistema automatizado para notificar por e-mail e WhatsApp que a pessoa criou a lista e para acessa-la\n",
    "\n",
    "#Por que?\n",
    "\n",
    "#Nivel Brasil, Qual Estado/municipio que MENOS acessou listas nominais?\n",
    "\n",
    "#Por que? Como incentivar maior uso nas listas nominais?\n",
    "\n",
    "#Ações: baixo custo e alto impacto: quem está acessando as listas nominais mas nao ta clicando?"
   ]
  },
  {
   "cell_type": "markdown",
   "metadata": {},
   "source": [
    "# JOB DONE ! 💪"
   ]
  },
  {
   "cell_type": "markdown",
   "metadata": {},
   "source": [
    "________________________________________________"
   ]
  },
  {
   "cell_type": "markdown",
   "metadata": {},
   "source": [
    "## Made by: Fernando Cirone.\n",
    "### Can I present to you? Let's chat 🤝\n",
    "#### [LinkInd](https://www.linkedin.com/in/fernandocirone/) | [GitHub](https://github.com/thecirocks) | [Portfolio](https://troopl.com/fernandocirone) | [E-mail](mailto:fernando.cirone@hotmail.com) | [WhatsApp](https://api.whatsapp.com/send?phone=5521984316148)"
   ]
  }
 ],
 "metadata": {
  "kernelspec": {
   "display_name": "sus",
   "language": "python",
   "name": "python3"
  },
  "language_info": {
   "codemirror_mode": {
    "name": "ipython",
    "version": 3
   },
   "file_extension": ".py",
   "mimetype": "text/x-python",
   "name": "python",
   "nbconvert_exporter": "python",
   "pygments_lexer": "ipython3",
   "version": "3.10.6"
  }
 },
 "nbformat": 4,
 "nbformat_minor": 2
}
